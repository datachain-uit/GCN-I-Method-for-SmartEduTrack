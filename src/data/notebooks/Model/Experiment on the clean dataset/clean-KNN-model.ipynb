{
 "cells": [
  {
   "cell_type": "code",
   "execution_count": 1,
   "id": "cb871b98",
   "metadata": {
    "execution": {
     "iopub.execute_input": "2024-12-20T10:51:00.324873Z",
     "iopub.status.busy": "2024-12-20T10:51:00.324458Z",
     "iopub.status.idle": "2024-12-20T10:51:00.332200Z",
     "shell.execute_reply": "2024-12-20T10:51:00.331197Z"
    },
    "papermill": {
     "duration": 0.016896,
     "end_time": "2024-12-20T10:51:00.333983",
     "exception": false,
     "start_time": "2024-12-20T10:51:00.317087",
     "status": "completed"
    },
    "tags": []
   },
   "outputs": [],
   "source": [
    "five_fold_files = {\n",
    "    \"week1\": [\n",
    "        \"/kaggle/input/new-clean-mooccubex/clean_week1/train/5-folds/data_part_1.csv\",\n",
    "        \"/kaggle/input/new-clean-mooccubex/clean_week1/train/5-folds/data_part_2.csv\",\n",
    "        \"/kaggle/input/new-clean-mooccubex/clean_week1/train/5-folds/data_part_3.csv\",\n",
    "        \"/kaggle/input/new-clean-mooccubex/clean_week1/train/5-folds/data_part_4.csv\",\n",
    "        \"/kaggle/input/new-clean-mooccubex/clean_week1/train/5-folds/data_part_5.csv\"\n",
    "    ],\n",
    "    \"week2\": [\n",
    "        \"/kaggle/input/new-clean-mooccubex/clean_week2/train/5-folds/data_part_1.csv\",\n",
    "        \"/kaggle/input/new-clean-mooccubex/clean_week2/train/5-folds/data_part_2.csv\",\n",
    "        \"/kaggle/input/new-clean-mooccubex/clean_week2/train/5-folds/data_part_3.csv\",\n",
    "        \"/kaggle/input/new-clean-mooccubex/clean_week2/train/5-folds/data_part_4.csv\",\n",
    "        \"/kaggle/input/new-clean-mooccubex/clean_week2/train/5-folds/data_part_5.csv\"\n",
    "    ],\n",
    "    \"week3\": [\n",
    "        \"/kaggle/input/new-clean-mooccubex/clean_week3/train/5-folds/data_part_1.csv\",\n",
    "        \"/kaggle/input/new-clean-mooccubex/clean_week3/train/5-folds/data_part_2.csv\",\n",
    "        \"/kaggle/input/new-clean-mooccubex/clean_week3/train/5-folds/data_part_3.csv\",\n",
    "        \"/kaggle/input/new-clean-mooccubex/clean_week3/train/5-folds/data_part_4.csv\",\n",
    "        \"/kaggle/input/new-clean-mooccubex/clean_week3/train/5-folds/data_part_5.csv\"\n",
    "    ],\n",
    "    \"week4\": [\n",
    "        \"/kaggle/input/new-clean-mooccubex/clean_week4/train/5-folds/data_part_1.csv\",\n",
    "        \"/kaggle/input/new-clean-mooccubex/clean_week4/train/5-folds/data_part_2.csv\",\n",
    "        \"/kaggle/input/new-clean-mooccubex/clean_week4/train/5-folds/data_part_3.csv\",\n",
    "        \"/kaggle/input/new-clean-mooccubex/clean_week4/train/5-folds/data_part_4.csv\",\n",
    "        \"/kaggle/input/new-clean-mooccubex/clean_week4/train/5-folds/data_part_5.csv\"\n",
    "    ]\n",
    "}\n",
    "\n",
    "file_validation = {\n",
    "    \"week1\": [\n",
    "        \"/kaggle/input/new-clean-mooccubex/clean_week1/val/val_week1.csv\"\n",
    "    ],\n",
    "    \"week2\": [\n",
    "        \"/kaggle/input/new-clean-mooccubex/clean_week2/val/val_week1_2.csv\"\n",
    "    ],\n",
    "    \"week3\": [\n",
    "        \"/kaggle/input/new-clean-mooccubex/clean_week3/val/val_week1_2_3.csv\"\n",
    "    ],\n",
    "    \"week4\": [\n",
    "        \"/kaggle/input/new-clean-mooccubex/clean_week4/val/val_week1_2_3_4.csv\"\n",
    "    ]\n",
    "}\n",
    "\n",
    "file_test = {\n",
    "    \"week1\": [\n",
    "        \"/kaggle/input/new-clean-mooccubex/clean_week1/test/test_week1.csv\"\n",
    "    ],\n",
    "    \"week2\": [\n",
    "        \"/kaggle/input/new-clean-mooccubex/clean_week1/test/test_week2.csv\"\n",
    "    ],\n",
    "    \"week3\": [\n",
    "        \"/kaggle/input/new-clean-mooccubex/clean_week1/test/test_week3.csv\"\n",
    "    ],\n",
    "    \"week4\": [\n",
    "        \"/kaggle/input/new-clean-mooccubex/clean_week1/test/test_week4.csv\"\n",
    "    ]\n",
    "}"
   ]
  },
  {
   "cell_type": "code",
   "execution_count": 2,
   "id": "14b56d6f",
   "metadata": {
    "execution": {
     "iopub.execute_input": "2024-12-20T10:51:00.346908Z",
     "iopub.status.busy": "2024-12-20T10:51:00.346506Z",
     "iopub.status.idle": "2024-12-20T10:51:02.851451Z",
     "shell.execute_reply": "2024-12-20T10:51:02.850177Z"
    },
    "papermill": {
     "duration": 2.512863,
     "end_time": "2024-12-20T10:51:02.853673",
     "exception": false,
     "start_time": "2024-12-20T10:51:00.340810",
     "status": "completed"
    },
    "tags": []
   },
   "outputs": [],
   "source": [
    "from imblearn.over_sampling import SMOTE\n",
    "from sklearn.model_selection import train_test_split\n",
    "import pandas as pd\n",
    "from sklearn.model_selection import GridSearchCV\n",
    "from sklearn.model_selection import StratifiedKFold\n",
    "import time\n",
    "from sklearn.preprocessing import StandardScaler\n",
    "from sklearn.metrics import accuracy_score, classification_report, confusion_matrix, precision_recall_fscore_support\n",
    "from sklearn.neighbors import KNeighborsClassifier\n",
    "import numpy as np"
   ]
  },
  {
   "cell_type": "markdown",
   "id": "b710f74c",
   "metadata": {
    "papermill": {
     "duration": 0.004324,
     "end_time": "2024-12-20T10:51:02.863178",
     "exception": false,
     "start_time": "2024-12-20T10:51:02.858854",
     "status": "completed"
    },
    "tags": []
   },
   "source": [
    "## Tìm siêu tham số tốt nhất cho từng tuần"
   ]
  },
  {
   "cell_type": "code",
   "execution_count": 3,
   "id": "e3a3ff2e",
   "metadata": {
    "execution": {
     "iopub.execute_input": "2024-12-20T10:51:02.874292Z",
     "iopub.status.busy": "2024-12-20T10:51:02.873666Z",
     "iopub.status.idle": "2024-12-20T10:51:02.882611Z",
     "shell.execute_reply": "2024-12-20T10:51:02.881375Z"
    },
    "papermill": {
     "duration": 0.016458,
     "end_time": "2024-12-20T10:51:02.884225",
     "exception": false,
     "start_time": "2024-12-20T10:51:02.867767",
     "status": "completed"
    },
    "tags": []
   },
   "outputs": [],
   "source": [
    "# Tạo hàm train cho từng tuần\n",
    "def train_week_model(week_number, file_paths_train, file_validataion):\n",
    "       # Đọc dữ liệu\n",
    "    train_data = pd.read_csv(file_paths_train)\n",
    "    val_data = pd.read_csv(file_validataion)\n",
    "    \n",
    "    # Tách đặc trưng và nhãn\n",
    "    X_train = train_data.drop(columns=[\"classification_encoded\", \"user_id\", \"course_id\", \"school\", \"enroll_time\", \"classification\"])\n",
    "    y_train = train_data[\"classification_encoded\"]\n",
    "\n",
    "    X_val = val_data.drop(columns=[\"classification_encoded\", \"user_id\", \"course_id\", \"school\", \"enroll_time\", \"classification\"])\n",
    "    y_val = val_data[\"classification_encoded\"]\n",
    "    \n",
    "    # Áp dụng Over-sampling cho dữ liệu huấn luyện bằng SMOTE\n",
    "    oversampler = SMOTE(sampling_strategy='auto', random_state=42)\n",
    "    X_train_res, y_train_res = oversampler.fit_resample(X_train, y_train)\n",
    "    \n",
    "    model = KNeighborsClassifier()\n",
    "       # # # Khởi tạo RandomSearch tuner\n",
    "    # param_grid = {\n",
    "    #     'n_estimators': [100, 200, 300],\n",
    "    #     'max_depth': [3, 5, 7],\n",
    "    #     'learning_rate': [0.05, 0.1, 0.2],\n",
    "    #     'num_leaves': [20, 30, 40],\n",
    "    #     'min_child_samples': [20, 30],\n",
    "    #     'subsample': [0.8, 1.0],\n",
    "    #     'colsample_bytree': [0.8, 1.0],\n",
    "    #     'reg_alpha': [0, 0.1],\n",
    "    #     'reg_lambda': [0, 0.1, 0.5]\n",
    "    # }\n",
    "    param_grid = {\n",
    "        'n_neighbors': [3, 5, 7, 9],  # Số lượng hàng xóm gần nhất\n",
    "        'weights': ['uniform', 'distance'],  # Trọng số cho hàng xóm\n",
    "        'metric': ['euclidean', 'manhattan', 'minkowski']  # Khoảng cách sử dụng\n",
    "    }\n",
    "        \n",
    "    # Khởi tạo RandomSearch tuner\n",
    "    grid_search = GridSearchCV(estimator=model, param_grid=param_grid, cv=10, scoring='accuracy',\n",
    "                              verbose=2, n_jobs=-1)\n",
    "        \n",
    "    \n",
    "   # Huấn luyện mô hình với các siêu tham số tốt nhất\n",
    "    grid_search.fit(X_train_res, y_train_res)\n",
    "\n",
    "    # Đánh giá mô hình\n",
    "    best_model = grid_search.best_estimator_\n",
    "    y_pred = best_model.predict(X_val)\n",
    "    # Trả về kết quả tối ưu cho tuần\n",
    "    best_params = grid_search.best_params_\n",
    "    return best_params"
   ]
  },
  {
   "cell_type": "code",
   "execution_count": 4,
   "id": "33cc15c1",
   "metadata": {
    "execution": {
     "iopub.execute_input": "2024-12-20T10:51:02.895492Z",
     "iopub.status.busy": "2024-12-20T10:51:02.895048Z",
     "iopub.status.idle": "2024-12-20T10:51:02.900086Z",
     "shell.execute_reply": "2024-12-20T10:51:02.898911Z"
    },
    "papermill": {
     "duration": 0.012949,
     "end_time": "2024-12-20T10:51:02.902188",
     "exception": false,
     "start_time": "2024-12-20T10:51:02.889239",
     "status": "completed"
    },
    "tags": []
   },
   "outputs": [],
   "source": [
    "# Định nghĩa đường dẫn đến dữ liệu cho từng tuần\n",
    "file_paths_train = {\n",
    "    \"week1\": \"/kaggle/input/new-clean-mooccubex/clean_week1/train/clean_data_week1.csv\",\n",
    "    \"week2\": \"/kaggle/input/new-clean-mooccubex/clean_week2/train/clean_data_week2.csv\",\n",
    "    \"week3\": \"/kaggle/input/new-clean-mooccubex/clean_week3/train/clean_data_week3.csv\",\n",
    "    \"week4\": \"/kaggle/input/new-clean-mooccubex/clean_week4/train/clean_data_week4.csv\"\n",
    "}\n",
    "\n",
    "file_validation = {\n",
    "    \"week1\": \"/kaggle/input/new-clean-mooccubex/clean_week1/val/val_week1.csv\",\n",
    "    \"week2\": \"/kaggle/input/new-clean-mooccubex/clean_week2/val/val_week1_2.csv\",\n",
    "    \"week3\": \"/kaggle/input/new-clean-mooccubex/clean_week3/val/val_week1_2_3.csv\",\n",
    "    \"week4\": \"/kaggle/input/new-clean-mooccubex/clean_week4/val/val_week1_2_3_4.csv\"\n",
    "}"
   ]
  },
  {
   "cell_type": "markdown",
   "id": "fdaeda82",
   "metadata": {
    "papermill": {
     "duration": 0.004325,
     "end_time": "2024-12-20T10:51:02.911529",
     "exception": false,
     "start_time": "2024-12-20T10:51:02.907204",
     "status": "completed"
    },
    "tags": []
   },
   "source": [
    "## Tham số tốt nhất cho từng tuần"
   ]
  },
  {
   "cell_type": "code",
   "execution_count": 5,
   "id": "dfb52029",
   "metadata": {
    "execution": {
     "iopub.execute_input": "2024-12-20T10:51:02.922493Z",
     "iopub.status.busy": "2024-12-20T10:51:02.922040Z",
     "iopub.status.idle": "2024-12-20T11:05:09.732697Z",
     "shell.execute_reply": "2024-12-20T11:05:09.731488Z"
    },
    "papermill": {
     "duration": 846.824542,
     "end_time": "2024-12-20T11:05:09.740724",
     "exception": false,
     "start_time": "2024-12-20T10:51:02.916182",
     "status": "completed"
    },
    "scrolled": true,
    "tags": []
   },
   "outputs": [
    {
     "name": "stdout",
     "output_type": "stream",
     "text": [
      "Fitting 10 folds for each of 24 candidates, totalling 240 fits\n",
      "Fitting 10 folds for each of 24 candidates, totalling 240 fits\n",
      "Fitting 10 folds for each of 24 candidates, totalling 240 fits\n",
      "Fitting 10 folds for each of 24 candidates, totalling 240 fits\n",
      "Best Parameters for Week 1:\n",
      "metric: manhattan\n",
      "n_neighbors: 3\n",
      "weights: distance\n",
      "\n",
      "Best Parameters for Week 2:\n",
      "metric: manhattan\n",
      "n_neighbors: 3\n",
      "weights: distance\n",
      "\n",
      "Best Parameters for Week 3:\n",
      "metric: manhattan\n",
      "n_neighbors: 3\n",
      "weights: distance\n",
      "\n",
      "Best Parameters for Week 4:\n",
      "metric: manhattan\n",
      "n_neighbors: 3\n",
      "weights: distance\n"
     ]
    }
   ],
   "source": [
    "# Tìm tham số tốt nhất cho từng tuần\n",
    "best_params_week1 = train_week_model(1, file_paths_train[\"week1\"], file_validation[\"week1\"])\n",
    "best_params_week2 = train_week_model(2, file_paths_train[\"week2\"], file_validation[\"week2\"])\n",
    "best_params_week3 = train_week_model(3, file_paths_train[\"week3\"], file_validation[\"week3\"])\n",
    "best_params_week4 = train_week_model(4, file_paths_train[\"week4\"], file_validation[\"week4\"])\n",
    "\n",
    "# In thông tin chi tiết các tham số tối ưu\n",
    "print(\"Best Parameters for Week 1:\")\n",
    "for param_name, param_value in best_params_week1.items():\n",
    "       print(f\"{param_name}: {param_value}\")\n",
    "\n",
    "print(\"\\nBest Parameters for Week 2:\")\n",
    "for param_name, param_value in best_params_week2.items():\n",
    "       print(f\"{param_name}: {param_value}\")\n",
    "\n",
    "print(\"\\nBest Parameters for Week 3:\")\n",
    "for param_name, param_value in best_params_week3.items():\n",
    "       print(f\"{param_name}: {param_value}\")\n",
    "\n",
    "print(\"\\nBest Parameters for Week 4:\")\n",
    "for param_name, param_value in best_params_week4.items():\n",
    "       print(f\"{param_name}: {param_value}\")"
   ]
  },
  {
   "cell_type": "code",
   "execution_count": 6,
   "id": "e2371688",
   "metadata": {
    "execution": {
     "iopub.execute_input": "2024-12-20T11:05:09.752536Z",
     "iopub.status.busy": "2024-12-20T11:05:09.751995Z",
     "iopub.status.idle": "2024-12-20T11:05:09.758154Z",
     "shell.execute_reply": "2024-12-20T11:05:09.756953Z"
    },
    "papermill": {
     "duration": 0.014232,
     "end_time": "2024-12-20T11:05:09.759957",
     "exception": false,
     "start_time": "2024-12-20T11:05:09.745725",
     "status": "completed"
    },
    "tags": []
   },
   "outputs": [],
   "source": [
    "# Danh sách tham số tốt nhất\n",
    "best_params = {\n",
    "    \"week1\": best_params_week1,\n",
    "    \"week2\": best_params_week2,\n",
    "    \"week3\": best_params_week3,\n",
    "    \"week4\": best_params_week4\n",
    "}"
   ]
  },
  {
   "cell_type": "markdown",
   "id": "c15895cd",
   "metadata": {
    "papermill": {
     "duration": 0.004758,
     "end_time": "2024-12-20T11:05:09.769849",
     "exception": false,
     "start_time": "2024-12-20T11:05:09.765091",
     "status": "completed"
    },
    "tags": []
   },
   "source": [
    "## KNN với các tham sốt nhất cho mỗi tuần"
   ]
  },
  {
   "cell_type": "code",
   "execution_count": 7,
   "id": "6879280e",
   "metadata": {
    "execution": {
     "iopub.execute_input": "2024-12-20T11:05:09.781206Z",
     "iopub.status.busy": "2024-12-20T11:05:09.780867Z",
     "iopub.status.idle": "2024-12-20T11:05:19.870471Z",
     "shell.execute_reply": "2024-12-20T11:05:19.869411Z"
    },
    "papermill": {
     "duration": 10.097225,
     "end_time": "2024-12-20T11:05:19.872017",
     "exception": false,
     "start_time": "2024-12-20T11:05:09.774792",
     "status": "completed"
    },
    "scrolled": true,
    "tags": []
   },
   "outputs": [
    {
     "name": "stdout",
     "output_type": "stream",
     "text": [
      "\n",
      "Processing week1 with best parameters...\n",
      "best parameters for week1: {'metric': 'manhattan', 'n_neighbors': 3, 'weights': 'distance'}\n",
      "Fold 1: Using file /kaggle/input/new-clean-mooccubex/clean_week1/train/5-folds/data_part_1.csv as test set\n",
      "Fold 2: Using file /kaggle/input/new-clean-mooccubex/clean_week1/train/5-folds/data_part_2.csv as test set\n",
      "Fold 3: Using file /kaggle/input/new-clean-mooccubex/clean_week1/train/5-folds/data_part_3.csv as test set\n",
      "Fold 4: Using file /kaggle/input/new-clean-mooccubex/clean_week1/train/5-folds/data_part_4.csv as test set\n",
      "Fold 5: Using file /kaggle/input/new-clean-mooccubex/clean_week1/train/5-folds/data_part_5.csv as test set\n",
      "\n",
      "=== Average Precision, Recall, F1-Score per Label ===\n",
      "   Label  Average Precision  Average Recall  Average F1-Score\n",
      "0      0           0.904733        0.915000          0.909713\n",
      "1      1           0.844259        0.778422          0.809309\n",
      "2      2           0.830336        0.790761          0.809164\n",
      "3      3           0.867486        0.819162          0.842192\n",
      "4      4           0.952356        0.962206          0.957252\n",
      "\n",
      "=== Average Confusion Matrix ===\n",
      "       0     1      2      3       4\n",
      "0  549.0   3.4    5.4    3.4    38.8\n",
      "1    5.4  68.2    1.8    2.6     9.6\n",
      "2   12.4   1.6  130.0    5.8    14.6\n",
      "3    4.4   2.2    9.4  136.8    14.2\n",
      "4   35.8   5.6   10.0    9.2  1542.8\n",
      "\n",
      "Processing week2 with best parameters...\n",
      "best parameters for week2: {'metric': 'manhattan', 'n_neighbors': 3, 'weights': 'distance'}\n",
      "Fold 1: Using file /kaggle/input/new-clean-mooccubex/clean_week2/train/5-folds/data_part_1.csv as test set\n",
      "Fold 2: Using file /kaggle/input/new-clean-mooccubex/clean_week2/train/5-folds/data_part_2.csv as test set\n",
      "Fold 3: Using file /kaggle/input/new-clean-mooccubex/clean_week2/train/5-folds/data_part_3.csv as test set\n",
      "Fold 4: Using file /kaggle/input/new-clean-mooccubex/clean_week2/train/5-folds/data_part_4.csv as test set\n",
      "Fold 5: Using file /kaggle/input/new-clean-mooccubex/clean_week2/train/5-folds/data_part_5.csv as test set\n",
      "\n",
      "=== Average Precision, Recall, F1-Score per Label ===\n",
      "   Label  Average Precision  Average Recall  Average F1-Score\n",
      "0      0           0.923630        0.940333          0.931841\n",
      "1      1           0.867290        0.814995          0.839768\n",
      "2      2           0.844526        0.828418          0.835832\n",
      "3      3           0.926672        0.869461          0.896752\n",
      "4      4           0.968958        0.973432          0.971189\n",
      "\n",
      "=== Average Confusion Matrix ===\n",
      "       0     1      2      3       4\n",
      "0  564.2   2.8    7.4    2.4    23.2\n",
      "1    5.2  71.4    1.8    1.2     8.0\n",
      "2   13.8   2.4  136.2    2.6     9.4\n",
      "3    4.4   1.0    7.0  145.2     9.4\n",
      "4   23.4   4.8    9.0    5.4  1560.8\n",
      "\n",
      "Processing week3 with best parameters...\n",
      "best parameters for week3: {'metric': 'manhattan', 'n_neighbors': 3, 'weights': 'distance'}\n",
      "Fold 1: Using file /kaggle/input/new-clean-mooccubex/clean_week3/train/5-folds/data_part_1.csv as test set\n",
      "Fold 2: Using file /kaggle/input/new-clean-mooccubex/clean_week3/train/5-folds/data_part_2.csv as test set\n",
      "Fold 3: Using file /kaggle/input/new-clean-mooccubex/clean_week3/train/5-folds/data_part_3.csv as test set\n",
      "Fold 4: Using file /kaggle/input/new-clean-mooccubex/clean_week3/train/5-folds/data_part_4.csv as test set\n",
      "Fold 5: Using file /kaggle/input/new-clean-mooccubex/clean_week3/train/5-folds/data_part_5.csv as test set\n",
      "\n",
      "=== Average Precision, Recall, F1-Score per Label ===\n",
      "   Label  Average Precision  Average Recall  Average F1-Score\n",
      "0      0           0.942642        0.951333          0.946937\n",
      "1      1           0.881153        0.819514          0.848657\n",
      "2      2           0.856950        0.849113          0.852680\n",
      "3      3           0.930952        0.883832          0.906552\n",
      "4      4           0.971123        0.977298          0.974200\n",
      "\n",
      "=== Average Confusion Matrix ===\n",
      "       0     1      2      3       4\n",
      "0  570.8   1.4    5.8    1.8    20.2\n",
      "1    4.0  71.8    2.4    1.2     8.2\n",
      "2    9.0   2.2  139.6    3.0    10.6\n",
      "3    4.2   1.4    6.2  147.6     7.6\n",
      "4   17.6   4.8    9.0    5.0  1567.0\n",
      "\n",
      "Processing week4 with best parameters...\n",
      "best parameters for week4: {'metric': 'manhattan', 'n_neighbors': 3, 'weights': 'distance'}\n",
      "Fold 1: Using file /kaggle/input/new-clean-mooccubex/clean_week4/train/5-folds/data_part_1.csv as test set\n",
      "Fold 2: Using file /kaggle/input/new-clean-mooccubex/clean_week4/train/5-folds/data_part_2.csv as test set\n",
      "Fold 3: Using file /kaggle/input/new-clean-mooccubex/clean_week4/train/5-folds/data_part_3.csv as test set\n",
      "Fold 4: Using file /kaggle/input/new-clean-mooccubex/clean_week4/train/5-folds/data_part_4.csv as test set\n",
      "Fold 5: Using file /kaggle/input/new-clean-mooccubex/clean_week4/train/5-folds/data_part_5.csv as test set\n",
      "\n",
      "=== Average Precision, Recall, F1-Score per Label ===\n",
      "   Label  Average Precision  Average Recall  Average F1-Score\n",
      "0      0           0.944389        0.960667          0.952412\n",
      "1      1           0.893735        0.837800          0.864304\n",
      "2      2           0.869439        0.855188          0.861962\n",
      "3      3           0.938727        0.893413          0.915245\n",
      "4      4           0.976765        0.980167          0.978459\n",
      "\n",
      "=== Average Confusion Matrix ===\n",
      "       0     1      2      3       4\n",
      "0  576.4   1.4    5.0    1.6    15.6\n",
      "1    3.8  73.4    2.2    1.0     7.2\n",
      "2   10.2   2.6  140.6    2.8     8.2\n",
      "3    4.2   0.8    6.4  149.2     6.4\n",
      "4   15.8   4.0    7.6    4.4  1571.6\n"
     ]
    }
   ],
   "source": [
    "# Biến lưu kết quả tổng quát\n",
    "overall_results_5folds = []\n",
    "\n",
    "# Lặp qua từng tuần\n",
    "for week, file_paths in five_fold_files.items():\n",
    "    print(f\"\\nProcessing {week} with best parameters...\")\n",
    "    params = best_params[week]\n",
    "    print(f\"best parameters for {week}: {params}\")\n",
    "    \n",
    "    # Biến lưu kết quả cho từng tuần\n",
    "    week_results = {\n",
    "        \"week\": week,\n",
    "        \"accuracy_per_fold\": [],\n",
    "        \"precision_per_label\": [],\n",
    "        \"recall_per_label\": [],\n",
    "        \"f1_score_per_label\": [],\n",
    "        \"confusion_matrices\": [],\n",
    "        \"train_times\": [],\n",
    "        \"test_times\": []\n",
    "    }\n",
    "\n",
    "    # Lặp qua từng fold\n",
    "    for i in range(len(file_paths)):\n",
    "        print(f\"Fold {i+1}: Using file {file_paths[i]} as test set\")\n",
    "        \n",
    "        # Tải dữ liệu\n",
    "        test_data = pd.read_csv(file_paths[i])\n",
    "        train_data = pd.concat([pd.read_csv(file_paths[j]) for j in range(len(file_paths)) if j != i])\n",
    "        \n",
    "        # Tách X và y\n",
    "        X_train = train_data.drop(columns=[\"classification_encoded\", \"user_id\",\n",
    "                                           \"course_id\", \"school\", \"enroll_time\", \"classification\"])\n",
    "        y_train = train_data['classification_encoded']\n",
    "        \n",
    "        X_test = test_data.drop(columns=[\"classification_encoded\", \"user_id\",\n",
    "                                         \"course_id\", \"school\", \"enroll_time\", \"classification\"])\n",
    "        y_test = test_data['classification_encoded']\n",
    "\n",
    "\n",
    "        # Xây dựng mô hình với tham số tốt nhất\n",
    "        model = KNeighborsClassifier(**params)\n",
    "        \n",
    "        # Bắt đầu tính thời gian huấn luyện\n",
    "        start_train = time.time()\n",
    "        model.fit(X_train, y_train)\n",
    "        end_train = time.time()\n",
    "        \n",
    "        # Bắt đầu tính thời gian kiểm thử\n",
    "        start_test = time.time()\n",
    "        y_pred = model.predict(X_test)\n",
    "        end_test = time.time()\n",
    "        \n",
    "        # Tính thời gian và lưu lại\n",
    "        train_time = end_train - start_train\n",
    "        test_time = end_test - start_test\n",
    "        week_results[\"train_times\"].append(train_time)\n",
    "        week_results[\"test_times\"].append(test_time)\n",
    "\n",
    "        # Đánh giá mô hình trên tập kiểm thử của fold hiện tại\n",
    "        accuracy = accuracy_score(y_test, y_pred)\n",
    "        week_results[\"accuracy_per_fold\"].append(accuracy)\n",
    "        # Dự đoán\n",
    "\n",
    "        \n",
    "        # Tính các chỉ số cho mỗi fold\n",
    "        precision, recall, f1, _ = precision_recall_fscore_support(y_test, y_pred, average=None)\n",
    "        conf_matrix = confusion_matrix(y_test, y_pred)\n",
    "        \n",
    "        week_results[\"precision_per_label\"].append(precision)\n",
    "        week_results[\"recall_per_label\"].append(recall)\n",
    "        week_results[\"f1_score_per_label\"].append(f1)\n",
    "        week_results[\"confusion_matrices\"].append(conf_matrix)\n",
    "\n",
    "    # Tính trung bình cho từng nhãn\n",
    "    average_precision_per_label = np.mean(week_results[\"precision_per_label\"], axis=0)\n",
    "    average_recall_per_label = np.mean(week_results[\"recall_per_label\"], axis=0)\n",
    "    average_f1_per_label = np.mean(week_results[\"f1_score_per_label\"], axis=0)\n",
    "    average_confusion_matrix = np.mean(week_results[\"confusion_matrices\"], axis=0)\n",
    "    average_train_time = sum(week_results[\"train_times\"]) / len(week_results[\"train_times\"])\n",
    "    average_test_time = sum(week_results[\"test_times\"]) / len(week_results[\"test_times\"])\n",
    "    \n",
    "    # Tạo DataFrame cho precision, recall, f1-score\n",
    "    labels = np.unique(y_test)  # Lấy nhãn từ y_test_classes\n",
    "    metrics_df = pd.DataFrame({\n",
    "        \"Label\": labels,\n",
    "        \"Average Precision\": average_precision_per_label,\n",
    "        \"Average Recall\": average_recall_per_label,\n",
    "        \"Average F1-Score\": average_f1_per_label\n",
    "    })\n",
    "    \n",
    "    # Tạo DataFrame cho confusion matrix|\n",
    "    confusion_df = pd.DataFrame(average_confusion_matrix, index=labels, columns=labels)\n",
    "    \n",
    "    # In kết quả\n",
    "    print(\"\\n=== Average Precision, Recall, F1-Score per Label ===\")\n",
    "    print(metrics_df)\n",
    "    print(\"\\n=== Average Confusion Matrix ===\")\n",
    "    print(confusion_df)\n",
    "\n",
    "    # Lưu kết quả tuần vào kết quả tổng quát\n",
    "    week_results[\"average_train_times\"] = average_train_time\n",
    "    week_results[\"average_test_times\"] = average_test_time\n",
    "    week_results[\"average_metrics_df\"] = metrics_df\n",
    "    week_results[\"average_confusion_matrix\"] = confusion_df\n",
    "    overall_results_5folds.append(week_results)"
   ]
  },
  {
   "cell_type": "markdown",
   "id": "1e20a8fb",
   "metadata": {
    "papermill": {
     "duration": 0.005677,
     "end_time": "2024-12-20T11:05:19.884162",
     "exception": false,
     "start_time": "2024-12-20T11:05:19.878485",
     "status": "completed"
    },
    "tags": []
   },
   "source": [
    "## Kết quả 5-folds"
   ]
  },
  {
   "cell_type": "code",
   "execution_count": 8,
   "id": "6a91e4dc",
   "metadata": {
    "execution": {
     "iopub.execute_input": "2024-12-20T11:05:19.898145Z",
     "iopub.status.busy": "2024-12-20T11:05:19.897663Z",
     "iopub.status.idle": "2024-12-20T11:05:19.930921Z",
     "shell.execute_reply": "2024-12-20T11:05:19.929111Z"
    },
    "papermill": {
     "duration": 0.042622,
     "end_time": "2024-12-20T11:05:19.932786",
     "exception": false,
     "start_time": "2024-12-20T11:05:19.890164",
     "status": "completed"
    },
    "tags": []
   },
   "outputs": [
    {
     "name": "stdout",
     "output_type": "stream",
     "text": [
      "\n",
      "=== Results for week1 ===\n",
      "Average Train Time: 0.0151 seconds\n",
      "Average Test Time: 0.0405 seconds\n",
      "\n",
      "Average Precision, Recall, F1-Score per Label:\n",
      "   Label  Average Precision  Average Recall  Average F1-Score\n",
      "0      0           0.904733        0.915000          0.909713\n",
      "1      1           0.844259        0.778422          0.809309\n",
      "2      2           0.830336        0.790761          0.809164\n",
      "3      3           0.867486        0.819162          0.842192\n",
      "4      4           0.952356        0.962206          0.957252\n",
      "\n",
      "Average Confusion Matrix:\n",
      "       0     1      2      3       4\n",
      "0  549.0   3.4    5.4    3.4    38.8\n",
      "1    5.4  68.2    1.8    2.6     9.6\n",
      "2   12.4   1.6  130.0    5.8    14.6\n",
      "3    4.4   2.2    9.4  136.8    14.2\n",
      "4   35.8   5.6   10.0    9.2  1542.8\n",
      "\n",
      "=== Results for week2 ===\n",
      "Average Train Time: 0.0036 seconds\n",
      "Average Test Time: 0.3600 seconds\n",
      "\n",
      "Average Precision, Recall, F1-Score per Label:\n",
      "   Label  Average Precision  Average Recall  Average F1-Score\n",
      "0      0           0.923630        0.940333          0.931841\n",
      "1      1           0.867290        0.814995          0.839768\n",
      "2      2           0.844526        0.828418          0.835832\n",
      "3      3           0.926672        0.869461          0.896752\n",
      "4      4           0.968958        0.973432          0.971189\n",
      "\n",
      "Average Confusion Matrix:\n",
      "       0     1      2      3       4\n",
      "0  564.2   2.8    7.4    2.4    23.2\n",
      "1    5.2  71.4    1.8    1.2     8.0\n",
      "2   13.8   2.4  136.2    2.6     9.4\n",
      "3    4.4   1.0    7.0  145.2     9.4\n",
      "4   23.4   4.8    9.0    5.4  1560.8\n",
      "\n",
      "=== Results for week3 ===\n",
      "Average Train Time: 0.0041 seconds\n",
      "Average Test Time: 0.4662 seconds\n",
      "\n",
      "Average Precision, Recall, F1-Score per Label:\n",
      "   Label  Average Precision  Average Recall  Average F1-Score\n",
      "0      0           0.942642        0.951333          0.946937\n",
      "1      1           0.881153        0.819514          0.848657\n",
      "2      2           0.856950        0.849113          0.852680\n",
      "3      3           0.930952        0.883832          0.906552\n",
      "4      4           0.971123        0.977298          0.974200\n",
      "\n",
      "Average Confusion Matrix:\n",
      "       0     1      2      3       4\n",
      "0  570.8   1.4    5.8    1.8    20.2\n",
      "1    4.0  71.8    2.4    1.2     8.2\n",
      "2    9.0   2.2  139.6    3.0    10.6\n",
      "3    4.2   1.4    6.2  147.6     7.6\n",
      "4   17.6   4.8    9.0    5.0  1567.0\n",
      "\n",
      "=== Results for week4 ===\n",
      "Average Train Time: 0.0044 seconds\n",
      "Average Test Time: 0.5917 seconds\n",
      "\n",
      "Average Precision, Recall, F1-Score per Label:\n",
      "   Label  Average Precision  Average Recall  Average F1-Score\n",
      "0      0           0.944389        0.960667          0.952412\n",
      "1      1           0.893735        0.837800          0.864304\n",
      "2      2           0.869439        0.855188          0.861962\n",
      "3      3           0.938727        0.893413          0.915245\n",
      "4      4           0.976765        0.980167          0.978459\n",
      "\n",
      "Average Confusion Matrix:\n",
      "       0     1      2      3       4\n",
      "0  576.4   1.4    5.0    1.6    15.6\n",
      "1    3.8  73.4    2.2    1.0     7.2\n",
      "2   10.2   2.6  140.6    2.8     8.2\n",
      "3    4.2   0.8    6.4  149.2     6.4\n",
      "4   15.8   4.0    7.6    4.4  1571.6\n"
     ]
    }
   ],
   "source": [
    "# Duyệt qua các tuần trong overall_results\n",
    "for week_result in overall_results_5folds:\n",
    "    week = week_result[\"week\"]\n",
    "    average_train_time = np.mean(week_result[\"train_times\"])\n",
    "    average_test_time = np.mean(week_result[\"test_times\"])\n",
    "    average_metrics_df = week_result[\"average_metrics_df\"]\n",
    "    average_confusion_matrix = week_result[\"average_confusion_matrix\"]\n",
    "    \n",
    "    # In kết quả\n",
    "    print(f\"\\n=== Results for {week} ===\")\n",
    "    print(f\"Average Train Time: {average_train_time:.4f} seconds\")\n",
    "    print(f\"Average Test Time: {average_test_time:.4f} seconds\")\n",
    "    print(\"\\nAverage Precision, Recall, F1-Score per Label:\")\n",
    "    print(average_metrics_df)\n",
    "    print(\"\\nAverage Confusion Matrix:\")\n",
    "    print(average_confusion_matrix)\n"
   ]
  },
  {
   "cell_type": "markdown",
   "id": "0ac56cdb",
   "metadata": {
    "papermill": {
     "duration": 0.006776,
     "end_time": "2024-12-20T11:05:19.946065",
     "exception": false,
     "start_time": "2024-12-20T11:05:19.939289",
     "status": "completed"
    },
    "tags": []
   },
   "source": [
    "## Test trên tập test"
   ]
  },
  {
   "cell_type": "code",
   "execution_count": 9,
   "id": "9445ddfe",
   "metadata": {
    "execution": {
     "iopub.execute_input": "2024-12-20T11:05:19.960409Z",
     "iopub.status.busy": "2024-12-20T11:05:19.959967Z",
     "iopub.status.idle": "2024-12-20T11:05:19.970894Z",
     "shell.execute_reply": "2024-12-20T11:05:19.969676Z"
    },
    "papermill": {
     "duration": 0.020067,
     "end_time": "2024-12-20T11:05:19.972557",
     "exception": false,
     "start_time": "2024-12-20T11:05:19.952490",
     "status": "completed"
    },
    "tags": []
   },
   "outputs": [],
   "source": [
    "# Mảng lưu dữ liệu của các tuần\n",
    "results = []\n",
    "\n",
    "def process_week(week_num, best_params, results):\n",
    "    print(f\"\\n=== Processing Week {week_num} ===\")\n",
    "    params = best_params[week]\n",
    "    # Đường dẫn tới dữ liệu tuần tương ứng\n",
    "    train_path = f\"/kaggle/input/new-clean-mooccubex/clean_week{week_num}/train/clean_data_week{week_num}.csv\"\n",
    "    test_path = f\"/kaggle/input/new-clean-mooccubex/clean_week{week_num}/test/test_week{week_num}.csv\"\n",
    "    \n",
    "    # Load dữ liệu\n",
    "    train_data = pd.read_csv(train_path)\n",
    "    test_data = pd.read_csv(test_path)\n",
    "    \n",
    "    # Tách X và y\n",
    "    X_train = train_data.drop(columns=[\"classification_encoded\", \"user_id\",\n",
    "                                       \"course_id\", \"school\", \"enroll_time\", \"classification\"])\n",
    "    y_train = train_data['classification_encoded']\n",
    "    \n",
    "    X_test = test_data.drop(columns=[\"classification_encoded\", \"user_id\",\n",
    "                                     \"course_id\", \"school\", \"enroll_time\", \"classification\"])\n",
    "    y_test = test_data['classification_encoded']\n",
    "\n",
    "    # Áp dụng SMOTE cho tập huấn luyện\n",
    "    smote = SMOTE(random_state=42)\n",
    "    X_train_resampled, y_train_resampled = smote.fit_resample(X_train, y_train)\n",
    "\n",
    "    # Xây dựng mô hình với tham số tốt nhất\n",
    "    model = KNeighborsClassifier(**params)\n",
    "    \n",
    "    # Huấn luyện mô hình\n",
    "    start_train = time.time()\n",
    "    model.fit(X_train, y_train)\n",
    "    end_train = time.time()\n",
    "    \n",
    "    # Kiểm thử mô hình\n",
    "    start_test = time.time()\n",
    "    y_pred = model.predict(X_test)\n",
    "    end_test = time.time()\n",
    "    \n",
    "    # Tính thời gian huấn luyện và kiểm thử\n",
    "    train_time = end_train - start_train\n",
    "    test_time = end_test - start_test\n",
    "    \n",
    "    \n",
    "    precision, recall, f1, _ = precision_recall_fscore_support(y_test, y_pred, average=None)\n",
    "    conf_matrix = confusion_matrix(y_test, y_pred)\n",
    "    \n",
    "    # Lưu kết quả vào mảng\n",
    "    results.append({\n",
    "        \"week\": week_num,\n",
    "        \"train_time\": train_time,\n",
    "        \"test_time\": test_time,\n",
    "        \"precision\": precision,\n",
    "        \"recall\": recall,\n",
    "        \"f1_score\": f1,\n",
    "        \"confusion_matrix\": conf_matrix\n",
    "    })\n",
    "    \n",
    "    print(\"\\n=== Precision, Recall, F1-Score per Label ===\")\n",
    "    print(pd.DataFrame({\n",
    "        \"Label\": np.unique(y_test),\n",
    "        \"Precision\": precision,\n",
    "        \"Recall\": recall,\n",
    "        \"F1-Score\": f1\n",
    "    }))\n",
    "    print(\"\\n=== Confusion Matrix ===\")\n",
    "    print(pd.DataFrame(conf_matrix, index=np.unique(y_test), columns=np.unique(y_test)))\n",
    "    \n",
    "    print(f\"\\nTrain Time: {train_time:.2f} seconds\")\n",
    "    print(f\"Test Time: {test_time:.2f} seconds\")"
   ]
  },
  {
   "cell_type": "code",
   "execution_count": 10,
   "id": "b79d59d0",
   "metadata": {
    "execution": {
     "iopub.execute_input": "2024-12-20T11:05:19.987280Z",
     "iopub.status.busy": "2024-12-20T11:05:19.986761Z",
     "iopub.status.idle": "2024-12-20T11:05:20.207835Z",
     "shell.execute_reply": "2024-12-20T11:05:20.206440Z"
    },
    "papermill": {
     "duration": 0.231074,
     "end_time": "2024-12-20T11:05:20.210101",
     "exception": false,
     "start_time": "2024-12-20T11:05:19.979027",
     "status": "completed"
    },
    "scrolled": true,
    "tags": []
   },
   "outputs": [
    {
     "name": "stdout",
     "output_type": "stream",
     "text": [
      "\n",
      "=== Processing Week 1 ===\n",
      "\n",
      "=== Precision, Recall, F1-Score per Label ===\n",
      "   Label  Precision    Recall  F1-Score\n",
      "0      0   0.885000  0.944000  0.913548\n",
      "1      1   0.728814  0.796296  0.761062\n",
      "2      2   0.780952  0.796117  0.788462\n",
      "3      3   0.821053  0.742857  0.780000\n",
      "4      4   0.967380  0.946162  0.956653\n",
      "\n",
      "=== Confusion Matrix ===\n",
      "     0   1   2   3    4\n",
      "0  354   3   7   2    9\n",
      "1    3  43   2   1    5\n",
      "2    7   2  82   7    5\n",
      "3    3   3   8  78   13\n",
      "4   33   8   6   7  949\n",
      "\n",
      "Train Time: 0.02 seconds\n",
      "Test Time: 0.03 seconds\n"
     ]
    }
   ],
   "source": [
    "process_week(1, best_params, results)"
   ]
  },
  {
   "cell_type": "code",
   "execution_count": 11,
   "id": "a9558e42",
   "metadata": {
    "execution": {
     "iopub.execute_input": "2024-12-20T11:05:20.225439Z",
     "iopub.status.busy": "2024-12-20T11:05:20.225071Z",
     "iopub.status.idle": "2024-12-20T11:05:20.705952Z",
     "shell.execute_reply": "2024-12-20T11:05:20.703706Z"
    },
    "papermill": {
     "duration": 0.490775,
     "end_time": "2024-12-20T11:05:20.708053",
     "exception": false,
     "start_time": "2024-12-20T11:05:20.217278",
     "status": "completed"
    },
    "scrolled": true,
    "tags": []
   },
   "outputs": [
    {
     "name": "stdout",
     "output_type": "stream",
     "text": [
      "\n",
      "=== Processing Week 2 ===\n",
      "\n",
      "=== Precision, Recall, F1-Score per Label ===\n",
      "   Label  Precision    Recall  F1-Score\n",
      "0      0   0.901515  0.952000  0.926070\n",
      "1      1   0.814815  0.814815  0.814815\n",
      "2      2   0.819048  0.834951  0.826923\n",
      "3      3   0.934783  0.819048  0.873096\n",
      "4      4   0.971803  0.962114  0.966934\n",
      "\n",
      "=== Confusion Matrix ===\n",
      "     0   1   2   3    4\n",
      "0  357   1   6   2    9\n",
      "1    4  44   1   0    5\n",
      "2    8   1  86   2    6\n",
      "3    4   1   6  86    8\n",
      "4   23   7   6   2  965\n",
      "\n",
      "Train Time: 0.00 seconds\n",
      "Test Time: 0.27 seconds\n"
     ]
    }
   ],
   "source": [
    "process_week(2, best_params, results)"
   ]
  },
  {
   "cell_type": "code",
   "execution_count": 12,
   "id": "d9fea156",
   "metadata": {
    "execution": {
     "iopub.execute_input": "2024-12-20T11:05:20.722726Z",
     "iopub.status.busy": "2024-12-20T11:05:20.722307Z",
     "iopub.status.idle": "2024-12-20T11:05:21.340227Z",
     "shell.execute_reply": "2024-12-20T11:05:21.338542Z"
    },
    "papermill": {
     "duration": 0.627151,
     "end_time": "2024-12-20T11:05:21.342130",
     "exception": false,
     "start_time": "2024-12-20T11:05:20.714979",
     "status": "completed"
    },
    "scrolled": true,
    "tags": []
   },
   "outputs": [
    {
     "name": "stdout",
     "output_type": "stream",
     "text": [
      "\n",
      "=== Processing Week 3 ===\n",
      "\n",
      "=== Precision, Recall, F1-Score per Label ===\n",
      "   Label  Precision    Recall  F1-Score\n",
      "0      0   0.915601  0.954667  0.934726\n",
      "1      1   0.818182  0.833333  0.825688\n",
      "2      2   0.851485  0.834951  0.843137\n",
      "3      3   0.917526  0.847619  0.881188\n",
      "4      4   0.972892  0.966102  0.969485\n",
      "\n",
      "=== Confusion Matrix ===\n",
      "     0   1   2   3    4\n",
      "0  358   1   6   2    8\n",
      "1    2  45   1   0    6\n",
      "2    8   1  86   4    4\n",
      "3    2   1   4  89    9\n",
      "4   21   7   4   2  969\n",
      "\n",
      "Train Time: 0.00 seconds\n",
      "Test Time: 0.35 seconds\n"
     ]
    }
   ],
   "source": [
    "process_week(3, best_params, results)"
   ]
  },
  {
   "cell_type": "code",
   "execution_count": 13,
   "id": "f8068935",
   "metadata": {
    "execution": {
     "iopub.execute_input": "2024-12-20T11:05:21.356727Z",
     "iopub.status.busy": "2024-12-20T11:05:21.356360Z",
     "iopub.status.idle": "2024-12-20T11:05:22.083629Z",
     "shell.execute_reply": "2024-12-20T11:05:22.082252Z"
    },
    "papermill": {
     "duration": 0.736337,
     "end_time": "2024-12-20T11:05:22.085149",
     "exception": false,
     "start_time": "2024-12-20T11:05:21.348812",
     "status": "completed"
    },
    "scrolled": true,
    "tags": []
   },
   "outputs": [
    {
     "name": "stdout",
     "output_type": "stream",
     "text": [
      "\n",
      "=== Processing Week 4 ===\n",
      "\n",
      "=== Precision, Recall, F1-Score per Label ===\n",
      "   Label  Precision    Recall  F1-Score\n",
      "0      0   0.923274  0.962667  0.942559\n",
      "1      1   0.836364  0.851852  0.844037\n",
      "2      2   0.862745  0.854369  0.858537\n",
      "3      3   0.937500  0.857143  0.895522\n",
      "4      4   0.977912  0.971087  0.974487\n",
      "\n",
      "=== Confusion Matrix ===\n",
      "     0   1   2   3    4\n",
      "0  361   0   4   2    8\n",
      "1    2  46   2   0    4\n",
      "2    7   2  88   3    3\n",
      "3    3   1   4  90    7\n",
      "4   18   6   4   1  974\n",
      "\n",
      "Train Time: 0.00 seconds\n",
      "Test Time: 0.44 seconds\n"
     ]
    }
   ],
   "source": [
    "process_week(4, best_params, results)"
   ]
  },
  {
   "cell_type": "code",
   "execution_count": 14,
   "id": "583850a7",
   "metadata": {
    "execution": {
     "iopub.execute_input": "2024-12-20T11:05:22.100559Z",
     "iopub.status.busy": "2024-12-20T11:05:22.100103Z",
     "iopub.status.idle": "2024-12-20T11:05:22.116228Z",
     "shell.execute_reply": "2024-12-20T11:05:22.114948Z"
    },
    "papermill": {
     "duration": 0.026381,
     "end_time": "2024-12-20T11:05:22.118322",
     "exception": false,
     "start_time": "2024-12-20T11:05:22.091941",
     "status": "completed"
    },
    "tags": []
   },
   "outputs": [
    {
     "name": "stdout",
     "output_type": "stream",
     "text": [
      "\n",
      "=== Summary Results for All Weeks ===\n",
      "Week 1:\n",
      "  Train Time: 0.02 seconds\n",
      "  Test Time: 0.03 seconds\n",
      "  Precision: [0.885      0.72881356 0.78095238 0.82105263 0.96738022]\n",
      "  Recall: [0.944      0.7962963  0.7961165  0.74285714 0.94616152]\n",
      "  F1-Score: [0.91354839 0.76106195 0.78846154 0.78       0.95665323]\n",
      "  Confusion Matrix:\n",
      "[[354   3   7   2   9]\n",
      " [  3  43   2   1   5]\n",
      " [  7   2  82   7   5]\n",
      " [  3   3   8  78  13]\n",
      " [ 33   8   6   7 949]]\n",
      "Week 2:\n",
      "  Train Time: 0.00 seconds\n",
      "  Test Time: 0.27 seconds\n",
      "  Precision: [0.90151515 0.81481481 0.81904762 0.93478261 0.97180262]\n",
      "  Recall: [0.952      0.81481481 0.83495146 0.81904762 0.96211366]\n",
      "  F1-Score: [0.92607004 0.81481481 0.82692308 0.87309645 0.96693387]\n",
      "  Confusion Matrix:\n",
      "[[357   1   6   2   9]\n",
      " [  4  44   1   0   5]\n",
      " [  8   1  86   2   6]\n",
      " [  4   1   6  86   8]\n",
      " [ 23   7   6   2 965]]\n",
      "Week 3:\n",
      "  Train Time: 0.00 seconds\n",
      "  Test Time: 0.35 seconds\n",
      "  Precision: [0.91560102 0.81818182 0.85148515 0.91752577 0.97289157]\n",
      "  Recall: [0.95466667 0.83333333 0.83495146 0.84761905 0.96610169]\n",
      "  F1-Score: [0.93472585 0.82568807 0.84313725 0.88118812 0.96948474]\n",
      "  Confusion Matrix:\n",
      "[[358   1   6   2   8]\n",
      " [  2  45   1   0   6]\n",
      " [  8   1  86   4   4]\n",
      " [  2   1   4  89   9]\n",
      " [ 21   7   4   2 969]]\n",
      "Week 4:\n",
      "  Train Time: 0.00 seconds\n",
      "  Test Time: 0.44 seconds\n",
      "  Precision: [0.92327366 0.83636364 0.8627451  0.9375     0.97791165]\n",
      "  Recall: [0.96266667 0.85185185 0.85436893 0.85714286 0.97108674]\n",
      "  F1-Score: [0.94255875 0.8440367  0.85853659 0.89552239 0.97448724]\n",
      "  Confusion Matrix:\n",
      "[[361   0   4   2   8]\n",
      " [  2  46   2   0   4]\n",
      " [  7   2  88   3   3]\n",
      " [  3   1   4  90   7]\n",
      " [ 18   6   4   1 974]]\n"
     ]
    }
   ],
   "source": [
    "# Hiển thị dữ liệu của các tuần\n",
    "print(\"\\n=== Summary Results for All Weeks ===\")\n",
    "for result in results:\n",
    "    print(f\"Week {result['week']}:\")\n",
    "    print(f\"  Train Time: {result['train_time']:.2f} seconds\")\n",
    "    print(f\"  Test Time: {result['test_time']:.2f} seconds\")\n",
    "    print(f\"  Precision: {result['precision']}\")\n",
    "    print(f\"  Recall: {result['recall']}\")\n",
    "    print(f\"  F1-Score: {result['f1_score']}\")\n",
    "    print(f\"  Confusion Matrix:\\n{result['confusion_matrix']}\")"
   ]
  },
  {
   "cell_type": "code",
   "execution_count": null,
   "id": "945f08f7",
   "metadata": {
    "papermill": {
     "duration": 0.006975,
     "end_time": "2024-12-20T11:05:22.132721",
     "exception": false,
     "start_time": "2024-12-20T11:05:22.125746",
     "status": "completed"
    },
    "tags": []
   },
   "outputs": [],
   "source": []
  }
 ],
 "metadata": {
  "kaggle": {
   "accelerator": "none",
   "dataSources": [
    {
     "datasetId": 6328310,
     "sourceId": 10238263,
     "sourceType": "datasetVersion"
    },
    {
     "datasetId": 6342752,
     "sourceId": 10253909,
     "sourceType": "datasetVersion"
    }
   ],
   "isGpuEnabled": false,
   "isInternetEnabled": true,
   "language": "python",
   "sourceType": "notebook"
  },
  "kernelspec": {
   "display_name": "Python 3",
   "language": "python",
   "name": "python3"
  },
  "language_info": {
   "codemirror_mode": {
    "name": "ipython",
    "version": 3
   },
   "file_extension": ".py",
   "mimetype": "text/x-python",
   "name": "python",
   "nbconvert_exporter": "python",
   "pygments_lexer": "ipython3",
   "version": "3.10.12"
  },
  "papermill": {
   "default_parameters": {},
   "duration": 865.105842,
   "end_time": "2024-12-20T11:05:23.065636",
   "environment_variables": {},
   "exception": null,
   "input_path": "__notebook__.ipynb",
   "output_path": "__notebook__.ipynb",
   "parameters": {},
   "start_time": "2024-12-20T10:50:57.959794",
   "version": "2.6.0"
  }
 },
 "nbformat": 4,
 "nbformat_minor": 5
}
