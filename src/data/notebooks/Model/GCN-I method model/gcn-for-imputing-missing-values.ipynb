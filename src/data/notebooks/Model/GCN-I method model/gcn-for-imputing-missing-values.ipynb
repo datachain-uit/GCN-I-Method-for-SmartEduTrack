{
 "cells": [
  {
   "cell_type": "code",
   "execution_count": 1,
   "id": "f466757b",
   "metadata": {
    "_cell_guid": "b1076dfc-b9ad-4769-8c92-a6c4dae69d19",
    "_uuid": "8f2839f25d086af736a60e9eeb907d3b93b6e0e5",
    "execution": {
     "iopub.execute_input": "2025-03-27T02:09:49.800823Z",
     "iopub.status.busy": "2025-03-27T02:09:49.800571Z",
     "iopub.status.idle": "2025-03-27T02:09:51.438827Z",
     "shell.execute_reply": "2025-03-27T02:09:51.437841Z"
    },
    "papermill": {
     "duration": 1.646687,
     "end_time": "2025-03-27T02:09:51.440899",
     "exception": false,
     "start_time": "2025-03-27T02:09:49.794212",
     "status": "completed"
    },
    "tags": []
   },
   "outputs": [
    {
     "name": "stdout",
     "output_type": "stream",
     "text": [
      "/kaggle/input/active_users.csv\n",
      "/kaggle/input/clean_raw_data_version3_mean_minmax.csv\n"
     ]
    }
   ],
   "source": [
    "# This Python 3 environment comes with many helpful analytics libraries installed\n",
    "# It is defined by the kaggle/python Docker image: https://github.com/kaggle/docker-python\n",
    "# For example, here's several helpful packages to load\n",
    "\n",
    "import numpy as np # linear algebra\n",
    "import pandas as pd # data processing, CSV file I/O (e.g. pd.read_csv)\n",
    "\n",
    "# Input data files are available in the read-only \"../input/\" directory\n",
    "# For example, running this (by clicking run or pressing Shift+Enter) will list all files under the input directory\n",
    "\n",
    "import os\n",
    "for dirname, _, filenames in os.walk('/kaggle/input'):\n",
    "    for filename in filenames:\n",
    "        print(os.path.join(dirname, filename))\n",
    "\n",
    "# You can write up to 20GB to the current directory (/kaggle/working/) that gets preserved as output when you create a version using \"Save & Run All\" \n",
    "# You can also write temporary files to /kaggle/temp/, but they won't be saved outside of the current session"
   ]
  },
  {
   "cell_type": "markdown",
   "id": "824ce1cb",
   "metadata": {
    "papermill": {
     "duration": 0.004164,
     "end_time": "2025-03-27T02:09:51.450115",
     "exception": false,
     "start_time": "2025-03-27T02:09:51.445951",
     "status": "completed"
    },
    "tags": []
   },
   "source": [
    "## Install libraries"
   ]
  },
  {
   "cell_type": "code",
   "execution_count": 2,
   "id": "c3a66cb3",
   "metadata": {
    "collapsed": true,
    "execution": {
     "iopub.execute_input": "2025-03-27T02:09:51.460480Z",
     "iopub.status.busy": "2025-03-27T02:09:51.460178Z",
     "iopub.status.idle": "2025-03-27T02:10:08.234226Z",
     "shell.execute_reply": "2025-03-27T02:10:08.233125Z"
    },
    "jupyter": {
     "outputs_hidden": true
    },
    "papermill": {
     "duration": 16.781598,
     "end_time": "2025-03-27T02:10:08.236183",
     "exception": false,
     "start_time": "2025-03-27T02:09:51.454585",
     "status": "completed"
    },
    "tags": []
   },
   "outputs": [
    {
     "name": "stdout",
     "output_type": "stream",
     "text": [
      "Collecting torch-geometric\r\n"
     ]
    },
    {
     "name": "stdout",
     "output_type": "stream",
     "text": [
      "  Downloading torch_geometric-2.6.1-py3-none-any.whl (1.1 MB)\r\n",
      "\u001b[?25l     \u001b[90m━━━━━━━━━━━━━━━━━━━━━━━━━━━━━━━━━━━━━━━━\u001b[0m \u001b[32m0.0/1.1 MB\u001b[0m \u001b[31m?\u001b[0m eta \u001b[36m-:--:--\u001b[0m\r\n",
      "\u001b[2K     \u001b[91m━━━━━━━━\u001b[0m\u001b[91m╸\u001b[0m\u001b[90m━━━━━━━━━━━━━━━━━━━━━━━━━━━━━━━\u001b[0m \u001b[32m0.2/1.1 MB\u001b[0m \u001b[31m7.4 MB/s\u001b[0m eta \u001b[36m0:00:01\u001b[0m"
     ]
    },
    {
     "name": "stdout",
     "output_type": "stream",
     "text": [
      "\r\n",
      "\u001b[2K     \u001b[91m━━━━━━━━━━━━━━━━━━━━━━━━━━━━━━━━━━━━━━━\u001b[0m\u001b[91m╸\u001b[0m \u001b[32m1.1/1.1 MB\u001b[0m \u001b[31m20.5 MB/s\u001b[0m eta \u001b[36m0:00:01\u001b[0m\r\n",
      "\u001b[2K     \u001b[90m━━━━━━━━━━━━━━━━━━━━━━━━━━━━━━━━━━━━━━━━\u001b[0m \u001b[32m1.1/1.1 MB\u001b[0m \u001b[31m14.5 MB/s\u001b[0m eta \u001b[36m0:00:00\u001b[0m\r\n",
      "\u001b[?25h"
     ]
    },
    {
     "name": "stdout",
     "output_type": "stream",
     "text": [
      "Requirement already satisfied: numpy in /usr/local/lib/python3.10/site-packages (from torch-geometric) (2.0.2)\r\n",
      "Requirement already satisfied: psutil>=5.8.0 in /usr/local/lib/python3.10/site-packages (from torch-geometric) (6.1.1)\r\n",
      "Requirement already satisfied: jinja2 in /usr/local/lib/python3.10/site-packages (from torch-geometric) (3.1.5)\r\n",
      "Requirement already satisfied: pyparsing in /usr/local/lib/python3.10/site-packages (from torch-geometric) (3.2.1)\r\n",
      "Requirement already satisfied: requests in /usr/local/lib/python3.10/site-packages (from torch-geometric) (2.32.3)\r\n",
      "Requirement already satisfied: fsspec in /usr/local/lib/python3.10/site-packages (from torch-geometric) (2025.2.0)\r\n"
     ]
    },
    {
     "name": "stdout",
     "output_type": "stream",
     "text": [
      "Collecting aiohttp\r\n",
      "  Downloading aiohttp-3.11.14-cp310-cp310-manylinux_2_17_x86_64.manylinux2014_x86_64.whl (1.6 MB)\r\n",
      "\u001b[?25l     \u001b[90m━━━━━━━━━━━━━━━━━━━━━━━━━━━━━━━━━━━━━━━━\u001b[0m \u001b[32m0.0/1.6 MB\u001b[0m \u001b[31m?\u001b[0m eta \u001b[36m-:--:--\u001b[0m"
     ]
    },
    {
     "name": "stdout",
     "output_type": "stream",
     "text": [
      "\r\n",
      "\u001b[2K     \u001b[91m━━━━━━━━━━━━━━━━━━━━━━━━━━━━━━━━━━━━━━━\u001b[0m\u001b[91m╸\u001b[0m \u001b[32m1.6/1.6 MB\u001b[0m \u001b[31m146.2 MB/s\u001b[0m eta \u001b[36m0:00:01\u001b[0m\r\n",
      "\u001b[2K     \u001b[90m━━━━━━━━━━━━━━━━━━━━━━━━━━━━━━━━━━━━━━━━\u001b[0m \u001b[32m1.6/1.6 MB\u001b[0m \u001b[31m45.1 MB/s\u001b[0m eta \u001b[36m0:00:00\u001b[0m\r\n",
      "\u001b[?25hRequirement already satisfied: tqdm in /usr/local/lib/python3.10/site-packages (from torch-geometric) (4.67.1)\r\n"
     ]
    },
    {
     "name": "stdout",
     "output_type": "stream",
     "text": [
      "Collecting aiosignal>=1.1.2\r\n"
     ]
    },
    {
     "name": "stdout",
     "output_type": "stream",
     "text": [
      "  Downloading aiosignal-1.3.2-py2.py3-none-any.whl (7.6 kB)\r\n"
     ]
    },
    {
     "name": "stdout",
     "output_type": "stream",
     "text": [
      "Collecting async-timeout<6.0,>=4.0\r\n",
      "  Downloading async_timeout-5.0.1-py3-none-any.whl (6.2 kB)\r\n"
     ]
    },
    {
     "name": "stdout",
     "output_type": "stream",
     "text": [
      "Collecting frozenlist>=1.1.1\r\n",
      "  Downloading frozenlist-1.5.0-cp310-cp310-manylinux_2_5_x86_64.manylinux1_x86_64.manylinux_2_17_x86_64.manylinux2014_x86_64.whl (241 kB)\r\n"
     ]
    },
    {
     "name": "stdout",
     "output_type": "stream",
     "text": [
      "\u001b[?25l     \u001b[90m━━━━━━━━━━━━━━━━━━━━━━━━━━━━━━━━━━━━━━━━\u001b[0m \u001b[32m0.0/241.9 kB\u001b[0m \u001b[31m?\u001b[0m eta \u001b[36m-:--:--\u001b[0m\r\n",
      "\u001b[2K     \u001b[90m━━━━━━━━━━━━━━━━━━━━━━━━━━━━━━━━━━━━━━\u001b[0m \u001b[32m241.9/241.9 kB\u001b[0m \u001b[31m16.7 MB/s\u001b[0m eta \u001b[36m0:00:00\u001b[0m\r\n",
      "\u001b[?25hRequirement already satisfied: attrs>=17.3.0 in /usr/local/lib/python3.10/site-packages (from aiohttp->torch-geometric) (25.1.0)\r\n"
     ]
    },
    {
     "name": "stdout",
     "output_type": "stream",
     "text": [
      "Collecting propcache>=0.2.0\r\n"
     ]
    },
    {
     "name": "stdout",
     "output_type": "stream",
     "text": [
      "  Downloading propcache-0.3.1-cp310-cp310-manylinux_2_17_x86_64.manylinux2014_x86_64.whl (206 kB)\r\n",
      "\u001b[?25l     \u001b[90m━━━━━━━━━━━━━━━━━━━━━━━━━━━━━━━━━━━━━━━━\u001b[0m \u001b[32m0.0/206.6 kB\u001b[0m \u001b[31m?\u001b[0m eta \u001b[36m-:--:--\u001b[0m\r\n",
      "\u001b[2K     \u001b[90m━━━━━━━━━━━━━━━━━━━━━━━━━━━━━━━━━━━━━━\u001b[0m \u001b[32m206.6/206.6 kB\u001b[0m \u001b[31m18.8 MB/s\u001b[0m eta \u001b[36m0:00:00\u001b[0m\r\n",
      "\u001b[?25h"
     ]
    },
    {
     "name": "stdout",
     "output_type": "stream",
     "text": [
      "Collecting yarl<2.0,>=1.17.0\r\n"
     ]
    },
    {
     "name": "stdout",
     "output_type": "stream",
     "text": [
      "  Downloading yarl-1.18.3-cp310-cp310-manylinux_2_17_x86_64.manylinux2014_x86_64.whl (319 kB)\r\n",
      "\u001b[?25l     \u001b[90m━━━━━━━━━━━━━━━━━━━━━━━━━━━━━━━━━━━━━━━━\u001b[0m \u001b[32m0.0/319.7 kB\u001b[0m \u001b[31m?\u001b[0m eta \u001b[36m-:--:--\u001b[0m\r\n",
      "\u001b[2K     \u001b[90m━━━━━━━━━━━━━━━━━━━━━━━━━━━━━━━━━━━━━━\u001b[0m \u001b[32m319.7/319.7 kB\u001b[0m \u001b[31m18.0 MB/s\u001b[0m eta \u001b[36m0:00:00\u001b[0m\r\n",
      "\u001b[?25h"
     ]
    },
    {
     "name": "stdout",
     "output_type": "stream",
     "text": [
      "Collecting aiohappyeyeballs>=2.3.0\r\n"
     ]
    },
    {
     "name": "stdout",
     "output_type": "stream",
     "text": [
      "  Downloading aiohappyeyeballs-2.6.1-py3-none-any.whl (15 kB)\r\n",
      "Requirement already satisfied: multidict<7.0,>=4.5 in /usr/local/lib/python3.10/site-packages (from aiohttp->torch-geometric) (6.1.0)\r\n"
     ]
    },
    {
     "name": "stdout",
     "output_type": "stream",
     "text": [
      "Requirement already satisfied: MarkupSafe>=2.0 in /usr/local/lib/python3.10/site-packages (from jinja2->torch-geometric) (3.0.2)\r\n"
     ]
    },
    {
     "name": "stdout",
     "output_type": "stream",
     "text": [
      "Requirement already satisfied: charset-normalizer<4,>=2 in /usr/local/lib/python3.10/site-packages (from requests->torch-geometric) (3.4.1)\r\n",
      "Requirement already satisfied: urllib3<3,>=1.21.1 in /usr/local/lib/python3.10/site-packages (from requests->torch-geometric) (2.3.0)\r\n",
      "Requirement already satisfied: idna<4,>=2.5 in /usr/local/lib/python3.10/site-packages (from requests->torch-geometric) (3.10)\r\n",
      "Requirement already satisfied: certifi>=2017.4.17 in /usr/local/lib/python3.10/site-packages (from requests->torch-geometric) (2025.1.31)\r\n"
     ]
    },
    {
     "name": "stdout",
     "output_type": "stream",
     "text": [
      "Requirement already satisfied: typing-extensions>=4.1.0 in /usr/local/lib/python3.10/site-packages (from multidict<7.0,>=4.5->aiohttp->torch-geometric) (4.12.2)\r\n"
     ]
    },
    {
     "name": "stdout",
     "output_type": "stream",
     "text": [
      "Installing collected packages: propcache, frozenlist, async-timeout, aiohappyeyeballs, yarl, aiosignal, aiohttp, torch-geometric\r\n"
     ]
    },
    {
     "name": "stdout",
     "output_type": "stream",
     "text": [
      "Successfully installed aiohappyeyeballs-2.6.1 aiohttp-3.11.14 aiosignal-1.3.2 async-timeout-5.0.1 frozenlist-1.5.0 propcache-0.3.1 torch-geometric-2.6.1 yarl-1.18.3\r\n",
      "\u001b[33mWARNING: Running pip as the 'root' user can result in broken permissions and conflicting behaviour with the system package manager. It is recommended to use a virtual environment instead: https://pip.pypa.io/warnings/venv\u001b[0m\u001b[33m\r\n",
      "\u001b[0m"
     ]
    },
    {
     "name": "stdout",
     "output_type": "stream",
     "text": [
      "\r\n",
      "\u001b[1m[\u001b[0m\u001b[34;49mnotice\u001b[0m\u001b[1;39;49m]\u001b[0m\u001b[39;49m A new release of pip is available: \u001b[0m\u001b[31;49m23.0.1\u001b[0m\u001b[39;49m -> \u001b[0m\u001b[32;49m25.0.1\u001b[0m\r\n",
      "\u001b[1m[\u001b[0m\u001b[34;49mnotice\u001b[0m\u001b[1;39;49m]\u001b[0m\u001b[39;49m To update, run: \u001b[0m\u001b[32;49mpip install --upgrade pip\u001b[0m\r\n"
     ]
    },
    {
     "name": "stdout",
     "output_type": "stream",
     "text": [
      "Collecting optuna\r\n"
     ]
    },
    {
     "name": "stdout",
     "output_type": "stream",
     "text": [
      "  Downloading optuna-4.2.1-py3-none-any.whl (383 kB)\r\n",
      "\u001b[?25l     \u001b[90m━━━━━━━━━━━━━━━━━━━━━━━━━━━━━━━━━━━━━━━━\u001b[0m \u001b[32m0.0/383.6 kB\u001b[0m \u001b[31m?\u001b[0m eta \u001b[36m-:--:--\u001b[0m\r\n",
      "\u001b[2K     \u001b[91m━━━━━━━━━━━━━━━━━━━━━━━━\u001b[0m\u001b[91m╸\u001b[0m\u001b[90m━━━━━━━━━━━━━━\u001b[0m \u001b[32m245.8/383.6 kB\u001b[0m \u001b[31m7.1 MB/s\u001b[0m eta \u001b[36m0:00:01\u001b[0m"
     ]
    },
    {
     "name": "stdout",
     "output_type": "stream",
     "text": [
      "\r\n",
      "\u001b[2K     \u001b[90m━━━━━━━━━━━━━━━━━━━━━━━━━━━━━━━━━━━━━━━\u001b[0m \u001b[32m383.6/383.6 kB\u001b[0m \u001b[31m6.8 MB/s\u001b[0m eta \u001b[36m0:00:00\u001b[0m\r\n",
      "\u001b[?25h"
     ]
    },
    {
     "name": "stdout",
     "output_type": "stream",
     "text": [
      "Collecting colorlog\r\n",
      "  Downloading colorlog-6.9.0-py3-none-any.whl (11 kB)\r\n"
     ]
    },
    {
     "name": "stdout",
     "output_type": "stream",
     "text": [
      "Collecting alembic>=1.5.0\r\n",
      "  Downloading alembic-1.15.1-py3-none-any.whl (231 kB)\r\n",
      "\u001b[?25l     \u001b[90m━━━━━━━━━━━━━━━━━━━━━━━━━━━━━━━━━━━━━━━━\u001b[0m \u001b[32m0.0/231.8 kB\u001b[0m \u001b[31m?\u001b[0m eta \u001b[36m-:--:--\u001b[0m"
     ]
    },
    {
     "name": "stdout",
     "output_type": "stream",
     "text": [
      "\r\n",
      "\u001b[2K     \u001b[90m━━━━━━━━━━━━━━━━━━━━━━━━━━━━━━━━━━━━━━\u001b[0m \u001b[32m231.8/231.8 kB\u001b[0m \u001b[31m20.4 MB/s\u001b[0m eta \u001b[36m0:00:00\u001b[0m\r\n",
      "\u001b[?25hRequirement already satisfied: packaging>=20.0 in /usr/local/lib/python3.10/site-packages (from optuna) (24.2)\r\n",
      "Requirement already satisfied: numpy in /usr/local/lib/python3.10/site-packages (from optuna) (2.0.2)\r\n",
      "Requirement already satisfied: PyYAML in /usr/local/lib/python3.10/site-packages (from optuna) (6.0.2)\r\n",
      "Requirement already satisfied: tqdm in /usr/local/lib/python3.10/site-packages (from optuna) (4.67.1)\r\n"
     ]
    },
    {
     "name": "stdout",
     "output_type": "stream",
     "text": [
      "Collecting sqlalchemy>=1.4.2\r\n"
     ]
    },
    {
     "name": "stdout",
     "output_type": "stream",
     "text": [
      "  Downloading sqlalchemy-2.0.39-cp310-cp310-manylinux_2_17_x86_64.manylinux2014_x86_64.whl (3.1 MB)\r\n",
      "\u001b[?25l     \u001b[90m━━━━━━━━━━━━━━━━━━━━━━━━━━━━━━━━━━━━━━━━\u001b[0m \u001b[32m0.0/3.1 MB\u001b[0m \u001b[31m?\u001b[0m eta \u001b[36m-:--:--\u001b[0m\r\n",
      "\u001b[2K     \u001b[91m━━━━━━━━━━━━━━━━━━━━━━━━━━━━━━━━━━━━━━━\u001b[0m\u001b[91m╸\u001b[0m \u001b[32m3.1/3.1 MB\u001b[0m \u001b[31m95.0 MB/s\u001b[0m eta \u001b[36m0:00:01\u001b[0m"
     ]
    },
    {
     "name": "stdout",
     "output_type": "stream",
     "text": [
      "\r\n",
      "\u001b[2K     \u001b[90m━━━━━━━━━━━━━━━━━━━━━━━━━━━━━━━━━━━━━━━━\u001b[0m \u001b[32m3.1/3.1 MB\u001b[0m \u001b[31m48.3 MB/s\u001b[0m eta \u001b[36m0:00:00\u001b[0m\r\n",
      "\u001b[?25h"
     ]
    },
    {
     "name": "stdout",
     "output_type": "stream",
     "text": [
      "Collecting Mako\r\n",
      "  Downloading Mako-1.3.9-py3-none-any.whl (78 kB)\r\n",
      "\u001b[?25l     \u001b[90m━━━━━━━━━━━━━━━━━━━━━━━━━━━━━━━━━━━━━━━━\u001b[0m \u001b[32m0.0/78.5 kB\u001b[0m \u001b[31m?\u001b[0m eta \u001b[36m-:--:--\u001b[0m\r\n",
      "\u001b[2K     \u001b[90m━━━━━━━━━━━━━━━━━━━━━━━━━━━━━━━━━━━━━━━━\u001b[0m \u001b[32m78.5/78.5 kB\u001b[0m \u001b[31m7.2 MB/s\u001b[0m eta \u001b[36m0:00:00\u001b[0m\r\n",
      "\u001b[?25hRequirement already satisfied: typing-extensions>=4.12 in /usr/local/lib/python3.10/site-packages (from alembic>=1.5.0->optuna) (4.12.2)\r\n"
     ]
    },
    {
     "name": "stdout",
     "output_type": "stream",
     "text": [
      "Collecting greenlet!=0.4.17\r\n",
      "  Downloading greenlet-3.1.1-cp310-cp310-manylinux_2_24_x86_64.manylinux_2_28_x86_64.whl (599 kB)\r\n",
      "\u001b[?25l     \u001b[90m━━━━━━━━━━━━━━━━━━━━━━━━━━━━━━━━━━━━━━━━\u001b[0m \u001b[32m0.0/599.5 kB\u001b[0m \u001b[31m?\u001b[0m eta \u001b[36m-:--:--\u001b[0m\r\n",
      "\u001b[2K     \u001b[90m━━━━━━━━━━━━━━━━━━━━━━━━━━━━━━━━━━━━━━\u001b[0m \u001b[32m599.5/599.5 kB\u001b[0m \u001b[31m33.3 MB/s\u001b[0m eta \u001b[36m0:00:00\u001b[0m\r\n",
      "\u001b[?25h"
     ]
    },
    {
     "name": "stdout",
     "output_type": "stream",
     "text": [
      "Requirement already satisfied: MarkupSafe>=0.9.2 in /usr/local/lib/python3.10/site-packages (from Mako->alembic>=1.5.0->optuna) (3.0.2)\r\n"
     ]
    },
    {
     "name": "stdout",
     "output_type": "stream",
     "text": [
      "Installing collected packages: Mako, greenlet, colorlog, sqlalchemy, alembic, optuna\r\n"
     ]
    },
    {
     "name": "stdout",
     "output_type": "stream",
     "text": [
      "Successfully installed Mako-1.3.9 alembic-1.15.1 colorlog-6.9.0 greenlet-3.1.1 optuna-4.2.1 sqlalchemy-2.0.39\r\n",
      "\u001b[33mWARNING: Running pip as the 'root' user can result in broken permissions and conflicting behaviour with the system package manager. It is recommended to use a virtual environment instead: https://pip.pypa.io/warnings/venv\u001b[0m\u001b[33m\r\n",
      "\u001b[0m\r\n",
      "\u001b[1m[\u001b[0m\u001b[34;49mnotice\u001b[0m\u001b[1;39;49m]\u001b[0m\u001b[39;49m A new release of pip is available: \u001b[0m\u001b[31;49m23.0.1\u001b[0m\u001b[39;49m -> \u001b[0m\u001b[32;49m25.0.1\u001b[0m\r\n",
      "\u001b[1m[\u001b[0m\u001b[34;49mnotice\u001b[0m\u001b[1;39;49m]\u001b[0m\u001b[39;49m To update, run: \u001b[0m\u001b[32;49mpip install --upgrade pip\u001b[0m\r\n"
     ]
    }
   ],
   "source": [
    "!pip install torch-geometric\n",
    "!pip install optuna"
   ]
  },
  {
   "cell_type": "markdown",
   "id": "9a7fa1b6",
   "metadata": {
    "papermill": {
     "duration": 0.006399,
     "end_time": "2025-03-27T02:10:08.249090",
     "exception": false,
     "start_time": "2025-03-27T02:10:08.242691",
     "status": "completed"
    },
    "tags": []
   },
   "source": [
    "## Read dataset"
   ]
  },
  {
   "cell_type": "code",
   "execution_count": 3,
   "id": "b7e34ecb",
   "metadata": {
    "execution": {
     "iopub.execute_input": "2025-03-27T02:10:08.263014Z",
     "iopub.status.busy": "2025-03-27T02:10:08.262729Z",
     "iopub.status.idle": "2025-03-27T02:10:08.409327Z",
     "shell.execute_reply": "2025-03-27T02:10:08.408287Z"
    },
    "papermill": {
     "duration": 0.155762,
     "end_time": "2025-03-27T02:10:08.410813",
     "exception": false,
     "start_time": "2025-03-27T02:10:08.255051",
     "status": "completed"
    },
    "tags": []
   },
   "outputs": [
    {
     "data": {
      "text/html": [
       "<div>\n",
       "<style scoped>\n",
       "    .dataframe tbody tr th:only-of-type {\n",
       "        vertical-align: middle;\n",
       "    }\n",
       "\n",
       "    .dataframe tbody tr th {\n",
       "        vertical-align: top;\n",
       "    }\n",
       "\n",
       "    .dataframe thead th {\n",
       "        text-align: right;\n",
       "    }\n",
       "</style>\n",
       "<table border=\"1\" class=\"dataframe\">\n",
       "  <thead>\n",
       "    <tr style=\"text-align: right;\">\n",
       "      <th></th>\n",
       "      <th>user_id</th>\n",
       "      <th>course_id</th>\n",
       "      <th>gender</th>\n",
       "      <th>school</th>\n",
       "      <th>enroll_time</th>\n",
       "      <th>comment_count_week1</th>\n",
       "      <th>reply_count_week1</th>\n",
       "      <th>questions_done_week1</th>\n",
       "      <th>attempts_count_week1</th>\n",
       "      <th>correct_answers_week1</th>\n",
       "      <th>...</th>\n",
       "      <th>reply_count_week4</th>\n",
       "      <th>questions_done_week4</th>\n",
       "      <th>attempts_count_week4</th>\n",
       "      <th>correct_answers_week4</th>\n",
       "      <th>total_score_week4</th>\n",
       "      <th>user_watching_time_week4</th>\n",
       "      <th>classification</th>\n",
       "      <th>classification_encoded</th>\n",
       "      <th>school_encoded</th>\n",
       "      <th>course_id_encoded</th>\n",
       "    </tr>\n",
       "  </thead>\n",
       "  <tbody>\n",
       "    <tr>\n",
       "      <th>0</th>\n",
       "      <td>U_1001413</td>\n",
       "      <td>C_735164</td>\n",
       "      <td>0.0</td>\n",
       "      <td>昆明理工大学</td>\n",
       "      <td>2020-11-26 23:40:08</td>\n",
       "      <td>NaN</td>\n",
       "      <td>NaN</td>\n",
       "      <td>156.0</td>\n",
       "      <td>164.0</td>\n",
       "      <td>155.0</td>\n",
       "      <td>...</td>\n",
       "      <td>NaN</td>\n",
       "      <td>NaN</td>\n",
       "      <td>NaN</td>\n",
       "      <td>NaN</td>\n",
       "      <td>NaN</td>\n",
       "      <td>NaN</td>\n",
       "      <td>A</td>\n",
       "      <td>0</td>\n",
       "      <td>476</td>\n",
       "      <td>138</td>\n",
       "    </tr>\n",
       "    <tr>\n",
       "      <th>1</th>\n",
       "      <td>U_1001522</td>\n",
       "      <td>C_735164</td>\n",
       "      <td>0.0</td>\n",
       "      <td>昆明理工大学</td>\n",
       "      <td>2020-12-01 11:11:06</td>\n",
       "      <td>NaN</td>\n",
       "      <td>NaN</td>\n",
       "      <td>156.0</td>\n",
       "      <td>156.0</td>\n",
       "      <td>156.0</td>\n",
       "      <td>...</td>\n",
       "      <td>NaN</td>\n",
       "      <td>NaN</td>\n",
       "      <td>NaN</td>\n",
       "      <td>NaN</td>\n",
       "      <td>NaN</td>\n",
       "      <td>NaN</td>\n",
       "      <td>A</td>\n",
       "      <td>0</td>\n",
       "      <td>476</td>\n",
       "      <td>138</td>\n",
       "    </tr>\n",
       "    <tr>\n",
       "      <th>2</th>\n",
       "      <td>U_1001694</td>\n",
       "      <td>C_735164</td>\n",
       "      <td>0.0</td>\n",
       "      <td>昆明理工大学</td>\n",
       "      <td>2020-11-18 19:49:32</td>\n",
       "      <td>NaN</td>\n",
       "      <td>NaN</td>\n",
       "      <td>NaN</td>\n",
       "      <td>NaN</td>\n",
       "      <td>NaN</td>\n",
       "      <td>...</td>\n",
       "      <td>NaN</td>\n",
       "      <td>NaN</td>\n",
       "      <td>NaN</td>\n",
       "      <td>NaN</td>\n",
       "      <td>NaN</td>\n",
       "      <td>NaN</td>\n",
       "      <td>A</td>\n",
       "      <td>0</td>\n",
       "      <td>476</td>\n",
       "      <td>138</td>\n",
       "    </tr>\n",
       "    <tr>\n",
       "      <th>3</th>\n",
       "      <td>U_1001697</td>\n",
       "      <td>C_735164</td>\n",
       "      <td>0.0</td>\n",
       "      <td>昆明理工大学</td>\n",
       "      <td>2020-11-28 11:03:45</td>\n",
       "      <td>NaN</td>\n",
       "      <td>NaN</td>\n",
       "      <td>5.0</td>\n",
       "      <td>8.0</td>\n",
       "      <td>3.0</td>\n",
       "      <td>...</td>\n",
       "      <td>NaN</td>\n",
       "      <td>NaN</td>\n",
       "      <td>NaN</td>\n",
       "      <td>NaN</td>\n",
       "      <td>NaN</td>\n",
       "      <td>NaN</td>\n",
       "      <td>A</td>\n",
       "      <td>0</td>\n",
       "      <td>476</td>\n",
       "      <td>138</td>\n",
       "    </tr>\n",
       "    <tr>\n",
       "      <th>4</th>\n",
       "      <td>U_1001703</td>\n",
       "      <td>C_735164</td>\n",
       "      <td>0.0</td>\n",
       "      <td>昆明理工大学</td>\n",
       "      <td>2020-10-19 20:57:49</td>\n",
       "      <td>NaN</td>\n",
       "      <td>NaN</td>\n",
       "      <td>NaN</td>\n",
       "      <td>NaN</td>\n",
       "      <td>NaN</td>\n",
       "      <td>...</td>\n",
       "      <td>NaN</td>\n",
       "      <td>108.0</td>\n",
       "      <td>109.0</td>\n",
       "      <td>108.0</td>\n",
       "      <td>130.0</td>\n",
       "      <td>NaN</td>\n",
       "      <td>A</td>\n",
       "      <td>0</td>\n",
       "      <td>476</td>\n",
       "      <td>138</td>\n",
       "    </tr>\n",
       "  </tbody>\n",
       "</table>\n",
       "<p>5 rows × 37 columns</p>\n",
       "</div>"
      ],
      "text/plain": [
       "     user_id course_id  gender  school          enroll_time  \\\n",
       "0  U_1001413  C_735164     0.0  昆明理工大学  2020-11-26 23:40:08   \n",
       "1  U_1001522  C_735164     0.0  昆明理工大学  2020-12-01 11:11:06   \n",
       "2  U_1001694  C_735164     0.0  昆明理工大学  2020-11-18 19:49:32   \n",
       "3  U_1001697  C_735164     0.0  昆明理工大学  2020-11-28 11:03:45   \n",
       "4  U_1001703  C_735164     0.0  昆明理工大学  2020-10-19 20:57:49   \n",
       "\n",
       "   comment_count_week1  reply_count_week1  questions_done_week1  \\\n",
       "0                  NaN                NaN                 156.0   \n",
       "1                  NaN                NaN                 156.0   \n",
       "2                  NaN                NaN                   NaN   \n",
       "3                  NaN                NaN                   5.0   \n",
       "4                  NaN                NaN                   NaN   \n",
       "\n",
       "   attempts_count_week1  correct_answers_week1  ...  reply_count_week4  \\\n",
       "0                 164.0                  155.0  ...                NaN   \n",
       "1                 156.0                  156.0  ...                NaN   \n",
       "2                   NaN                    NaN  ...                NaN   \n",
       "3                   8.0                    3.0  ...                NaN   \n",
       "4                   NaN                    NaN  ...                NaN   \n",
       "\n",
       "   questions_done_week4  attempts_count_week4  correct_answers_week4  \\\n",
       "0                   NaN                   NaN                    NaN   \n",
       "1                   NaN                   NaN                    NaN   \n",
       "2                   NaN                   NaN                    NaN   \n",
       "3                   NaN                   NaN                    NaN   \n",
       "4                 108.0                 109.0                  108.0   \n",
       "\n",
       "   total_score_week4  user_watching_time_week4  classification  \\\n",
       "0                NaN                       NaN               A   \n",
       "1                NaN                       NaN               A   \n",
       "2                NaN                       NaN               A   \n",
       "3                NaN                       NaN               A   \n",
       "4              130.0                       NaN               A   \n",
       "\n",
       "   classification_encoded  school_encoded  course_id_encoded  \n",
       "0                       0             476                138  \n",
       "1                       0             476                138  \n",
       "2                       0             476                138  \n",
       "3                       0             476                138  \n",
       "4                       0             476                138  \n",
       "\n",
       "[5 rows x 37 columns]"
      ]
     },
     "execution_count": 3,
     "metadata": {},
     "output_type": "execute_result"
    }
   ],
   "source": [
    "raw_data = pd.read_csv(\"/kaggle/input/active_users.csv\")\n",
    "raw_data.head()"
   ]
  },
  {
   "cell_type": "markdown",
   "id": "3e3ed7e6",
   "metadata": {
    "papermill": {
     "duration": 0.006598,
     "end_time": "2025-03-27T02:10:08.443427",
     "exception": false,
     "start_time": "2025-03-27T02:10:08.436829",
     "status": "completed"
    },
    "tags": []
   },
   "source": [
    "## Import libraries"
   ]
  },
  {
   "cell_type": "code",
   "execution_count": 5,
   "id": "cf820e78",
   "metadata": {
    "execution": {
     "iopub.execute_input": "2025-03-27T02:10:08.457705Z",
     "iopub.status.busy": "2025-03-27T02:10:08.457500Z",
     "iopub.status.idle": "2025-03-27T02:10:40.486608Z",
     "shell.execute_reply": "2025-03-27T02:10:40.485456Z"
    },
    "papermill": {
     "duration": 32.039044,
     "end_time": "2025-03-27T02:10:40.488974",
     "exception": false,
     "start_time": "2025-03-27T02:10:08.449930",
     "status": "completed"
    },
    "tags": []
   },
   "outputs": [
    {
     "name": "stderr",
     "output_type": "stream",
     "text": [
      "/usr/local/lib/python3.10/site-packages/tqdm/auto.py:21: TqdmWarning: IProgress not found. Please update jupyter and ipywidgets. See https://ipywidgets.readthedocs.io/en/stable/user_install.html\n",
      "  from .autonotebook import tqdm as notebook_tqdm\n"
     ]
    }
   ],
   "source": [
    "import networkx as nx\n",
    "from torch_geometric.data import Data\n",
    "import torch\n",
    "import torch.nn.functional as F\n",
    "from torch_geometric.nn import GCNConv"
   ]
  },
  {
   "cell_type": "markdown",
   "id": "a3ac6ff2",
   "metadata": {
    "papermill": {
     "duration": 0.006658,
     "end_time": "2025-03-27T02:10:40.502303",
     "exception": false,
     "start_time": "2025-03-27T02:10:40.495645",
     "status": "completed"
    },
    "tags": []
   },
   "source": [
    "## Create graph with networkX"
   ]
  },
  {
   "cell_type": "code",
   "execution_count": 6,
   "id": "9f8f223e",
   "metadata": {
    "execution": {
     "iopub.execute_input": "2025-03-27T02:10:40.517449Z",
     "iopub.status.busy": "2025-03-27T02:10:40.516934Z",
     "iopub.status.idle": "2025-03-27T02:10:40.525590Z",
     "shell.execute_reply": "2025-03-27T02:10:40.524484Z"
    },
    "papermill": {
     "duration": 0.01775,
     "end_time": "2025-03-27T02:10:40.526673",
     "exception": false,
     "start_time": "2025-03-27T02:10:40.508923",
     "status": "completed"
    },
    "tags": []
   },
   "outputs": [],
   "source": [
    "df = raw_data.copy()"
   ]
  },
  {
   "cell_type": "code",
   "execution_count": null,
   "id": "8b518abc",
   "metadata": {
    "execution": {
     "iopub.execute_input": "2025-03-27T02:10:40.601911Z",
     "iopub.status.busy": "2025-03-27T02:10:40.601654Z",
     "iopub.status.idle": "2025-03-27T02:34:26.451891Z",
     "shell.execute_reply": "2025-03-27T02:34:26.450568Z"
    },
    "papermill": {
     "duration": 1425.860098,
     "end_time": "2025-03-27T02:34:26.452847",
     "exception": false,
     "start_time": "2025-03-27T02:10:40.592749",
     "status": "completed"
    },
    "tags": []
   },
   "outputs": [
    {
     "name": "stdout",
     "output_type": "stream",
     "text": [
      "Đang đọc dữ liệu từ -f...\n",
      "Lỗi khi đọc dữ liệu: [Errno 2] No such file or directory: '-f'\n"
     ]
    },
    {
     "name": "stdout",
     "output_type": "stream",
     "text": [
      "Dữ liệu có 16391 dòng và 37 cột\n",
      "\n",
      "Kiểm tra ràng buộc trước khi điền khuyết:\n"
     ]
    },
    {
     "name": "stdout",
     "output_type": "stream",
     "text": [
      "Tất cả các ràng buộc đều được thỏa mãn!\n"
     ]
    },
    {
     "name": "stdout",
     "output_type": "stream",
     "text": [
      "Epoch 20/100, Loss: -0.3028, Time: 28.81s\n"
     ]
    },
    {
     "name": "stdout",
     "output_type": "stream",
     "text": [
      "Early stopping at epoch 29\n"
     ]
    },
    {
     "name": "stdout",
     "output_type": "stream",
     "text": [
      "\n",
      "Kiểm tra ràng buộc sau khi điền khuyết:\n"
     ]
    },
    {
     "name": "stdout",
     "output_type": "stream",
     "text": [
      "Tất cả các ràng buộc đều được thỏa mãn!\n"
     ]
    },
    {
     "name": "stdout",
     "output_type": "stream",
     "text": [
      "Early stopping at epoch 19\n"
     ]
    },
    {
     "name": "stdout",
     "output_type": "stream",
     "text": [
      "Validation MSE: 1574.7951\n"
     ]
    },
    {
     "name": "stdout",
     "output_type": "stream",
     "text": [
      "Thời gian thực hiện: 1420.02 giây\n"
     ]
    },
    {
     "name": "stdout",
     "output_type": "stream",
     "text": [
      "\n",
      "Đã lưu dữ liệu điền khuyết vào: -f\n"
     ]
    },
    {
     "data": {
      "image/png": "[encoded data removed]",
      "text/plain": [
       "<Figure size 1000x600 with 1 Axes>"
      ]
     },
     "metadata": {},
     "output_type": "display_data"
    },
    {
     "data": {
      "image/png": "[encoded data removed]",
      "text/plain": [
       "<Figure size 1000x600 with 1 Axes>"
      ]
     },
     "metadata": {},
     "output_type": "display_data"
    }
   ],
   "source": [
    "import numpy as np\n",
    "import pandas as pd\n",
    "import torch\n",
    "import torch.nn as nn\n",
    "import torch.nn.functional as F\n",
    "from torch_geometric.nn import GCNConv\n",
    "from torch_geometric.data import Data\n",
    "from sklearn.preprocessing import StandardScaler\n",
    "from sklearn.metrics import mean_squared_error\n",
    "import matplotlib.pyplot as plt\n",
    "from scipy.spatial.distance import pdist, squareform\n",
    "import time\n",
    "import re\n",
    "\n",
    "# Danh sách các cột cần điền khuyết\n",
    "WEEKLY_COLUMNS = [\n",
    "    'comment_count_week1', 'reply_count_week1', 'questions_done_week1', \n",
    "    'attempts_count_week1', 'correct_answers_week1', 'total_score_week1',\n",
    "    'user_watching_time_week1', 'comment_count_week2', 'reply_count_week2',\n",
    "    'questions_done_week2', 'attempts_count_week2', 'correct_answers_week2',\n",
    "    'total_score_week2', 'user_watching_time_week2', 'comment_count_week3',\n",
    "    'reply_count_week3', 'questions_done_week3', 'attempts_count_week3',\n",
    "    'correct_answers_week3', 'total_score_week3', 'user_watching_time_week3',\n",
    "    'comment_count_week4', 'reply_count_week4', 'questions_done_week4',\n",
    "    'attempts_count_week4', 'correct_answers_week4', 'total_score_week4',\n",
    "    'user_watching_time_week4'\n",
    "]\n",
    "\n",
    "# Ánh xạ biểu thức chính quy cho các cột theo tuần\n",
    "def get_column_patterns():\n",
    "    patterns = {\n",
    "        'comment_count': re.compile(r'comment_count_week(\\d+)'),\n",
    "        'reply_count': re.compile(r'reply_count_week(\\d+)'),\n",
    "        'questions_done': re.compile(r'questions_done_week(\\d+)'),\n",
    "        'attempts_count': re.compile(r'attempts_count_week(\\d+)'),\n",
    "        'correct_answers': re.compile(r'correct_answers_week(\\d+)'),\n",
    "        'total_score': re.compile(r'total_score_week(\\d+)'),\n",
    "        'user_watching_time': re.compile(r'user_watching_time_week(\\d+)')\n",
    "    }\n",
    "    return patterns\n",
    "\n",
    "# Tiền xử lý dữ liệu: sử dụng giá trị trung bình để thay thế giá trị thiếu cho các cột đặc trưng\n",
    "def preprocess_data(df):\n",
    "    df_copy = df.copy()\n",
    "    \n",
    "    if 'enroll_time' in df_copy.columns:\n",
    "        df_copy['enroll_time'] = pd.to_datetime(df_copy['enroll_time'])\n",
    "        df_copy['enroll_time_num'] = (df_copy['enroll_time'] - df_copy['enroll_time'].min()).dt.total_seconds()\n",
    "    \n",
    "    feature_cols = [col for col in WEEKLY_COLUMNS if col in df_copy.columns]\n",
    "    support_cols = ['school_encoded', 'course_id_encoded', 'gender', 'enroll_time_num']\n",
    "    support_cols = [col for col in support_cols if col in df_copy.columns]\n",
    "    \n",
    "    scaler = StandardScaler()\n",
    "    # Thay giá trị thiếu bằng giá trị trung bình của cột trước khi chuẩn hoá\n",
    "    df_copy[feature_cols] = scaler.fit_transform(\n",
    "    df_copy[feature_cols].fillna(\n",
    "        df_copy.groupby('classification')[feature_cols].transform('mean')\n",
    "    )\n",
    ")\n",
    "    \n",
    "    return df_copy, feature_cols, scaler\n",
    "\n",
    "# Tạo đồ thị tương đồng dựa trên khoảng cách và nhóm theo trường, khóa học sử dụng ma trận kề\n",
    "def create_graph(df, feature_cols, k=5, prune_threshold=0.5):\n",
    "    x = torch.tensor(df[feature_cols].fillna(0).values, dtype=torch.float)\n",
    "    n = len(df)\n",
    "    \n",
    "    # Khởi tạo ma trận kề với các phần tử bằng 0\n",
    "    adj = np.zeros((n, n))\n",
    "    \n",
    "    # Tạo cạnh từ nhóm dữ liệu có cùng school_encoded và course_id_encoded\n",
    "    if 'school_encoded' in df.columns and 'course_id_encoded' in df.columns:\n",
    "        grouped = df.groupby(['school_encoded', 'course_id_encoded']).indices\n",
    "        for indices in grouped.values():\n",
    "            indices = list(indices)\n",
    "            if len(indices) > 1:\n",
    "                for i in range(len(indices)):\n",
    "                    for j in range(i+1, len(indices)):\n",
    "                        adj[indices[i], indices[j]] = 1\n",
    "                        adj[indices[j], indices[i]] = 1\n",
    "    \n",
    "    # Nếu số cạnh từ nhóm không đủ, tính khoảng cách giữa các điểm và thêm cạnh dựa trên độ tương đồng\n",
    "    if adj.sum() < n:\n",
    "        base_features = x.numpy()\n",
    "        is_all_zero = np.all(base_features == 0, axis=0)\n",
    "        if np.any(is_all_zero):\n",
    "            base_features = base_features[:, ~is_all_zero]\n",
    "        \n",
    "        if base_features.shape[1] == 0:\n",
    "            print(\"Tất cả các đặc trưng đều bằng 0, không thể tạo cạnh dựa trên khoảng cách.\")\n",
    "        else:\n",
    "            dist_matrix = squareform(pdist(base_features, 'euclidean'))\n",
    "            dist_std = dist_matrix.std() if dist_matrix.std() > 0 else 1\n",
    "            sim_matrix = np.exp(-dist_matrix / dist_std)\n",
    "            sim_matrix[sim_matrix < prune_threshold] = 0\n",
    "            \n",
    "            k = min(k, n-1)\n",
    "            # Lấy k láng giềng có độ tương đồng cao nhất cho mỗi nút (loại trừ chính nó)\n",
    "            neighbors = np.argsort(sim_matrix, axis=1)[:, -k:]\n",
    "            for i in range(n):\n",
    "                for j in neighbors[i]:\n",
    "                    if sim_matrix[i, j] > 0:\n",
    "                        adj[i, j] = 1\n",
    "                        adj[j, i] = 1  # đảm bảo đồ thị đối xứng\n",
    "    \n",
    "    # Chuyển ma trận kề thành edge_index (các vị trí có giá trị khác 0)\n",
    "    edge_index = torch.tensor(np.array(np.nonzero(adj)), dtype=torch.long)\n",
    "    \n",
    "    # Tạo mask cho các giá trị không phải NaN (dựa trên giá trị ban đầu trong df)\n",
    "    mask = torch.tensor(~np.isnan(df[feature_cols].values), dtype=torch.bool)\n",
    "    \n",
    "    return Data(x=x, edge_index=edge_index), mask\n",
    "\n",
    "# Mô hình GCN Imputer với residual connections, định nghĩa rõ ràng từng tầng\n",
    "class GCNImputer(nn.Module):\n",
    "    def __init__(self, in_channels, hidden_channels, out_channels, dropout=0.2):\n",
    "        super(GCNImputer, self).__init__()\n",
    "        self.dropout = dropout\n",
    "        # Encoder\n",
    "        self.conv1 = GCNConv(in_channels, hidden_channels)\n",
    "        self.bn1 = nn.BatchNorm1d(hidden_channels)\n",
    "        self.conv2 = GCNConv(hidden_channels, hidden_channels)\n",
    "        self.bn2 = nn.BatchNorm1d(hidden_channels)\n",
    "        # Decoder\n",
    "        self.dec_conv1 = GCNConv(hidden_channels, hidden_channels)\n",
    "        self.dec_bn1 = nn.BatchNorm1d(hidden_channels)\n",
    "        self.dec_conv2 = GCNConv(hidden_channels, out_channels)\n",
    "        # Residual connection\n",
    "        self.residual = nn.Linear(in_channels, out_channels)\n",
    "        \n",
    "    def forward(self, data):\n",
    "        x, edge_index = data.x, data.edge_index\n",
    "        # Encoder\n",
    "        h = self.conv1(x, edge_index)\n",
    "        h = self.bn1(h)\n",
    "        h = F.relu(h)\n",
    "        h = F.dropout(h, p=self.dropout, training=self.training)\n",
    "        h = self.conv2(h, edge_index)\n",
    "        h = self.bn2(h)\n",
    "        h = F.relu(h)\n",
    "        h = F.dropout(h, p=self.dropout, training=self.training)\n",
    "        # Decoder\n",
    "        out = self.dec_conv1(h, edge_index)\n",
    "        out = self.dec_bn1(out)\n",
    "        out = F.relu(out)\n",
    "        out = F.dropout(out, p=self.dropout, training=self.training)\n",
    "        out = self.dec_conv2(out, edge_index)\n",
    "        # Residual connection\n",
    "        out = out + self.residual(x)\n",
    "        return out\n",
    "\n",
    "# Critic Network cho Adversarial Training, định nghĩa các tầng rõ ràng\n",
    "class Critic(nn.Module):\n",
    "    def __init__(self, in_channels, hidden_channels, dropout=0.2):\n",
    "        super(Critic, self).__init__()\n",
    "        self.dropout = dropout\n",
    "        self.conv1 = GCNConv(in_channels, hidden_channels)\n",
    "        self.bn1 = nn.BatchNorm1d(hidden_channels)\n",
    "        self.conv2 = GCNConv(hidden_channels, hidden_channels)\n",
    "        self.bn2 = nn.BatchNorm1d(hidden_channels)\n",
    "        self.conv3 = GCNConv(hidden_channels, 1)\n",
    "        \n",
    "    def forward(self, data):\n",
    "        x, edge_index = data.x, data.edge_index\n",
    "        h = self.conv1(x, edge_index)\n",
    "        h = self.bn1(h)\n",
    "        h = F.relu(h)\n",
    "        h = F.dropout(h, p=self.dropout, training=self.training)\n",
    "        h = self.conv2(h, edge_index)\n",
    "        h = self.bn2(h)\n",
    "        h = F.relu(h)\n",
    "        h = F.dropout(h, p=self.dropout, training=self.training)\n",
    "        out = self.conv3(h, edge_index)\n",
    "        return out\n",
    "\n",
    "# Áp dụng ràng buộc lên dữ liệu với các phép tính vector hoá\n",
    "def apply_constraints(df, feature_cols):\n",
    "    patterns = get_column_patterns()\n",
    "    for col in feature_cols:\n",
    "        for pattern_name, pattern in patterns.items():\n",
    "            match = pattern.match(col)\n",
    "            if match:\n",
    "                week = int(match.group(1))\n",
    "                if pattern_name in ['comment_count', 'reply_count', 'questions_done', 'total_score', 'user_watching_time']:\n",
    "                    df[col] = df[col].clip(lower=0)\n",
    "                elif pattern_name == 'attempts_count':\n",
    "                    questions_col = f'questions_done_week{week}'\n",
    "                    if questions_col in df.columns:\n",
    "                        df[col] = np.maximum(df[col], df[questions_col])\n",
    "                elif pattern_name == 'correct_answers':\n",
    "                    questions_col = f'questions_done_week{week}'\n",
    "                    if questions_col in df.columns:\n",
    "                        df[col] = np.minimum(np.maximum(df[col], 0), df[questions_col])\n",
    "    return df\n",
    "\n",
    "# Huấn luyện với Adversarial Training\n",
    "def adversarial_train(model, critic, data, mask, original_values, optimizer_model, optimizer_critic, epochs=100, early_stop_patience=10):\n",
    "    model.train()\n",
    "    critic.train()\n",
    "    losses = []\n",
    "    best_loss = float('inf')\n",
    "    patience_counter = 0\n",
    "    \n",
    "    device = torch.device('cuda' if torch.cuda.is_available() else 'cpu')\n",
    "    model = model.to(device)\n",
    "    critic = critic.to(device)\n",
    "    data = data.to(device)\n",
    "    mask = mask.to(device)\n",
    "    original_values = original_values.to(device)\n",
    "    \n",
    "    for epoch in range(epochs):\n",
    "        start_time = time.time()\n",
    "        ## Huấn luyện Critic\n",
    "        optimizer_critic.zero_grad()\n",
    "        real_out = critic(data)\n",
    "        fake_data = data.clone()\n",
    "        fake_data.x = model(data)\n",
    "        fake_out = critic(fake_data)\n",
    "        \n",
    "        # Tạo interpolates cho gradient penalty\n",
    "        alpha = torch.rand(data.x.size(0), 1, device=device)\n",
    "        interpolates = alpha * data.x + (1 - alpha) * fake_data.x\n",
    "        interpolates = interpolates.requires_grad_(True)\n",
    "        interpolates_data = data.clone()\n",
    "        interpolates_data.x = interpolates\n",
    "        interpolates_out = critic(interpolates_data)\n",
    "        \n",
    "        gradients = torch.autograd.grad(outputs=interpolates_out, inputs=interpolates,\n",
    "                                        grad_outputs=torch.ones_like(interpolates_out),\n",
    "                                        create_graph=True, retain_graph=True)[0]\n",
    "        gradient_penalty = ((gradients.norm(2, dim=1) - 1) ** 2).mean()\n",
    "        \n",
    "        critic_loss = fake_out.mean() - real_out.mean() + 10 * gradient_penalty\n",
    "        critic_loss.backward()\n",
    "        optimizer_critic.step()\n",
    "        \n",
    "        ## Huấn luyện Model\n",
    "        optimizer_model.zero_grad()\n",
    "        fake_data = data.clone()\n",
    "        fake_data.x = model(data)\n",
    "        fake_out = critic(fake_data)\n",
    "        \n",
    "        valid_mask = mask.sum(dim=0) > 0\n",
    "        col_losses = torch.zeros(mask.shape[1], device=device)\n",
    "        # Tính loss theo từng cột (mse cho các giá trị không bị ẩn)\n",
    "        for col_idx in range(mask.shape[1]):\n",
    "            if valid_mask[col_idx]:\n",
    "                col_mask = mask[:, col_idx]\n",
    "                col_losses[col_idx] = F.mse_loss(\n",
    "                    fake_data.x[col_mask, col_idx], \n",
    "                    original_values[col_mask, col_idx]\n",
    "                )\n",
    "        \n",
    "        model_loss = -fake_out.mean() + col_losses[valid_mask].mean()\n",
    "        model_loss.backward()\n",
    "        optimizer_model.step()\n",
    "        \n",
    "        losses.append(model_loss.item())\n",
    "        \n",
    "        if model_loss.item() < best_loss:\n",
    "            best_loss = model_loss.item()\n",
    "            patience_counter = 0\n",
    "        else:\n",
    "            patience_counter += 1\n",
    "            \n",
    "        if patience_counter >= early_stop_patience:\n",
    "            print(f'Early stopping at epoch {epoch+1}')\n",
    "            break\n",
    "        \n",
    "        if (epoch+1) % 20 == 0:\n",
    "            elapsed = time.time() - start_time\n",
    "            print(f'Epoch {epoch+1}/{epochs}, Loss: {model_loss.item():.4f}, Time: {elapsed:.2f}s')\n",
    "    \n",
    "    return losses\n",
    "\n",
    "# Điền giá trị khuyết sử dụng mô hình đã huấn luyện\n",
    "def impute_missing_values(df, model, data, feature_cols, scaler):\n",
    "    model.eval()\n",
    "    device = torch.device('cuda' if torch.cuda.is_available() else 'cpu')\n",
    "    data = data.to(device)\n",
    "    model = model.to(device)\n",
    "    \n",
    "    with torch.no_grad():\n",
    "        imputed_features = model(data).cpu().numpy()\n",
    "    \n",
    "    # Áp dụng inverse transform để chuyển về scale ban đầu\n",
    "    imputed_features = scaler.inverse_transform(imputed_features)\n",
    "    df_imputed = df.copy()\n",
    "    \n",
    "    for i, col in enumerate(feature_cols):\n",
    "        missing_idx = df_imputed[col].isna()\n",
    "        if missing_idx.any():\n",
    "            df_imputed.loc[missing_idx, col] = imputed_features[missing_idx, i]\n",
    "    \n",
    "    # Áp dụng ràng buộc sau khi điền khuyết\n",
    "    df_imputed = apply_constraints(df_imputed, feature_cols)\n",
    "    \n",
    "    return df_imputed\n",
    "\n",
    "# Đánh giá kết quả imputation bằng cách ẩn một số giá trị có sẵn và so sánh\n",
    "def evaluate_imputation(df, feature_cols, test_size=0.1):\n",
    "    validation_df = df.copy()\n",
    "    np.random.seed(42)\n",
    "    \n",
    "    non_nan_mask = ~df[feature_cols].isna().values\n",
    "    row_indices, col_indices = np.where(non_nan_mask)\n",
    "    \n",
    "    if len(row_indices) == 0:\n",
    "        print(\"Không có đủ dữ liệu để đánh giá\")\n",
    "        return None, [], []\n",
    "    \n",
    "    num_to_hide = max(1, int(len(row_indices) * test_size))\n",
    "    indices_to_hide = np.random.choice(len(row_indices), num_to_hide, replace=False)\n",
    "    \n",
    "    hide_rows = row_indices[indices_to_hide]\n",
    "    hide_cols = col_indices[indices_to_hide]\n",
    "    \n",
    "    true_values = []\n",
    "    # Sử dụng .loc để gán giá trị NaN, tránh cảnh báo SettingWithCopyWarning\n",
    "    for i in range(len(hide_rows)):\n",
    "        row_idx = hide_rows[i]\n",
    "        col_idx = hide_cols[i]\n",
    "        col_name = feature_cols[col_idx]\n",
    "        true_values.append(validation_df.loc[row_idx, col_name])\n",
    "        validation_df.loc[row_idx, col_name] = np.nan\n",
    "    \n",
    "    val_df_processed, val_feature_cols, val_scaler = preprocess_data(validation_df)\n",
    "    val_graph, val_mask = create_graph(val_df_processed, val_feature_cols)\n",
    "    \n",
    "    val_model = GCNImputer(len(val_feature_cols), 128, len(val_feature_cols), dropout=0.2)\n",
    "    val_critic = Critic(len(val_feature_cols), 128, dropout=0.2)\n",
    "    val_optimizer_model = torch.optim.Adam(val_model.parameters(), lr=0.01, weight_decay=1e-5)\n",
    "    val_optimizer_critic = torch.optim.Adam(val_critic.parameters(), lr=0.01, weight_decay=1e-5)\n",
    "    \n",
    "    val_original_values = torch.tensor(val_df_processed[val_feature_cols].values, dtype=torch.float)\n",
    "    \n",
    "    adversarial_train(val_model, val_critic, val_graph, val_mask, val_original_values, \n",
    "                        val_optimizer_model, val_optimizer_critic, epochs=100)\n",
    "    val_df_imputed = impute_missing_values(validation_df, val_model, val_graph, val_feature_cols, val_scaler)\n",
    "    \n",
    "    predicted_values = []\n",
    "    for i in range(len(hide_rows)):\n",
    "        row_idx = hide_rows[i]\n",
    "        col_idx = hide_cols[i]\n",
    "        col_name = feature_cols[col_idx]\n",
    "        predicted_values.append(val_df_imputed.loc[row_idx, col_name])\n",
    "    \n",
    "    if len(true_values) > 0:\n",
    "        mse = mean_squared_error(true_values, predicted_values)\n",
    "        print(f\"Validation MSE: {mse:.4f}\")\n",
    "        \n",
    "        plt.figure(figsize=(10, 6))\n",
    "        plt.scatter(true_values, predicted_values, alpha=0.5)\n",
    "        min_val = min(min(true_values), min(predicted_values))\n",
    "        max_val = max(max(true_values), max(predicted_values))\n",
    "        plt.plot([min_val, max_val], [min_val, max_val], 'r--')\n",
    "        plt.xlabel('Giá trị thực tế')\n",
    "        plt.ylabel('Giá trị dự đoán')\n",
    "        plt.title('So sánh giá trị thực tế và dự đoán')\n",
    "        plt.grid(True)\n",
    "        \n",
    "        return mse, true_values, predicted_values\n",
    "    else:\n",
    "        print(\"Không có dữ liệu để đánh giá\")\n",
    "        return None, [], []\n",
    "\n",
    "# Kiểm tra các ràng buộc trên dữ liệu\n",
    "def check_constraints(df, verbose=True):\n",
    "    patterns = get_column_patterns()\n",
    "    violations = 0\n",
    "    \n",
    "    for col in df.columns:\n",
    "        for pattern_name, pattern in patterns.items():\n",
    "            match = pattern.match(col)\n",
    "            if match:\n",
    "                week = int(match.group(1))\n",
    "                if pattern_name in ['comment_count', 'reply_count', 'questions_done', 'attempts_count', 'total_score', 'user_watching_time']:\n",
    "                    neg_count = (df[col] < 0).sum()\n",
    "                    if neg_count > 0 and verbose:\n",
    "                        print(f\"Vi phạm: {neg_count} giá trị âm trong cột {col}\")\n",
    "                    violations += neg_count\n",
    "                elif pattern_name == 'correct_answers':\n",
    "                    questions_col = f'questions_done_week{week}'\n",
    "                    if questions_col in df.columns:\n",
    "                        invalid_neg = (df[col] < 0).sum()\n",
    "                        invalid_high = (df[col] > df[questions_col]).sum()\n",
    "                        if invalid_neg > 0 and verbose:\n",
    "                            print(f\"Vi phạm: {invalid_neg} giá trị âm trong cột {col}\")\n",
    "                        if invalid_high > 0 and verbose:\n",
    "                            print(f\"Vi phạm: {invalid_high} trường hợp {col} > {questions_col}\")\n",
    "                        violations += (invalid_neg + invalid_high)\n",
    "    \n",
    "    if violations == 0 and verbose:\n",
    "        print(\"Tất cả các ràng buộc đều được thỏa mãn!\")\n",
    "    \n",
    "    return violations\n",
    "\n",
    "# Hàm chính\n",
    "def main(data_path, columns_to_impute=None):\n",
    "    total_start_time = time.time()\n",
    "    print(f\"Đang đọc dữ liệu từ {data_path}...\")\n",
    "    try:\n",
    "        df = pd.read_csv(data_path)\n",
    "    except Exception as e:\n",
    "        print(f\"Lỗi khi đọc dữ liệu: {e}\")\n",
    "        df = pd.read_csv(\"/kaggle/input/active_users.csv\")\n",
    "    \n",
    "    print(f\"Dữ liệu có {len(df)} dòng và {len(df.columns)} cột\")\n",
    "    \n",
    "    if columns_to_impute is None:\n",
    "        columns_to_impute = [col for col in WEEKLY_COLUMNS if col in df.columns]\n",
    "    \n",
    "    # Kiểm tra ràng buộc trước khi xử lý\n",
    "    print(\"\\nKiểm tra ràng buộc trước khi điền khuyết:\")\n",
    "    check_constraints(df, verbose=True)\n",
    "    \n",
    "    df_processed, feature_cols, scaler = preprocess_data(df)\n",
    "    graph, mask = create_graph(df_processed, feature_cols)\n",
    "    original_values = torch.tensor(df_processed[feature_cols].values, dtype=torch.float)\n",
    "    \n",
    "    model = GCNImputer(len(feature_cols), 128, len(feature_cols), dropout=0.3)\n",
    "    critic = Critic(len(feature_cols), 128, dropout=0.3)\n",
    "    optimizer_model = torch.optim.Adam(model.parameters(), lr=0.01, weight_decay=5e-5)\n",
    "    optimizer_critic = torch.optim.Adam(critic.parameters(), lr=0.01, weight_decay=5e-5)\n",
    "    \n",
    "    losses = adversarial_train(model, critic, graph, mask, original_values, optimizer_model, optimizer_critic, epochs=100)\n",
    "    df_imputed = impute_missing_values(df, model, graph, feature_cols, scaler)\n",
    "    \n",
    "    # Kiểm tra ràng buộc sau khi điền khuyết\n",
    "    print(\"\\nKiểm tra ràng buộc sau khi điền khuyết:\")\n",
    "    check_constraints(df_imputed, verbose=True)\n",
    "    \n",
    "    mse, true_values, predicted_values = evaluate_imputation(df, feature_cols)\n",
    "    \n",
    "    if losses:\n",
    "        plt.figure(figsize=(10, 6))\n",
    "        plt.plot(losses)\n",
    "        plt.xlabel('Epoch')\n",
    "        plt.ylabel('Loss')\n",
    "        plt.title('Training Loss')\n",
    "        plt.grid(True)\n",
    "    \n",
    "    elapsed_time = time.time() - total_start_time\n",
    "    print(f\"Thời gian thực hiện: {elapsed_time:.2f} giây\")\n",
    "    \n",
    "    output_path = data_path.replace('.csv', '_imputed.csv')\n",
    "    df_imputed.to_csv(output_path, index=False)\n",
    "    print(f\"\\nĐã lưu dữ liệu điền khuyết vào: {output_path}\")\n",
    "    \n",
    "    return df_imputed\n",
    "\n",
    "# Chạy chương trình\n",
    "if __name__ == \"__main__\":\n",
    "    import sys\n",
    "    \n",
    "    if len(sys.argv) > 1:\n",
    "        data_path = sys.argv[1]\n",
    "    else:\n",
    "        data_path = '/kaggle/input/active_users.csv'\n",
    "    \n",
    "    main(data_path, WEEKLY_COLUMNS)"
   ]
  },
  {
   "cell_type": "code",
   "execution_count": null,
   "id": "e4e4e7ee",
   "metadata": {
    "papermill": {
     "duration": 0.00786,
     "end_time": "2025-03-27T02:34:26.526944",
     "exception": false,
     "start_time": "2025-03-27T02:34:26.519084",
     "status": "completed"
    },
    "tags": []
   },
   "outputs": [],
   "source": []
  }
 ],
 "metadata": {
  "kaggle": {
   "accelerator": "tpu1vmV38",
   "dataSources": [
    {
     "datasetId": 5815064,
     "sourceId": 10757062,
     "sourceType": "datasetVersion"
    }
   ],
   "dockerImageVersionId": 30888,
   "isGpuEnabled": false,
   "isInternetEnabled": true,
   "language": "python",
   "sourceType": "notebook"
  },
  "kernelspec": {
   "display_name": "Python 3",
   "language": "python",
   "name": "python3"
  },
  "language_info": {
   "codemirror_mode": {
    "name": "ipython",
    "version": 3
   },
   "file_extension": ".py",
   "mimetype": "text/x-python",
   "name": "python",
   "nbconvert_exporter": "python",
   "pygments_lexer": "ipython3",
   "version": "3.10.16"
  },
  "papermill": {
   "default_parameters": {},
   "duration": 1481.341263,
   "end_time": "2025-03-27T02:34:28.158647",
   "environment_variables": {},
   "exception": null,
   "input_path": "__notebook__.ipynb",
   "output_path": "__notebook__.ipynb",
   "parameters": {},
   "start_time": "2025-03-27T02:09:46.817384",
   "version": "2.6.0"
  }
 },
 "nbformat": 4,
 "nbformat_minor": 5
}
