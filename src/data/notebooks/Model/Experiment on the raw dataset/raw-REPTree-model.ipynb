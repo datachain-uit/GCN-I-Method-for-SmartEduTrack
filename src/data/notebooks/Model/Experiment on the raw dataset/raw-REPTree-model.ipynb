{
 "cells": [
  {
   "cell_type": "code",
   "execution_count": 1,
   "id": "7ca03537",
   "metadata": {
    "execution": {
     "iopub.execute_input": "2024-12-21T14:14:22.655304Z",
     "iopub.status.busy": "2024-12-21T14:14:22.654908Z",
     "iopub.status.idle": "2024-12-21T14:14:22.662238Z",
     "shell.execute_reply": "2024-12-21T14:14:22.661353Z"
    },
    "papermill": {
     "duration": 0.015393,
     "end_time": "2024-12-21T14:14:22.663977",
     "exception": false,
     "start_time": "2024-12-21T14:14:22.648584",
     "status": "completed"
    },
    "tags": []
   },
   "outputs": [],
   "source": [
    "five_fold_files = {\n",
    "    \"week1\": [\n",
    "        \"/kaggle/input/new-raw/clean_week1/train/5-folds/data_part_1.csv\",\n",
    "        \"/kaggle/input/new-raw/clean_week1/train/5-folds/data_part_2.csv\",\n",
    "        \"/kaggle/input/new-raw/clean_week1/train/5-folds/data_part_3.csv\",\n",
    "        \"/kaggle/input/new-raw/clean_week1/train/5-folds/data_part_4.csv\",\n",
    "        \"/kaggle/input/new-raw/clean_week1/train/5-folds/data_part_5.csv\"\n",
    "    ],\n",
    "    \"week2\": [\n",
    "        \"/kaggle/input/new-raw/clean_week2/train/5-folds/data_part_1.csv\",\n",
    "        \"/kaggle/input/new-raw/clean_week2/train/5-folds/data_part_2.csv\",\n",
    "        \"/kaggle/input/new-raw/clean_week2/train/5-folds/data_part_3.csv\",\n",
    "        \"/kaggle/input/new-raw/clean_week2/train/5-folds/data_part_4.csv\",\n",
    "        \"/kaggle/input/new-raw/clean_week2/train/5-folds/data_part_5.csv\"\n",
    "    ],\n",
    "    \"week3\": [\n",
    "        \"/kaggle/input/new-raw/clean_week3/train/5-folds/data_part_1.csv\",\n",
    "        \"/kaggle/input/new-raw/clean_week3/train/5-folds/data_part_2.csv\",\n",
    "        \"/kaggle/input/new-raw/clean_week3/train/5-folds/data_part_3.csv\",\n",
    "        \"/kaggle/input/new-raw/clean_week3/train/5-folds/data_part_4.csv\",\n",
    "        \"/kaggle/input/new-raw/clean_week3/train/5-folds/data_part_5.csv\"\n",
    "    ],\n",
    "    \"week4\": [\n",
    "        \"/kaggle/input/new-raw/clean_week4/train/5-folds/data_part_1.csv\",\n",
    "        \"/kaggle/input/new-raw/clean_week4/train/5-folds/data_part_2.csv\",\n",
    "        \"/kaggle/input/new-raw/clean_week4/train/5-folds/data_part_3.csv\",\n",
    "        \"/kaggle/input/new-raw/clean_week4/train/5-folds/data_part_4.csv\",\n",
    "        \"/kaggle/input/new-raw/clean_week4/train/5-folds/data_part_5.csv\"\n",
    "    ]\n",
    "}\n",
    "\n",
    "file_validation = {\n",
    "    \"week1\": [\n",
    "        \"/kaggle/input/new-raw/clean_week1/val/val_week1.csv\"\n",
    "    ],\n",
    "    \"week2\": [\n",
    "        \"/kaggle/input/new-raw/clean_week2/val/val_week1_2.csv\"\n",
    "    ],\n",
    "    \"week3\": [\n",
    "        \"/kaggle/input/new-raw/clean_week3/val/val_week1_2_3.csv\"\n",
    "    ],\n",
    "    \"week4\": [\n",
    "        \"/kaggle/input/new-raw/clean_week4/val/val_week1_2_3_4.csv\"\n",
    "    ]\n",
    "}\n",
    "\n",
    "file_test = {\n",
    "    \"week1\": [\n",
    "        \"/kaggle/input/new-raw/clean_week1/test/test_week1.csv\"\n",
    "    ],\n",
    "    \"week2\": [\n",
    "        \"/kaggle/input/new-raw/clean_week2/test/test_week2.csv\"\n",
    "    ],\n",
    "    \"week3\": [\n",
    "        \"/kaggle/input/new-raw/clean_week3/test/test_week3.csv\"\n",
    "    ],\n",
    "    \"week4\": [\n",
    "        \"/kaggle/input/new-raw/clean_week4/test/test_week4.csv\"\n",
    "    ]\n",
    "}"
   ]
  },
  {
   "cell_type": "code",
   "execution_count": 2,
   "id": "d3848948",
   "metadata": {
    "execution": {
     "iopub.execute_input": "2024-12-21T14:14:22.674578Z",
     "iopub.status.busy": "2024-12-21T14:14:22.674241Z",
     "iopub.status.idle": "2024-12-21T14:14:25.619459Z",
     "shell.execute_reply": "2024-12-21T14:14:25.618452Z"
    },
    "papermill": {
     "duration": 2.952304,
     "end_time": "2024-12-21T14:14:25.621319",
     "exception": false,
     "start_time": "2024-12-21T14:14:22.669015",
     "status": "completed"
    },
    "tags": []
   },
   "outputs": [],
   "source": [
    "from imblearn.over_sampling import SMOTE\n",
    "from sklearn.model_selection import train_test_split\n",
    "import pandas as pd\n",
    "from sklearn.model_selection import GridSearchCV\n",
    "from sklearn.model_selection import StratifiedKFold\n",
    "import time\n",
    "from sklearn.preprocessing import StandardScaler\n",
    "from sklearn.metrics import accuracy_score, classification_report, confusion_matrix, precision_recall_fscore_support\n",
    "from sklearn.tree import DecisionTreeClassifier\n",
    "import numpy as np"
   ]
  },
  {
   "cell_type": "markdown",
   "id": "56bb66d7",
   "metadata": {
    "papermill": {
     "duration": 0.004371,
     "end_time": "2024-12-21T14:14:25.630584",
     "exception": false,
     "start_time": "2024-12-21T14:14:25.626213",
     "status": "completed"
    },
    "tags": []
   },
   "source": [
    "## Tìm siêu tham số tốt nhất cho từng tuần"
   ]
  },
  {
   "cell_type": "code",
   "execution_count": 3,
   "id": "fd760210",
   "metadata": {
    "execution": {
     "iopub.execute_input": "2024-12-21T14:14:25.641399Z",
     "iopub.status.busy": "2024-12-21T14:14:25.640721Z",
     "iopub.status.idle": "2024-12-21T14:14:25.649532Z",
     "shell.execute_reply": "2024-12-21T14:14:25.648202Z"
    },
    "papermill": {
     "duration": 0.016731,
     "end_time": "2024-12-21T14:14:25.651926",
     "exception": false,
     "start_time": "2024-12-21T14:14:25.635195",
     "status": "completed"
    },
    "tags": []
   },
   "outputs": [],
   "source": [
    "# Tạo hàm train cho từng tuần\n",
    "def train_week_model(week_number, file_paths_train, file_validation):\n",
    "       # Đọc dữ liệu\n",
    "    train_data = pd.read_csv(file_paths_train)\n",
    "    val_data = pd.read_csv(file_validation)\n",
    "    # Tách đặc trưng và nhãn\n",
    "    X_train = train_data.drop(columns=[\"classification_encoded\", \"user_id\", \"course_id\", \"school\", \"enroll_time\", \"classification\"])\n",
    "    y_train = train_data[\"classification_encoded\"]\n",
    "\n",
    "    X_val = val_data.drop(columns=[\"classification_encoded\", \"user_id\", \"course_id\", \"school\", \"enroll_time\", \"classification\"])\n",
    "    y_val = val_data[\"classification_encoded\"]\n",
    "    \n",
    "    # Áp dụng Over-sampling cho dữ liệu huấn luyện bằng SMOTE\n",
    "    oversampler = SMOTE(sampling_strategy='auto', random_state=42)\n",
    "    X_train_res, y_train_res = oversampler.fit_resample(X_train, y_train)\n",
    "    \n",
    "    model = DecisionTreeClassifier(random_state=42)\n",
    "       # # # Khởi tạo RandomSearch tuner\n",
    "    param_grid = {\n",
    "        'criterion': ['gini', 'entropy'],  # Thêm lựa chọn entropy\n",
    "        'max_depth': [3, 5, 7],  # Tăng độ sâu lên 7 để tăng khả năng học\n",
    "        'min_samples_split': [2, 5, 10],  # Giảm giới hạn số mẫu để chia nhánh\n",
    "        'min_samples_leaf': [1, 2, 5],  # Giảm yêu cầu số mẫu tối thiểu trong lá\n",
    "}\n",
    "\n",
    "    # Khởi tạo RandomSearch tuner\n",
    "    grid_search = GridSearchCV(estimator=model, param_grid=param_grid, cv=10, scoring='accuracy',\n",
    "                              verbose=2, n_jobs=-1)\n",
    "        \n",
    "    \n",
    "   # Huấn luyện mô hình với các siêu tham số tốt nhất\n",
    "    grid_search.fit(X_train_res, y_train_res)\n",
    "\n",
    "    # Đánh giá mô hình\n",
    "    best_model = grid_search.best_estimator_\n",
    "    y_pred = best_model.predict(X_val)\n",
    "    # Trả về kết quả tối ưu cho tuần\n",
    "    best_params = grid_search.best_params_\n",
    "    return best_params"
   ]
  },
  {
   "cell_type": "code",
   "execution_count": 4,
   "id": "25fb2fc6",
   "metadata": {
    "execution": {
     "iopub.execute_input": "2024-12-21T14:14:25.662890Z",
     "iopub.status.busy": "2024-12-21T14:14:25.662490Z",
     "iopub.status.idle": "2024-12-21T14:14:25.667505Z",
     "shell.execute_reply": "2024-12-21T14:14:25.666354Z"
    },
    "papermill": {
     "duration": 0.012702,
     "end_time": "2024-12-21T14:14:25.669781",
     "exception": false,
     "start_time": "2024-12-21T14:14:25.657079",
     "status": "completed"
    },
    "tags": []
   },
   "outputs": [],
   "source": [
    "# Định nghĩa đường dẫn đến dữ liệu cho từng tuần\n",
    "file_paths_train = {\n",
    "    \"week1\": \"/kaggle/input/new-raw/clean_week1/train/clean_data_week1.csv\",\n",
    "    \"week2\": \"/kaggle/input/new-raw/clean_week2/train/clean_data_week2.csv\",\n",
    "    \"week3\": \"/kaggle/input/new-raw/clean_week3/train/clean_data_week3.csv\",\n",
    "    \"week4\": \"/kaggle/input/new-raw/clean_week4/train/clean_data_week4.csv\"\n",
    "}\n",
    "\n",
    "file_validation = {\n",
    "    \"week1\": \"/kaggle/input/new-raw/clean_week1/val/val_week1.csv\",\n",
    "    \"week2\": \"/kaggle/input/new-raw/clean_week2/val/val_week1_2.csv\",\n",
    "    \"week3\": \"/kaggle/input/new-raw/clean_week3/val/val_week1_2_3.csv\",\n",
    "    \"week4\": \"/kaggle/input/new-raw/clean_week4/val/val_week1_2_3_4.csv\"\n",
    "}"
   ]
  },
  {
   "cell_type": "code",
   "execution_count": 5,
   "id": "5e308cc9",
   "metadata": {
    "execution": {
     "iopub.execute_input": "2024-12-21T14:14:25.680981Z",
     "iopub.status.busy": "2024-12-21T14:14:25.680649Z",
     "iopub.status.idle": "2024-12-21T14:17:53.685480Z",
     "shell.execute_reply": "2024-12-21T14:17:53.684294Z"
    },
    "papermill": {
     "duration": 208.015664,
     "end_time": "2024-12-21T14:17:53.690674",
     "exception": false,
     "start_time": "2024-12-21T14:14:25.675010",
     "status": "completed"
    },
    "scrolled": true,
    "tags": []
   },
   "outputs": [
    {
     "name": "stdout",
     "output_type": "stream",
     "text": [
      "Fitting 10 folds for each of 54 candidates, totalling 540 fits\n",
      "Fitting 10 folds for each of 54 candidates, totalling 540 fits\n",
      "Fitting 10 folds for each of 54 candidates, totalling 540 fits\n",
      "Fitting 10 folds for each of 54 candidates, totalling 540 fits\n",
      "Best Parameters for Week 1:\n",
      "criterion: entropy\n",
      "max_depth: 7\n",
      "min_samples_leaf: 2\n",
      "min_samples_split: 2\n",
      "\n",
      "Best Parameters for Week 2:\n",
      "criterion: entropy\n",
      "max_depth: 7\n",
      "min_samples_leaf: 1\n",
      "min_samples_split: 2\n",
      "\n",
      "Best Parameters for Week 3:\n",
      "criterion: entropy\n",
      "max_depth: 7\n",
      "min_samples_leaf: 1\n",
      "min_samples_split: 2\n",
      "\n",
      "Best Parameters for Week 4:\n",
      "criterion: entropy\n",
      "max_depth: 7\n",
      "min_samples_leaf: 5\n",
      "min_samples_split: 2\n"
     ]
    }
   ],
   "source": [
    "# Tìm tham số tốt nhất cho từng tuần\n",
    "best_params_week1 = train_week_model(1, file_paths_train[\"week1\"], file_validation[\"week1\"])\n",
    "best_params_week2 = train_week_model(2, file_paths_train[\"week2\"], file_validation[\"week2\"])\n",
    "best_params_week3 = train_week_model(3, file_paths_train[\"week3\"], file_validation[\"week3\"])\n",
    "best_params_week4 = train_week_model(4, file_paths_train[\"week4\"], file_validation[\"week4\"])\n",
    "\n",
    "# In thông tin chi tiết các tham số tối ưu\n",
    "print(\"Best Parameters for Week 1:\")\n",
    "for param_name, param_value in best_params_week1.items():\n",
    "       print(f\"{param_name}: {param_value}\")\n",
    "\n",
    "print(\"\\nBest Parameters for Week 2:\")\n",
    "for param_name, param_value in best_params_week2.items():\n",
    "       print(f\"{param_name}: {param_value}\")\n",
    "\n",
    "print(\"\\nBest Parameters for Week 3:\")\n",
    "for param_name, param_value in best_params_week3.items():\n",
    "       print(f\"{param_name}: {param_value}\")\n",
    "\n",
    "print(\"\\nBest Parameters for Week 4:\")\n",
    "for param_name, param_value in best_params_week4.items():\n",
    "       print(f\"{param_name}: {param_value}\")"
   ]
  },
  {
   "cell_type": "code",
   "execution_count": 6,
   "id": "9d2cd3c6",
   "metadata": {
    "execution": {
     "iopub.execute_input": "2024-12-21T14:17:53.701794Z",
     "iopub.status.busy": "2024-12-21T14:17:53.701415Z",
     "iopub.status.idle": "2024-12-21T14:17:53.705777Z",
     "shell.execute_reply": "2024-12-21T14:17:53.704834Z"
    },
    "papermill": {
     "duration": 0.011818,
     "end_time": "2024-12-21T14:17:53.707284",
     "exception": false,
     "start_time": "2024-12-21T14:17:53.695466",
     "status": "completed"
    },
    "tags": []
   },
   "outputs": [],
   "source": [
    "# Danh sách tham số tốt nhất\n",
    "best_params = {\n",
    "    \"week1\": best_params_week1,\n",
    "    \"week2\": best_params_week2,\n",
    "    \"week3\": best_params_week3,\n",
    "    \"week4\": best_params_week4\n",
    "}"
   ]
  },
  {
   "cell_type": "markdown",
   "id": "3ab50aef",
   "metadata": {
    "papermill": {
     "duration": 0.004489,
     "end_time": "2024-12-21T14:17:53.716542",
     "exception": false,
     "start_time": "2024-12-21T14:17:53.712053",
     "status": "completed"
    },
    "tags": []
   },
   "source": [
    "## REPTree với các tham sốt nhất cho mỗi tuần"
   ]
  },
  {
   "cell_type": "code",
   "execution_count": 7,
   "id": "63c3356e",
   "metadata": {
    "execution": {
     "iopub.execute_input": "2024-12-21T14:17:53.727648Z",
     "iopub.status.busy": "2024-12-21T14:17:53.727269Z",
     "iopub.status.idle": "2024-12-21T14:17:56.158452Z",
     "shell.execute_reply": "2024-12-21T14:17:56.157271Z"
    },
    "papermill": {
     "duration": 2.439187,
     "end_time": "2024-12-21T14:17:56.160549",
     "exception": false,
     "start_time": "2024-12-21T14:17:53.721362",
     "status": "completed"
    },
    "tags": []
   },
   "outputs": [
    {
     "name": "stdout",
     "output_type": "stream",
     "text": [
      "\n",
      "Processing week1 with best parameters...\n",
      "best parameters for week1: {'criterion': 'entropy', 'max_depth': 7, 'min_samples_leaf': 2, 'min_samples_split': 2}\n",
      "Fold 1: Using file /kaggle/input/new-raw/clean_week1/train/5-folds/data_part_1.csv as test set\n",
      "Fold 2: Using file /kaggle/input/new-raw/clean_week1/train/5-folds/data_part_2.csv as test set\n",
      "Fold 3: Using file /kaggle/input/new-raw/clean_week1/train/5-folds/data_part_3.csv as test set\n",
      "Fold 4: Using file /kaggle/input/new-raw/clean_week1/train/5-folds/data_part_4.csv as test set\n",
      "Fold 5: Using file /kaggle/input/new-raw/clean_week1/train/5-folds/data_part_5.csv as test set\n",
      "\n",
      "=== Average Precision, Recall, F1-Score per Label ===\n",
      "   Label  Average Precision  Average Recall  Average F1-Score\n",
      "0      0           0.722966        0.825667          0.770833\n",
      "1      1           0.919409        0.520664          0.661043\n",
      "2      2           0.881437        0.541382          0.667166\n",
      "3      3           0.910348        0.511377          0.654021\n",
      "4      4           0.884438        0.933141          0.908114\n",
      "\n",
      "=== Average Confusion Matrix ===\n",
      "       0     1     2     3       4\n",
      "0  495.4   1.4   4.0   2.0    97.2\n",
      "1   27.4  45.6   1.0   1.4    12.2\n",
      "2   44.4   2.2  89.0   2.6    26.2\n",
      "3   19.2   0.2   2.2  85.4    60.0\n",
      "4   98.8   0.6   5.2   2.6  1496.2\n",
      "\n",
      "Processing week2 with best parameters...\n",
      "best parameters for week2: {'criterion': 'entropy', 'max_depth': 7, 'min_samples_leaf': 1, 'min_samples_split': 2}\n",
      "Fold 1: Using file /kaggle/input/new-raw/clean_week2/train/5-folds/data_part_1.csv as test set\n",
      "Fold 2: Using file /kaggle/input/new-raw/clean_week2/train/5-folds/data_part_2.csv as test set\n",
      "Fold 3: Using file /kaggle/input/new-raw/clean_week2/train/5-folds/data_part_3.csv as test set\n",
      "Fold 4: Using file /kaggle/input/new-raw/clean_week2/train/5-folds/data_part_4.csv as test set\n",
      "Fold 5: Using file /kaggle/input/new-raw/clean_week2/train/5-folds/data_part_5.csv as test set\n",
      "\n",
      "=== Average Precision, Recall, F1-Score per Label ===\n",
      "   Label  Average Precision  Average Recall  Average F1-Score\n",
      "0      0           0.734074        0.816000          0.772830\n",
      "1      1           0.910673        0.520664          0.659134\n",
      "2      2           0.846532        0.540163          0.656518\n",
      "3      3           0.863363        0.514970          0.643980\n",
      "4      4           0.883660        0.936883          0.909483\n",
      "\n",
      "=== Average Confusion Matrix ===\n",
      "       0     1     2     3       4\n",
      "0  489.6   1.8   4.6   3.0   101.0\n",
      "1   25.6  45.6   1.4   1.8    13.2\n",
      "2   43.2   2.2  88.8   4.4    25.8\n",
      "3   19.2   0.2   3.8  86.0    57.8\n",
      "4   89.4   0.6   6.6   4.6  1502.2\n",
      "\n",
      "Processing week3 with best parameters...\n",
      "best parameters for week3: {'criterion': 'entropy', 'max_depth': 7, 'min_samples_leaf': 1, 'min_samples_split': 2}\n",
      "Fold 1: Using file /kaggle/input/new-raw/clean_week3/train/5-folds/data_part_1.csv as test set\n",
      "Fold 2: Using file /kaggle/input/new-raw/clean_week3/train/5-folds/data_part_2.csv as test set\n",
      "Fold 3: Using file /kaggle/input/new-raw/clean_week3/train/5-folds/data_part_3.csv as test set\n",
      "Fold 4: Using file /kaggle/input/new-raw/clean_week3/train/5-folds/data_part_4.csv as test set\n",
      "Fold 5: Using file /kaggle/input/new-raw/clean_week3/train/5-folds/data_part_5.csv as test set\n",
      "\n",
      "=== Average Precision, Recall, F1-Score per Label ===\n",
      "   Label  Average Precision  Average Recall  Average F1-Score\n",
      "0      0           0.730675        0.820667          0.772998\n",
      "1      1           0.912293        0.520664          0.659068\n",
      "2      2           0.859878        0.537731          0.659070\n",
      "3      3           0.865329        0.514970          0.644390\n",
      "4      4           0.884531        0.935261          0.909175\n",
      "\n",
      "=== Average Confusion Matrix ===\n",
      "       0     1     2     3       4\n",
      "0  492.4   1.6   3.8   3.2    99.0\n",
      "1   25.6  45.6   1.4   1.8    13.2\n",
      "2   44.0   2.4  88.4   4.2    25.4\n",
      "3   19.4   0.2   3.2  86.0    58.2\n",
      "4   92.6   0.6   6.2   4.4  1499.6\n",
      "\n",
      "Processing week4 with best parameters...\n",
      "best parameters for week4: {'criterion': 'entropy', 'max_depth': 7, 'min_samples_leaf': 5, 'min_samples_split': 2}\n",
      "Fold 1: Using file /kaggle/input/new-raw/clean_week4/train/5-folds/data_part_1.csv as test set\n",
      "Fold 2: Using file /kaggle/input/new-raw/clean_week4/train/5-folds/data_part_2.csv as test set\n",
      "Fold 3: Using file /kaggle/input/new-raw/clean_week4/train/5-folds/data_part_3.csv as test set\n",
      "Fold 4: Using file /kaggle/input/new-raw/clean_week4/train/5-folds/data_part_4.csv as test set\n",
      "Fold 5: Using file /kaggle/input/new-raw/clean_week4/train/5-folds/data_part_5.csv as test set\n",
      "\n",
      "=== Average Precision, Recall, F1-Score per Label ===\n",
      "   Label  Average Precision  Average Recall  Average F1-Score\n",
      "0      0           0.731304        0.814000          0.770309\n",
      "1      1           0.935854        0.516066          0.661663\n",
      "2      2           0.830759        0.548662          0.657126\n",
      "3      3           0.866872        0.514970          0.644836\n",
      "4      4           0.883027        0.934637          0.908071\n",
      "\n",
      "=== Average Confusion Matrix ===\n",
      "       0     1     2     3       4\n",
      "0  488.4   0.8   7.0   3.2   100.6\n",
      "1   24.6  45.2   2.0   1.8    14.0\n",
      "2   43.0   2.0  90.2   3.8    25.4\n",
      "3   19.0   0.0   3.4  86.0    58.6\n",
      "4   93.0   0.6   6.6   4.6  1498.6\n"
     ]
    }
   ],
   "source": [
    "# Biến lưu kết quả tổng quát\n",
    "overall_results_5folds = []\n",
    "\n",
    "# Lặp qua từng tuần\n",
    "for week, file_paths in five_fold_files.items():\n",
    "    print(f\"\\nProcessing {week} with best parameters...\")\n",
    "    params = best_params[week]\n",
    "    print(f\"best parameters for {week}: {params}\")\n",
    "    \n",
    "    # Biến lưu kết quả cho từng tuần\n",
    "    week_results = {\n",
    "        \"week\": week,\n",
    "        \"accuracy_per_fold\": [],\n",
    "        \"precision_per_label\": [],\n",
    "        \"recall_per_label\": [],\n",
    "        \"f1_score_per_label\": [],\n",
    "        \"confusion_matrices\": [],\n",
    "        \"train_times\": [],\n",
    "        \"test_times\": []\n",
    "    }\n",
    "\n",
    "    # Lặp qua từng fold\n",
    "    for i in range(len(file_paths)):\n",
    "        print(f\"Fold {i+1}: Using file {file_paths[i]} as test set\")\n",
    "        \n",
    "        # Tải dữ liệu\n",
    "        test_data = pd.read_csv(file_paths[i])\n",
    "        train_data = pd.concat([pd.read_csv(file_paths[j]) for j in range(len(file_paths)) if j != i])\n",
    "        \n",
    "        # Tách X và y\n",
    "        X_train = train_data.drop(columns=[\"classification_encoded\", \"user_id\",\n",
    "                                           \"course_id\", \"school\", \"enroll_time\", \"classification\"])\n",
    "        y_train = train_data['classification_encoded']\n",
    "        \n",
    "        X_test = test_data.drop(columns=[\"classification_encoded\", \"user_id\",\n",
    "                                         \"course_id\", \"school\", \"enroll_time\", \"classification\"])\n",
    "        y_test = test_data['classification_encoded']\n",
    "\n",
    "\n",
    "        # Xây dựng mô hình với tham số tốt nhất\n",
    "        model = DecisionTreeClassifier(**params)\n",
    "        \n",
    "        # Bắt đầu tính thời gian huấn luyện\n",
    "        start_train = time.time()\n",
    "        model.fit(X_train, y_train)\n",
    "        end_train = time.time()\n",
    "        \n",
    "        # Bắt đầu tính thời gian kiểm thử\n",
    "        start_test = time.time()\n",
    "        y_pred = model.predict(X_test)\n",
    "        end_test = time.time()\n",
    "        \n",
    "        # Tính thời gian và lưu lại\n",
    "        train_time = end_train - start_train\n",
    "        test_time = end_test - start_test\n",
    "        week_results[\"train_times\"].append(train_time)\n",
    "        week_results[\"test_times\"].append(test_time)\n",
    "\n",
    "        # Đánh giá mô hình trên tập kiểm thử của fold hiện tại\n",
    "        accuracy = accuracy_score(y_test, y_pred)\n",
    "        week_results[\"accuracy_per_fold\"].append(accuracy)\n",
    "        # Dự đoán\n",
    "\n",
    "        \n",
    "        # Tính các chỉ số cho mỗi fold\n",
    "        precision, recall, f1, _ = precision_recall_fscore_support(y_test, y_pred, average=None)\n",
    "        conf_matrix = confusion_matrix(y_test, y_pred)\n",
    "        \n",
    "        week_results[\"precision_per_label\"].append(precision)\n",
    "        week_results[\"recall_per_label\"].append(recall)\n",
    "        week_results[\"f1_score_per_label\"].append(f1)\n",
    "        week_results[\"confusion_matrices\"].append(conf_matrix)\n",
    "\n",
    "    # Tính trung bình cho từng nhãn\n",
    "    average_precision_per_label = np.mean(week_results[\"precision_per_label\"], axis=0)\n",
    "    average_recall_per_label = np.mean(week_results[\"recall_per_label\"], axis=0)\n",
    "    average_f1_per_label = np.mean(week_results[\"f1_score_per_label\"], axis=0)\n",
    "    average_confusion_matrix = np.mean(week_results[\"confusion_matrices\"], axis=0)\n",
    "    average_train_time = sum(week_results[\"train_times\"]) / len(week_results[\"train_times\"])\n",
    "    average_test_time = sum(week_results[\"test_times\"]) / len(week_results[\"test_times\"])\n",
    "    \n",
    "    # Tạo DataFrame cho precision, recall, f1-score\n",
    "    labels = np.unique(y_test)  # Lấy nhãn từ y_test_classes\n",
    "    metrics_df = pd.DataFrame({\n",
    "        \"Label\": labels,\n",
    "        \"Average Precision\": average_precision_per_label,\n",
    "        \"Average Recall\": average_recall_per_label,\n",
    "        \"Average F1-Score\": average_f1_per_label\n",
    "    })\n",
    "    \n",
    "    # Tạo DataFrame cho confusion matrix|\n",
    "    confusion_df = pd.DataFrame(average_confusion_matrix, index=labels, columns=labels)\n",
    "    \n",
    "    # In kết quả\n",
    "    print(\"\\n=== Average Precision, Recall, F1-Score per Label ===\")\n",
    "    print(metrics_df)\n",
    "    print(\"\\n=== Average Confusion Matrix ===\")\n",
    "    print(confusion_df)\n",
    "\n",
    "    # Lưu kết quả tuần vào kết quả tổng quát\n",
    "    week_results[\"average_train_times\"] = average_train_time\n",
    "    week_results[\"average_test_times\"] = average_test_time\n",
    "    week_results[\"average_metrics_df\"] = metrics_df\n",
    "    week_results[\"average_confusion_matrix\"] = confusion_df\n",
    "    overall_results_5folds.append(week_results)"
   ]
  },
  {
   "cell_type": "markdown",
   "id": "0f9936df",
   "metadata": {
    "papermill": {
     "duration": 0.004968,
     "end_time": "2024-12-21T14:17:56.171383",
     "exception": false,
     "start_time": "2024-12-21T14:17:56.166415",
     "status": "completed"
    },
    "tags": []
   },
   "source": [
    "## Kết quả 5-folds"
   ]
  },
  {
   "cell_type": "code",
   "execution_count": 8,
   "id": "f519ac00",
   "metadata": {
    "execution": {
     "iopub.execute_input": "2024-12-21T14:17:56.183404Z",
     "iopub.status.busy": "2024-12-21T14:17:56.183013Z",
     "iopub.status.idle": "2024-12-21T14:17:56.210425Z",
     "shell.execute_reply": "2024-12-21T14:17:56.208940Z"
    },
    "papermill": {
     "duration": 0.035425,
     "end_time": "2024-12-21T14:17:56.212261",
     "exception": false,
     "start_time": "2024-12-21T14:17:56.176836",
     "status": "completed"
    },
    "tags": []
   },
   "outputs": [
    {
     "name": "stdout",
     "output_type": "stream",
     "text": [
      "\n",
      "=== Results for week1 ===\n",
      "Average Train Time: 0.0239 seconds\n",
      "Average Test Time: 0.0019 seconds\n",
      "\n",
      "Average Precision, Recall, F1-Score per Label:\n",
      "   Label  Average Precision  Average Recall  Average F1-Score\n",
      "0      0           0.722966        0.825667          0.770833\n",
      "1      1           0.919409        0.520664          0.661043\n",
      "2      2           0.881437        0.541382          0.667166\n",
      "3      3           0.910348        0.511377          0.654021\n",
      "4      4           0.884438        0.933141          0.908114\n",
      "\n",
      "Average Confusion Matrix:\n",
      "       0     1     2     3       4\n",
      "0  495.4   1.4   4.0   2.0    97.2\n",
      "1   27.4  45.6   1.0   1.4    12.2\n",
      "2   44.4   2.2  89.0   2.6    26.2\n",
      "3   19.2   0.2   2.2  85.4    60.0\n",
      "4   98.8   0.6   5.2   2.6  1496.2\n",
      "\n",
      "=== Results for week2 ===\n",
      "Average Train Time: 0.0336 seconds\n",
      "Average Test Time: 0.0020 seconds\n",
      "\n",
      "Average Precision, Recall, F1-Score per Label:\n",
      "   Label  Average Precision  Average Recall  Average F1-Score\n",
      "0      0           0.734074        0.816000          0.772830\n",
      "1      1           0.910673        0.520664          0.659134\n",
      "2      2           0.846532        0.540163          0.656518\n",
      "3      3           0.863363        0.514970          0.643980\n",
      "4      4           0.883660        0.936883          0.909483\n",
      "\n",
      "Average Confusion Matrix:\n",
      "       0     1     2     3       4\n",
      "0  489.6   1.8   4.6   3.0   101.0\n",
      "1   25.6  45.6   1.4   1.8    13.2\n",
      "2   43.2   2.2  88.8   4.4    25.8\n",
      "3   19.2   0.2   3.8  86.0    57.8\n",
      "4   89.4   0.6   6.6   4.6  1502.2\n",
      "\n",
      "=== Results for week3 ===\n",
      "Average Train Time: 0.0421 seconds\n",
      "Average Test Time: 0.0023 seconds\n",
      "\n",
      "Average Precision, Recall, F1-Score per Label:\n",
      "   Label  Average Precision  Average Recall  Average F1-Score\n",
      "0      0           0.730675        0.820667          0.772998\n",
      "1      1           0.912293        0.520664          0.659068\n",
      "2      2           0.859878        0.537731          0.659070\n",
      "3      3           0.865329        0.514970          0.644390\n",
      "4      4           0.884531        0.935261          0.909175\n",
      "\n",
      "Average Confusion Matrix:\n",
      "       0     1     2     3       4\n",
      "0  492.4   1.6   3.8   3.2    99.0\n",
      "1   25.6  45.6   1.4   1.8    13.2\n",
      "2   44.0   2.4  88.4   4.2    25.4\n",
      "3   19.4   0.2   3.2  86.0    58.2\n",
      "4   92.6   0.6   6.2   4.4  1499.6\n",
      "\n",
      "=== Results for week4 ===\n",
      "Average Train Time: 0.0470 seconds\n",
      "Average Test Time: 0.0023 seconds\n",
      "\n",
      "Average Precision, Recall, F1-Score per Label:\n",
      "   Label  Average Precision  Average Recall  Average F1-Score\n",
      "0      0           0.731304        0.814000          0.770309\n",
      "1      1           0.935854        0.516066          0.661663\n",
      "2      2           0.830759        0.548662          0.657126\n",
      "3      3           0.866872        0.514970          0.644836\n",
      "4      4           0.883027        0.934637          0.908071\n",
      "\n",
      "Average Confusion Matrix:\n",
      "       0     1     2     3       4\n",
      "0  488.4   0.8   7.0   3.2   100.6\n",
      "1   24.6  45.2   2.0   1.8    14.0\n",
      "2   43.0   2.0  90.2   3.8    25.4\n",
      "3   19.0   0.0   3.4  86.0    58.6\n",
      "4   93.0   0.6   6.6   4.6  1498.6\n"
     ]
    }
   ],
   "source": [
    "# Duyệt qua các tuần trong overall_results\n",
    "for week_result in overall_results_5folds:\n",
    "    week = week_result[\"week\"]\n",
    "    average_train_time = np.mean(week_result[\"train_times\"])\n",
    "    average_test_time = np.mean(week_result[\"test_times\"])\n",
    "    average_metrics_df = week_result[\"average_metrics_df\"]\n",
    "    average_confusion_matrix = week_result[\"average_confusion_matrix\"]\n",
    "    \n",
    "    # In kết quả\n",
    "    print(f\"\\n=== Results for {week} ===\")\n",
    "    print(f\"Average Train Time: {average_train_time:.4f} seconds\")\n",
    "    print(f\"Average Test Time: {average_test_time:.4f} seconds\")\n",
    "    print(\"\\nAverage Precision, Recall, F1-Score per Label:\")\n",
    "    print(average_metrics_df)\n",
    "    print(\"\\nAverage Confusion Matrix:\")\n",
    "    print(average_confusion_matrix)\n"
   ]
  },
  {
   "cell_type": "markdown",
   "id": "8d97ac39",
   "metadata": {
    "papermill": {
     "duration": 0.005234,
     "end_time": "2024-12-21T14:17:56.223178",
     "exception": false,
     "start_time": "2024-12-21T14:17:56.217944",
     "status": "completed"
    },
    "tags": []
   },
   "source": [
    "## Test trên tập test"
   ]
  },
  {
   "cell_type": "code",
   "execution_count": 9,
   "id": "c0820b35",
   "metadata": {
    "execution": {
     "iopub.execute_input": "2024-12-21T14:17:56.235218Z",
     "iopub.status.busy": "2024-12-21T14:17:56.234801Z",
     "iopub.status.idle": "2024-12-21T14:17:56.244153Z",
     "shell.execute_reply": "2024-12-21T14:17:56.243130Z"
    },
    "papermill": {
     "duration": 0.017185,
     "end_time": "2024-12-21T14:17:56.245727",
     "exception": false,
     "start_time": "2024-12-21T14:17:56.228542",
     "status": "completed"
    },
    "tags": []
   },
   "outputs": [],
   "source": [
    "# Mảng lưu dữ liệu của các tuần\n",
    "results = []\n",
    "\n",
    "def process_week(week_num, best_params, results):\n",
    "    print(f\"\\n=== Processing Week {week_num} ===\")\n",
    "    params = best_params[week]\n",
    "    # Đường dẫn tới dữ liệu tuần tương ứng\n",
    "    train_path = f\"/kaggle/input/new-raw/clean_week{week_num}/train/clean_data_week{week_num}.csv\"\n",
    "    test_path = f\"/kaggle/input/new-raw/clean_week{week_num}/test/test_week{week_num}.csv\"\n",
    "    \n",
    "    # Load dữ liệu\n",
    "    train_data = pd.read_csv(train_path)\n",
    "    test_data = pd.read_csv(test_path)\n",
    "    \n",
    "    # Tách X và y\n",
    "    X_train = train_data.drop(columns=[\"classification_encoded\", \"user_id\",\n",
    "                                       \"course_id\", \"school\", \"enroll_time\", \"classification\"])\n",
    "    y_train = train_data['classification_encoded']\n",
    "    \n",
    "    X_test = test_data.drop(columns=[\"classification_encoded\", \"user_id\",\n",
    "                                     \"course_id\", \"school\", \"enroll_time\", \"classification\"])\n",
    "    y_test = test_data['classification_encoded']\n",
    "\n",
    "    # Áp dụng SMOTE cho tập huấn luyện\n",
    "    smote = SMOTE(random_state=42)\n",
    "    X_train_resampled, y_train_resampled = smote.fit_resample(X_train, y_train)\n",
    "\n",
    "    # Xây dựng mô hình với tham số tốt nhất\n",
    "    model = DecisionTreeClassifier(**params)\n",
    "    \n",
    "    # Huấn luyện mô hình\n",
    "    start_train = time.time()\n",
    "    model.fit(X_train, y_train)\n",
    "    end_train = time.time()\n",
    "    \n",
    "    # Kiểm thử mô hình\n",
    "    start_test = time.time()\n",
    "    y_pred = model.predict(X_test)\n",
    "    end_test = time.time()\n",
    "    \n",
    "    # Tính thời gian huấn luyện và kiểm thử\n",
    "    train_time = end_train - start_train\n",
    "    test_time = end_test - start_test\n",
    "    \n",
    "    \n",
    "    precision, recall, f1, _ = precision_recall_fscore_support(y_test, y_pred, average=None)\n",
    "    conf_matrix = confusion_matrix(y_test, y_pred)\n",
    "    \n",
    "    # Lưu kết quả vào mảng\n",
    "    results.append({\n",
    "        \"week\": week_num,\n",
    "        \"train_time\": train_time,\n",
    "        \"test_time\": test_time,\n",
    "        \"precision\": precision,\n",
    "        \"recall\": recall,\n",
    "        \"f1_score\": f1,\n",
    "        \"confusion_matrix\": conf_matrix\n",
    "    })\n",
    "    \n",
    "    print(\"\\n=== Precision, Recall, F1-Score per Label ===\")\n",
    "    print(pd.DataFrame({\n",
    "        \"Label\": np.unique(y_test),\n",
    "        \"Precision\": precision,\n",
    "        \"Recall\": recall,\n",
    "        \"F1-Score\": f1\n",
    "    }))\n",
    "    print(\"\\n=== Confusion Matrix ===\")\n",
    "    print(pd.DataFrame(conf_matrix, index=np.unique(y_test), columns=np.unique(y_test)))\n",
    "    \n",
    "    print(f\"\\nTrain Time: {train_time:.2f} seconds\")\n",
    "    print(f\"Test Time: {test_time:.2f} seconds\")"
   ]
  },
  {
   "cell_type": "code",
   "execution_count": 10,
   "id": "941a2e65",
   "metadata": {
    "execution": {
     "iopub.execute_input": "2024-12-21T14:17:56.258008Z",
     "iopub.status.busy": "2024-12-21T14:17:56.257661Z",
     "iopub.status.idle": "2024-12-21T14:17:56.429315Z",
     "shell.execute_reply": "2024-12-21T14:17:56.428087Z"
    },
    "papermill": {
     "duration": 0.179692,
     "end_time": "2024-12-21T14:17:56.431152",
     "exception": false,
     "start_time": "2024-12-21T14:17:56.251460",
     "status": "completed"
    },
    "tags": []
   },
   "outputs": [
    {
     "name": "stdout",
     "output_type": "stream",
     "text": [
      "\n",
      "=== Processing Week 1 ===\n",
      "\n",
      "=== Precision, Recall, F1-Score per Label ===\n",
      "   Label  Precision    Recall  F1-Score\n",
      "0      0   0.724057  0.818667  0.768461\n",
      "1      1   0.789474  0.555556  0.652174\n",
      "2      2   0.888889  0.543689  0.674699\n",
      "3      3   0.938776  0.438095  0.597403\n",
      "4      4   0.878987  0.934197  0.905752\n",
      "\n",
      "=== Confusion Matrix ===\n",
      "     0   1   2   3    4\n",
      "0  307   4   4   1   59\n",
      "1   16  30   0   0    8\n",
      "2   25   4  56   1   17\n",
      "3   12   0   2  46   45\n",
      "4   64   0   1   1  937\n",
      "\n",
      "Train Time: 0.03 seconds\n",
      "Test Time: 0.00 seconds\n"
     ]
    }
   ],
   "source": [
    "process_week(1, best_params, results)"
   ]
  },
  {
   "cell_type": "code",
   "execution_count": 11,
   "id": "9b2d98df",
   "metadata": {
    "execution": {
     "iopub.execute_input": "2024-12-21T14:17:56.444341Z",
     "iopub.status.busy": "2024-12-21T14:17:56.443887Z",
     "iopub.status.idle": "2024-12-21T14:17:56.647466Z",
     "shell.execute_reply": "2024-12-21T14:17:56.646151Z"
    },
    "papermill": {
     "duration": 0.212437,
     "end_time": "2024-12-21T14:17:56.649411",
     "exception": false,
     "start_time": "2024-12-21T14:17:56.436974",
     "status": "completed"
    },
    "tags": []
   },
   "outputs": [
    {
     "name": "stdout",
     "output_type": "stream",
     "text": [
      "\n",
      "=== Processing Week 2 ===\n",
      "\n",
      "=== Precision, Recall, F1-Score per Label ===\n",
      "   Label  Precision    Recall  F1-Score\n",
      "0      0   0.733333  0.821333  0.774843\n",
      "1      1   0.789474  0.555556  0.652174\n",
      "2      2   0.850746  0.553398  0.670588\n",
      "3      3   0.905660  0.457143  0.607595\n",
      "4      4   0.886064  0.938185  0.911380\n",
      "\n",
      "=== Confusion Matrix ===\n",
      "     0   1   2   3    4\n",
      "0  308   4   4   1   58\n",
      "1   18  30   0   0    6\n",
      "2   25   4  57   3   14\n",
      "3   12   0   2  48   43\n",
      "4   57   0   4   1  941\n",
      "\n",
      "Train Time: 0.04 seconds\n",
      "Test Time: 0.00 seconds\n"
     ]
    }
   ],
   "source": [
    "process_week(2, best_params, results)"
   ]
  },
  {
   "cell_type": "code",
   "execution_count": 12,
   "id": "8d7eaf3e",
   "metadata": {
    "execution": {
     "iopub.execute_input": "2024-12-21T14:17:56.662180Z",
     "iopub.status.busy": "2024-12-21T14:17:56.661811Z",
     "iopub.status.idle": "2024-12-21T14:17:56.887341Z",
     "shell.execute_reply": "2024-12-21T14:17:56.885992Z"
    },
    "papermill": {
     "duration": 0.233745,
     "end_time": "2024-12-21T14:17:56.889103",
     "exception": false,
     "start_time": "2024-12-21T14:17:56.655358",
     "status": "completed"
    },
    "tags": []
   },
   "outputs": [
    {
     "name": "stdout",
     "output_type": "stream",
     "text": [
      "\n",
      "=== Processing Week 3 ===\n",
      "\n",
      "=== Precision, Recall, F1-Score per Label ===\n",
      "   Label  Precision    Recall  F1-Score\n",
      "0      0   0.733333  0.821333  0.774843\n",
      "1      1   0.789474  0.555556  0.652174\n",
      "2      2   0.850746  0.553398  0.670588\n",
      "3      3   0.905660  0.457143  0.607595\n",
      "4      4   0.886064  0.938185  0.911380\n",
      "\n",
      "=== Confusion Matrix ===\n",
      "     0   1   2   3    4\n",
      "0  308   4   4   1   58\n",
      "1   18  30   0   0    6\n",
      "2   25   4  57   3   14\n",
      "3   12   0   2  48   43\n",
      "4   57   0   4   1  941\n",
      "\n",
      "Train Time: 0.05 seconds\n",
      "Test Time: 0.00 seconds\n"
     ]
    }
   ],
   "source": [
    "process_week(3, best_params, results)"
   ]
  },
  {
   "cell_type": "code",
   "execution_count": 13,
   "id": "f72238b0",
   "metadata": {
    "execution": {
     "iopub.execute_input": "2024-12-21T14:17:56.902433Z",
     "iopub.status.busy": "2024-12-21T14:17:56.902051Z",
     "iopub.status.idle": "2024-12-21T14:17:57.197363Z",
     "shell.execute_reply": "2024-12-21T14:17:57.196202Z"
    },
    "papermill": {
     "duration": 0.304444,
     "end_time": "2024-12-21T14:17:57.199700",
     "exception": false,
     "start_time": "2024-12-21T14:17:56.895256",
     "status": "completed"
    },
    "tags": []
   },
   "outputs": [
    {
     "name": "stdout",
     "output_type": "stream",
     "text": [
      "\n",
      "=== Processing Week 4 ===\n",
      "\n",
      "=== Precision, Recall, F1-Score per Label ===\n",
      "   Label  Precision    Recall  F1-Score\n",
      "0      0   0.728132  0.821333  0.771930\n",
      "1      1   0.789474  0.555556  0.652174\n",
      "2      2   0.850746  0.553398  0.670588\n",
      "3      3   0.905660  0.457143  0.607595\n",
      "4      4   0.886686  0.936191  0.910766\n",
      "\n",
      "=== Confusion Matrix ===\n",
      "     0   1   2   3    4\n",
      "0  308   4   4   1   58\n",
      "1   18  30   0   0    6\n",
      "2   25   4  57   3   14\n",
      "3   13   0   2  48   42\n",
      "4   59   0   4   1  939\n",
      "\n",
      "Train Time: 0.06 seconds\n",
      "Test Time: 0.00 seconds\n"
     ]
    }
   ],
   "source": [
    "process_week(4, best_params, results)"
   ]
  },
  {
   "cell_type": "code",
   "execution_count": 14,
   "id": "3b42bde2",
   "metadata": {
    "execution": {
     "iopub.execute_input": "2024-12-21T14:17:57.214833Z",
     "iopub.status.busy": "2024-12-21T14:17:57.214471Z",
     "iopub.status.idle": "2024-12-21T14:17:57.226990Z",
     "shell.execute_reply": "2024-12-21T14:17:57.225856Z"
    },
    "papermill": {
     "duration": 0.021246,
     "end_time": "2024-12-21T14:17:57.228678",
     "exception": false,
     "start_time": "2024-12-21T14:17:57.207432",
     "status": "completed"
    },
    "tags": []
   },
   "outputs": [
    {
     "name": "stdout",
     "output_type": "stream",
     "text": [
      "\n",
      "=== Summary Results for All Weeks ===\n",
      "Week 1:\n",
      "  Train Time: 0.03 seconds\n",
      "  Test Time: 0.00 seconds\n",
      "  Precision: [0.7240566  0.78947368 0.88888889 0.93877551 0.87898687]\n",
      "  Recall: [0.81866667 0.55555556 0.54368932 0.43809524 0.93419741]\n",
      "  F1-Score: [0.76846058 0.65217391 0.6746988  0.5974026  0.90575157]\n",
      "  Confusion Matrix:\n",
      "[[307   4   4   1  59]\n",
      " [ 16  30   0   0   8]\n",
      " [ 25   4  56   1  17]\n",
      " [ 12   0   2  46  45]\n",
      " [ 64   0   1   1 937]]\n",
      "Week 2:\n",
      "  Train Time: 0.04 seconds\n",
      "  Test Time: 0.00 seconds\n",
      "  Precision: [0.73333333 0.78947368 0.85074627 0.90566038 0.88606403]\n",
      "  Recall: [0.82133333 0.55555556 0.55339806 0.45714286 0.93818544]\n",
      "  F1-Score: [0.77484277 0.65217391 0.67058824 0.60759494 0.91138015]\n",
      "  Confusion Matrix:\n",
      "[[308   4   4   1  58]\n",
      " [ 18  30   0   0   6]\n",
      " [ 25   4  57   3  14]\n",
      " [ 12   0   2  48  43]\n",
      " [ 57   0   4   1 941]]\n",
      "Week 3:\n",
      "  Train Time: 0.05 seconds\n",
      "  Test Time: 0.00 seconds\n",
      "  Precision: [0.73333333 0.78947368 0.85074627 0.90566038 0.88606403]\n",
      "  Recall: [0.82133333 0.55555556 0.55339806 0.45714286 0.93818544]\n",
      "  F1-Score: [0.77484277 0.65217391 0.67058824 0.60759494 0.91138015]\n",
      "  Confusion Matrix:\n",
      "[[308   4   4   1  58]\n",
      " [ 18  30   0   0   6]\n",
      " [ 25   4  57   3  14]\n",
      " [ 12   0   2  48  43]\n",
      " [ 57   0   4   1 941]]\n",
      "Week 4:\n",
      "  Train Time: 0.06 seconds\n",
      "  Test Time: 0.00 seconds\n",
      "  Precision: [0.72813239 0.78947368 0.85074627 0.90566038 0.88668555]\n",
      "  Recall: [0.82133333 0.55555556 0.55339806 0.45714286 0.93619143]\n",
      "  F1-Score: [0.77192982 0.65217391 0.67058824 0.60759494 0.91076625]\n",
      "  Confusion Matrix:\n",
      "[[308   4   4   1  58]\n",
      " [ 18  30   0   0   6]\n",
      " [ 25   4  57   3  14]\n",
      " [ 13   0   2  48  42]\n",
      " [ 59   0   4   1 939]]\n"
     ]
    }
   ],
   "source": [
    "# Hiển thị dữ liệu của các tuần\n",
    "print(\"\\n=== Summary Results for All Weeks ===\")\n",
    "for result in results:\n",
    "    print(f\"Week {result['week']}:\")\n",
    "    print(f\"  Train Time: {result['train_time']:.2f} seconds\")\n",
    "    print(f\"  Test Time: {result['test_time']:.2f} seconds\")\n",
    "    print(f\"  Precision: {result['precision']}\")\n",
    "    print(f\"  Recall: {result['recall']}\")\n",
    "    print(f\"  F1-Score: {result['f1_score']}\")\n",
    "    print(f\"  Confusion Matrix:\\n{result['confusion_matrix']}\")"
   ]
  },
  {
   "cell_type": "code",
   "execution_count": null,
   "id": "bec96572",
   "metadata": {
    "papermill": {
     "duration": 0.00569,
     "end_time": "2024-12-21T14:17:57.240485",
     "exception": false,
     "start_time": "2024-12-21T14:17:57.234795",
     "status": "completed"
    },
    "tags": []
   },
   "outputs": [],
   "source": []
  }
 ],
 "metadata": {
  "kaggle": {
   "accelerator": "none",
   "dataSources": [
    {
     "datasetId": 6347294,
     "sourceId": 10260742,
     "sourceType": "datasetVersion"
    }
   ],
   "dockerImageVersionId": 30822,
   "isGpuEnabled": false,
   "isInternetEnabled": true,
   "language": "python",
   "sourceType": "notebook"
  },
  "kernelspec": {
   "display_name": "Python 3",
   "language": "python",
   "name": "python3"
  },
  "language_info": {
   "codemirror_mode": {
    "name": "ipython",
    "version": 3
   },
   "file_extension": ".py",
   "mimetype": "text/x-python",
   "name": "python",
   "nbconvert_exporter": "python",
   "pygments_lexer": "ipython3",
   "version": "3.10.12"
  },
  "papermill": {
   "default_parameters": {},
   "duration": 217.707506,
   "end_time": "2024-12-21T14:17:57.969304",
   "environment_variables": {},
   "exception": null,
   "input_path": "__notebook__.ipynb",
   "output_path": "__notebook__.ipynb",
   "parameters": {},
   "start_time": "2024-12-21T14:14:20.261798",
   "version": "2.6.0"
  }
 },
 "nbformat": 4,
 "nbformat_minor": 5
}
