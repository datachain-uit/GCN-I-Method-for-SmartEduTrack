{
 "cells": [
  {
   "cell_type": "code",
   "execution_count": 1,
   "id": "f009c93a",
   "metadata": {
    "execution": {
     "iopub.execute_input": "2024-12-21T14:34:19.394788Z",
     "iopub.status.busy": "2024-12-21T14:34:19.394420Z",
     "iopub.status.idle": "2024-12-21T14:34:19.401499Z",
     "shell.execute_reply": "2024-12-21T14:34:19.400710Z"
    },
    "papermill": {
     "duration": 0.015263,
     "end_time": "2024-12-21T14:34:19.403152",
     "exception": false,
     "start_time": "2024-12-21T14:34:19.387889",
     "status": "completed"
    },
    "tags": []
   },
   "outputs": [],
   "source": [
    "five_fold_files = {\n",
    "    \"week1\": [\n",
    "        \"/kaggle/input/new-raw/clean_week1/train/5-folds/data_part_1.csv\",\n",
    "        \"/kaggle/input/new-raw/clean_week1/train/5-folds/data_part_2.csv\",\n",
    "        \"/kaggle/input/new-raw/clean_week1/train/5-folds/data_part_3.csv\",\n",
    "        \"/kaggle/input/new-raw/clean_week1/train/5-folds/data_part_4.csv\",\n",
    "        \"/kaggle/input/new-raw/clean_week1/train/5-folds/data_part_5.csv\"\n",
    "    ],\n",
    "    \"week2\": [\n",
    "        \"/kaggle/input/new-raw/clean_week2/train/5-folds/data_part_1.csv\",\n",
    "        \"/kaggle/input/new-raw/clean_week2/train/5-folds/data_part_2.csv\",\n",
    "        \"/kaggle/input/new-raw/clean_week2/train/5-folds/data_part_3.csv\",\n",
    "        \"/kaggle/input/new-raw/clean_week2/train/5-folds/data_part_4.csv\",\n",
    "        \"/kaggle/input/new-raw/clean_week2/train/5-folds/data_part_5.csv\"\n",
    "    ],\n",
    "    \"week3\": [\n",
    "        \"/kaggle/input/new-raw/clean_week3/train/5-folds/data_part_1.csv\",\n",
    "        \"/kaggle/input/new-raw/clean_week3/train/5-folds/data_part_2.csv\",\n",
    "        \"/kaggle/input/new-raw/clean_week3/train/5-folds/data_part_3.csv\",\n",
    "        \"/kaggle/input/new-raw/clean_week3/train/5-folds/data_part_4.csv\",\n",
    "        \"/kaggle/input/new-raw/clean_week3/train/5-folds/data_part_5.csv\"\n",
    "    ],\n",
    "    \"week4\": [\n",
    "        \"/kaggle/input/new-raw/clean_week4/train/5-folds/data_part_1.csv\",\n",
    "        \"/kaggle/input/new-raw/clean_week4/train/5-folds/data_part_2.csv\",\n",
    "        \"/kaggle/input/new-raw/clean_week4/train/5-folds/data_part_3.csv\",\n",
    "        \"/kaggle/input/new-raw/clean_week4/train/5-folds/data_part_4.csv\",\n",
    "        \"/kaggle/input/new-raw/clean_week4/train/5-folds/data_part_5.csv\"\n",
    "    ]\n",
    "}\n",
    "\n",
    "file_validation = {\n",
    "    \"week1\": [\n",
    "        \"/kaggle/input/new-raw/clean_week1/val/val_week1.csv\"\n",
    "    ],\n",
    "    \"week2\": [\n",
    "        \"/kaggle/input/new-raw/clean_week2/val/val_week1_2.csv\"\n",
    "    ],\n",
    "    \"week3\": [\n",
    "        \"/kaggle/input/new-raw/clean_week3/val/val_week1_2_3.csv\"\n",
    "    ],\n",
    "    \"week4\": [\n",
    "        \"/kaggle/input/new-raw/clean_week4/val/val_week1_2_3_4.csv\"\n",
    "    ]\n",
    "}\n",
    "\n",
    "file_test = {\n",
    "    \"week1\": [\n",
    "        \"/kaggle/input/new-raw/clean_week1/test/test_week1.csv\"\n",
    "    ],\n",
    "    \"week2\": [\n",
    "        \"/kaggle/input/new-raw/clean_week2/test/test_week2.csv\"\n",
    "    ],\n",
    "    \"week3\": [\n",
    "        \"/kaggle/input/new-raw/clean_week3/test/test_week3.csv\"\n",
    "    ],\n",
    "    \"week4\": [\n",
    "        \"/kaggle/input/new-raw/clean_week4/test/test_week4.csv\"\n",
    "    ]\n",
    "}"
   ]
  },
  {
   "cell_type": "code",
   "execution_count": 2,
   "id": "32101426",
   "metadata": {
    "execution": {
     "iopub.execute_input": "2024-12-21T14:34:19.413313Z",
     "iopub.status.busy": "2024-12-21T14:34:19.412949Z",
     "iopub.status.idle": "2024-12-21T14:34:22.117009Z",
     "shell.execute_reply": "2024-12-21T14:34:22.116173Z"
    },
    "papermill": {
     "duration": 2.710845,
     "end_time": "2024-12-21T14:34:22.118752",
     "exception": false,
     "start_time": "2024-12-21T14:34:19.407907",
     "status": "completed"
    },
    "tags": []
   },
   "outputs": [],
   "source": [
    "from imblearn.over_sampling import SMOTE\n",
    "from sklearn.model_selection import train_test_split\n",
    "import pandas as pd\n",
    "from sklearn.model_selection import GridSearchCV\n",
    "from sklearn.model_selection import StratifiedKFold\n",
    "import time\n",
    "from sklearn.preprocessing import StandardScaler\n",
    "from sklearn.metrics import accuracy_score, classification_report, confusion_matrix, precision_recall_fscore_support\n",
    "from sklearn.neighbors import KNeighborsClassifier\n",
    "import numpy as np"
   ]
  },
  {
   "cell_type": "markdown",
   "id": "bcabdc85",
   "metadata": {
    "papermill": {
     "duration": 0.003968,
     "end_time": "2024-12-21T14:34:22.127271",
     "exception": false,
     "start_time": "2024-12-21T14:34:22.123303",
     "status": "completed"
    },
    "tags": []
   },
   "source": [
    "## Tìm siêu tham số tốt nhất cho từng tuần"
   ]
  },
  {
   "cell_type": "code",
   "execution_count": 3,
   "id": "c6e8337c",
   "metadata": {
    "execution": {
     "iopub.execute_input": "2024-12-21T14:34:22.137153Z",
     "iopub.status.busy": "2024-12-21T14:34:22.136645Z",
     "iopub.status.idle": "2024-12-21T14:34:22.144196Z",
     "shell.execute_reply": "2024-12-21T14:34:22.143194Z"
    },
    "papermill": {
     "duration": 0.014359,
     "end_time": "2024-12-21T14:34:22.145784",
     "exception": false,
     "start_time": "2024-12-21T14:34:22.131425",
     "status": "completed"
    },
    "tags": []
   },
   "outputs": [],
   "source": [
    "# Tạo hàm train cho từng tuần\n",
    "def train_week_model(week_number, file_paths_train, file_validation):\n",
    "       # Đọc dữ liệu\n",
    "    train_data = pd.read_csv(file_paths_train)\n",
    "    val_data = pd.read_csv(file_validation)\n",
    "    \n",
    "    # Tách đặc trưng và nhãn\n",
    "    X_train = train_data.drop(columns=[\"classification_encoded\", \"user_id\", \"course_id\", \"school\", \"enroll_time\", \"classification\"])\n",
    "    y_train = train_data[\"classification_encoded\"]\n",
    "\n",
    "    X_val = val_data.drop(columns=[\"classification_encoded\", \"user_id\", \"course_id\", \"school\", \"enroll_time\", \"classification\"])\n",
    "    y_val = val_data[\"classification_encoded\"]\n",
    "    \n",
    "    # Áp dụng Over-sampling cho dữ liệu huấn luyện bằng SMOTE\n",
    "    oversampler = SMOTE(sampling_strategy='auto', random_state=42)\n",
    "    X_train_res, y_train_res = oversampler.fit_resample(X_train, y_train)\n",
    "    \n",
    "    model = KNeighborsClassifier()\n",
    "\n",
    "    param_grid = {\n",
    "        'n_neighbors': [3, 5, 7, 9],  # Số lượng hàng xóm gần nhất\n",
    "        'weights': ['uniform', 'distance'],  # Trọng số cho hàng xóm\n",
    "        'metric': ['euclidean', 'manhattan', 'minkowski']  # Khoảng cách sử dụng\n",
    "    }\n",
    "    # param_grid = {\n",
    "    #     'n_neighbors': [3],  # Số lượng hàng xóm gần nhất\n",
    "    #     'weights': ['uniform'],  # Trọng số cho hàng xóm\n",
    "    #     'metric': ['euclidean']  # Khoảng cách sử dụng\n",
    "    # }\n",
    "    # Khởi tạo RandomSearch tuner\n",
    "    grid_search = GridSearchCV(estimator=model, param_grid=param_grid, cv=10, scoring='accuracy',\n",
    "                              verbose=2, n_jobs=-1)\n",
    "        \n",
    "    \n",
    "   # Huấn luyện mô hình với các siêu tham số tốt nhất\n",
    "    grid_search.fit(X_train_res, y_train_res)\n",
    "\n",
    "    # Đánh giá mô hình\n",
    "    best_model = grid_search.best_estimator_\n",
    "    y_pred = best_model.predict(X_val)\n",
    "    # Trả về kết quả tối ưu cho tuần\n",
    "    best_params = grid_search.best_params_\n",
    "    return best_params"
   ]
  },
  {
   "cell_type": "code",
   "execution_count": 4,
   "id": "9a15f48a",
   "metadata": {
    "execution": {
     "iopub.execute_input": "2024-12-21T14:34:22.155925Z",
     "iopub.status.busy": "2024-12-21T14:34:22.155599Z",
     "iopub.status.idle": "2024-12-21T14:34:22.159959Z",
     "shell.execute_reply": "2024-12-21T14:34:22.159021Z"
    },
    "papermill": {
     "duration": 0.011159,
     "end_time": "2024-12-21T14:34:22.161571",
     "exception": false,
     "start_time": "2024-12-21T14:34:22.150412",
     "status": "completed"
    },
    "tags": []
   },
   "outputs": [],
   "source": [
    "# Định nghĩa đường dẫn đến dữ liệu cho từng tuần\n",
    "file_paths_train = {\n",
    "    \"week1\": \"/kaggle/input/new-raw/clean_week1/train/clean_data_week1.csv\",\n",
    "    \"week2\": \"/kaggle/input/new-raw/clean_week2/train/clean_data_week2.csv\",\n",
    "    \"week3\": \"/kaggle/input/new-raw/clean_week3/train/clean_data_week3.csv\",\n",
    "    \"week4\": \"/kaggle/input/new-raw/clean_week4/train/clean_data_week4.csv\"\n",
    "}\n",
    "\n",
    "file_validation = {\n",
    "    \"week1\": \"/kaggle/input/new-raw/clean_week1/val/val_week1.csv\",\n",
    "    \"week2\": \"/kaggle/input/new-raw/clean_week2/val/val_week1_2.csv\",\n",
    "    \"week3\": \"/kaggle/input/new-raw/clean_week3/val/val_week1_2_3.csv\",\n",
    "    \"week4\": \"/kaggle/input/new-raw/clean_week4/val/val_week1_2_3_4.csv\"\n",
    "}"
   ]
  },
  {
   "cell_type": "code",
   "execution_count": 5,
   "id": "41f6fead",
   "metadata": {
    "execution": {
     "iopub.execute_input": "2024-12-21T14:34:22.171996Z",
     "iopub.status.busy": "2024-12-21T14:34:22.171670Z",
     "iopub.status.idle": "2024-12-21T14:48:28.092584Z",
     "shell.execute_reply": "2024-12-21T14:48:28.089234Z"
    },
    "papermill": {
     "duration": 845.930849,
     "end_time": "2024-12-21T14:48:28.096975",
     "exception": false,
     "start_time": "2024-12-21T14:34:22.166126",
     "status": "completed"
    },
    "tags": []
   },
   "outputs": [
    {
     "name": "stdout",
     "output_type": "stream",
     "text": [
      "Fitting 10 folds for each of 24 candidates, totalling 240 fits\n",
      "Fitting 10 folds for each of 24 candidates, totalling 240 fits\n",
      "Fitting 10 folds for each of 24 candidates, totalling 240 fits\n",
      "Fitting 10 folds for each of 24 candidates, totalling 240 fits\n",
      "Best Parameters for Week 1:\n",
      "metric: manhattan\n",
      "n_neighbors: 5\n",
      "weights: distance\n",
      "\n",
      "Best Parameters for Week 2:\n",
      "metric: manhattan\n",
      "n_neighbors: 3\n",
      "weights: distance\n",
      "\n",
      "Best Parameters for Week 3:\n",
      "metric: manhattan\n",
      "n_neighbors: 3\n",
      "weights: distance\n",
      "\n",
      "Best Parameters for Week 4:\n",
      "metric: manhattan\n",
      "n_neighbors: 3\n",
      "weights: distance\n"
     ]
    }
   ],
   "source": [
    "# Tìm tham số tốt nhất cho từng tuần\n",
    "best_params_week1 = train_week_model(1, file_paths_train[\"week1\"], file_validation[\"week1\"])\n",
    "best_params_week2 = train_week_model(2, file_paths_train[\"week2\"], file_validation[\"week2\"])\n",
    "best_params_week3 = train_week_model(3, file_paths_train[\"week3\"], file_validation[\"week3\"])\n",
    "best_params_week4 = train_week_model(4, file_paths_train[\"week4\"], file_validation[\"week4\"])\n",
    "\n",
    "# In thông tin chi tiết các tham số tối ưu\n",
    "print(\"Best Parameters for Week 1:\")\n",
    "for param_name, param_value in best_params_week1.items():\n",
    "       print(f\"{param_name}: {param_value}\")\n",
    "\n",
    "print(\"\\nBest Parameters for Week 2:\")\n",
    "for param_name, param_value in best_params_week2.items():\n",
    "       print(f\"{param_name}: {param_value}\")\n",
    "\n",
    "print(\"\\nBest Parameters for Week 3:\")\n",
    "for param_name, param_value in best_params_week3.items():\n",
    "       print(f\"{param_name}: {param_value}\")\n",
    "\n",
    "print(\"\\nBest Parameters for Week 4:\")\n",
    "for param_name, param_value in best_params_week4.items():\n",
    "       print(f\"{param_name}: {param_value}\")"
   ]
  },
  {
   "cell_type": "code",
   "execution_count": 6,
   "id": "e8c8b4ee",
   "metadata": {
    "execution": {
     "iopub.execute_input": "2024-12-21T14:48:28.108504Z",
     "iopub.status.busy": "2024-12-21T14:48:28.107874Z",
     "iopub.status.idle": "2024-12-21T14:48:28.112963Z",
     "shell.execute_reply": "2024-12-21T14:48:28.111990Z"
    },
    "papermill": {
     "duration": 0.012801,
     "end_time": "2024-12-21T14:48:28.114657",
     "exception": false,
     "start_time": "2024-12-21T14:48:28.101856",
     "status": "completed"
    },
    "tags": []
   },
   "outputs": [],
   "source": [
    "# Danh sách tham số tốt nhất\n",
    "best_params = {\n",
    "    \"week1\": best_params_week1,\n",
    "    \"week2\": best_params_week2,\n",
    "    \"week3\": best_params_week3,\n",
    "    \"week4\": best_params_week4\n",
    "}"
   ]
  },
  {
   "cell_type": "markdown",
   "id": "05df9f08",
   "metadata": {
    "papermill": {
     "duration": 0.004371,
     "end_time": "2024-12-21T14:48:28.123919",
     "exception": false,
     "start_time": "2024-12-21T14:48:28.119548",
     "status": "completed"
    },
    "tags": []
   },
   "source": [
    "## KNN với các tham sốt nhất cho mỗi tuần"
   ]
  },
  {
   "cell_type": "code",
   "execution_count": 7,
   "id": "b8fb503b",
   "metadata": {
    "execution": {
     "iopub.execute_input": "2024-12-21T14:48:28.134726Z",
     "iopub.status.busy": "2024-12-21T14:48:28.134371Z",
     "iopub.status.idle": "2024-12-21T14:48:37.401716Z",
     "shell.execute_reply": "2024-12-21T14:48:37.400748Z"
    },
    "papermill": {
     "duration": 9.274827,
     "end_time": "2024-12-21T14:48:37.403389",
     "exception": false,
     "start_time": "2024-12-21T14:48:28.128562",
     "status": "completed"
    },
    "tags": []
   },
   "outputs": [
    {
     "name": "stdout",
     "output_type": "stream",
     "text": [
      "\n",
      "Processing week1 with best parameters...\n",
      "best parameters for week1: {'metric': 'manhattan', 'n_neighbors': 5, 'weights': 'distance'}\n",
      "Fold 1: Using file /kaggle/input/new-raw/clean_week1/train/5-folds/data_part_1.csv as test set\n",
      "Fold 2: Using file /kaggle/input/new-raw/clean_week1/train/5-folds/data_part_2.csv as test set\n",
      "Fold 3: Using file /kaggle/input/new-raw/clean_week1/train/5-folds/data_part_3.csv as test set\n",
      "Fold 4: Using file /kaggle/input/new-raw/clean_week1/train/5-folds/data_part_4.csv as test set\n",
      "Fold 5: Using file /kaggle/input/new-raw/clean_week1/train/5-folds/data_part_5.csv as test set\n",
      "\n",
      "=== Average Precision, Recall, F1-Score per Label ===\n",
      "   Label  Average Precision  Average Recall  Average F1-Score\n",
      "0      0           0.752412        0.826000          0.787394\n",
      "1      1           0.638690        0.538871          0.583361\n",
      "2      2           0.685275        0.563230          0.615914\n",
      "3      3           0.716783        0.655090          0.683605\n",
      "4      4           0.912435        0.910814          0.911600\n",
      "\n",
      "=== Average Confusion Matrix ===\n",
      "       0     1     2      3       4\n",
      "0  495.6  12.6  15.8    5.4    70.6\n",
      "1   23.8  47.2   3.6    3.4     9.6\n",
      "2   38.8   4.8  92.6    6.4    21.8\n",
      "3   12.0   2.8   4.6  109.4    38.2\n",
      "4   88.6   7.0  19.2   28.2  1460.4\n",
      "\n",
      "Processing week2 with best parameters...\n",
      "best parameters for week2: {'metric': 'manhattan', 'n_neighbors': 3, 'weights': 'distance'}\n",
      "Fold 1: Using file /kaggle/input/new-raw/clean_week2/train/5-folds/data_part_1.csv as test set\n",
      "Fold 2: Using file /kaggle/input/new-raw/clean_week2/train/5-folds/data_part_2.csv as test set\n",
      "Fold 3: Using file /kaggle/input/new-raw/clean_week2/train/5-folds/data_part_3.csv as test set\n",
      "Fold 4: Using file /kaggle/input/new-raw/clean_week2/train/5-folds/data_part_4.csv as test set\n",
      "Fold 5: Using file /kaggle/input/new-raw/clean_week2/train/5-folds/data_part_5.csv as test set\n",
      "\n",
      "=== Average Precision, Recall, F1-Score per Label ===\n",
      "   Label  Average Precision  Average Recall  Average F1-Score\n",
      "0      0           0.765598        0.816000          0.789962\n",
      "1      1           0.579838        0.511442          0.541667\n",
      "2      2           0.634877        0.554656          0.591022\n",
      "3      3           0.677502        0.650299          0.662523\n",
      "4      4           0.915939        0.914431          0.915173\n",
      "\n",
      "=== Average Confusion Matrix ===\n",
      "       0     1     2      3       4\n",
      "0  489.6  16.6  21.2    6.8    65.8\n",
      "1   25.0  44.8   4.6    4.0     9.2\n",
      "2   37.0   5.0  91.2    7.2    24.0\n",
      "3   11.8   4.2   6.8  108.6    35.6\n",
      "4   76.2   7.4  19.8   33.8  1466.2\n",
      "\n",
      "Processing week3 with best parameters...\n",
      "best parameters for week3: {'metric': 'manhattan', 'n_neighbors': 3, 'weights': 'distance'}\n",
      "Fold 1: Using file /kaggle/input/new-raw/clean_week3/train/5-folds/data_part_1.csv as test set\n",
      "Fold 2: Using file /kaggle/input/new-raw/clean_week3/train/5-folds/data_part_2.csv as test set\n",
      "Fold 3: Using file /kaggle/input/new-raw/clean_week3/train/5-folds/data_part_3.csv as test set\n",
      "Fold 4: Using file /kaggle/input/new-raw/clean_week3/train/5-folds/data_part_4.csv as test set\n",
      "Fold 5: Using file /kaggle/input/new-raw/clean_week3/train/5-folds/data_part_5.csv as test set\n",
      "\n",
      "=== Average Precision, Recall, F1-Score per Label ===\n",
      "   Label  Average Precision  Average Recall  Average F1-Score\n",
      "0      0           0.771803        0.808000          0.789422\n",
      "1      1           0.579687        0.536573          0.556747\n",
      "2      2           0.622611        0.543695          0.579499\n",
      "3      3           0.697787        0.634731          0.664047\n",
      "4      4           0.917558        0.925657          0.921572\n",
      "\n",
      "=== Average Confusion Matrix ===\n",
      "       0     1     2      3       4\n",
      "0  484.8  17.2  23.0    8.4    66.6\n",
      "1   26.2  47.0   4.2    3.0     7.2\n",
      "2   36.0   6.8  89.4    8.6    23.6\n",
      "3   12.2   3.6   9.2  106.0    36.0\n",
      "4   69.0   6.6  17.8   25.8  1484.2\n",
      "\n",
      "Processing week4 with best parameters...\n",
      "best parameters for week4: {'metric': 'manhattan', 'n_neighbors': 3, 'weights': 'distance'}\n",
      "Fold 1: Using file /kaggle/input/new-raw/clean_week4/train/5-folds/data_part_1.csv as test set\n",
      "Fold 2: Using file /kaggle/input/new-raw/clean_week4/train/5-folds/data_part_2.csv as test set\n",
      "Fold 3: Using file /kaggle/input/new-raw/clean_week4/train/5-folds/data_part_3.csv as test set\n",
      "Fold 4: Using file /kaggle/input/new-raw/clean_week4/train/5-folds/data_part_4.csv as test set\n",
      "Fold 5: Using file /kaggle/input/new-raw/clean_week4/train/5-folds/data_part_5.csv as test set\n",
      "\n",
      "=== Average Precision, Recall, F1-Score per Label ===\n",
      "   Label  Average Precision  Average Recall  Average F1-Score\n",
      "0      0           0.786777        0.809333          0.797857\n",
      "1      1           0.573044        0.500052          0.533382\n",
      "2      2           0.598907        0.522971          0.557460\n",
      "3      3           0.712528        0.629940          0.667907\n",
      "4      4           0.915033        0.934389          0.924586\n",
      "\n",
      "=== Average Confusion Matrix ===\n",
      "       0     1     2      3       4\n",
      "0  485.6  15.6  24.6    7.6    66.6\n",
      "1   26.0  43.8   5.0    3.2     9.6\n",
      "2   36.2   7.6  86.0    9.6    25.0\n",
      "3   12.0   3.4   8.4  105.2    38.0\n",
      "4   57.4   6.6  19.2   22.0  1498.2\n"
     ]
    }
   ],
   "source": [
    "# Biến lưu kết quả tổng quát\n",
    "overall_results_5folds = []\n",
    "\n",
    "# Lặp qua từng tuần\n",
    "for week, file_paths in five_fold_files.items():\n",
    "    print(f\"\\nProcessing {week} with best parameters...\")\n",
    "    params = best_params[week]\n",
    "    print(f\"best parameters for {week}: {params}\")\n",
    "    \n",
    "    # Biến lưu kết quả cho từng tuần\n",
    "    week_results = {\n",
    "        \"week\": week,\n",
    "        \"accuracy_per_fold\": [],\n",
    "        \"precision_per_label\": [],\n",
    "        \"recall_per_label\": [],\n",
    "        \"f1_score_per_label\": [],\n",
    "        \"confusion_matrices\": [],\n",
    "        \"train_times\": [],\n",
    "        \"test_times\": []\n",
    "    }\n",
    "\n",
    "    # Lặp qua từng fold\n",
    "    for i in range(len(file_paths)):\n",
    "        print(f\"Fold {i+1}: Using file {file_paths[i]} as test set\")\n",
    "        \n",
    "        # Tải dữ liệu\n",
    "        test_data = pd.read_csv(file_paths[i])\n",
    "        train_data = pd.concat([pd.read_csv(file_paths[j]) for j in range(len(file_paths)) if j != i])\n",
    "        \n",
    "        # Tách X và y\n",
    "        X_train = train_data.drop(columns=[\"classification_encoded\", \"user_id\",\n",
    "                                           \"course_id\", \"school\", \"enroll_time\", \"classification\"])\n",
    "        y_train = train_data['classification_encoded']\n",
    "        \n",
    "        X_test = test_data.drop(columns=[\"classification_encoded\", \"user_id\",\n",
    "                                         \"course_id\", \"school\", \"enroll_time\", \"classification\"])\n",
    "        y_test = test_data['classification_encoded']\n",
    "\n",
    "\n",
    "        # Xây dựng mô hình với tham số tốt nhất\n",
    "        model = KNeighborsClassifier(**params)\n",
    "        \n",
    "        # Bắt đầu tính thời gian huấn luyện\n",
    "        start_train = time.time()\n",
    "        model.fit(X_train, y_train)\n",
    "        end_train = time.time()\n",
    "        \n",
    "        # Bắt đầu tính thời gian kiểm thử\n",
    "        start_test = time.time()\n",
    "        y_pred = model.predict(X_test)\n",
    "        end_test = time.time()\n",
    "        \n",
    "        # Tính thời gian và lưu lại\n",
    "        train_time = end_train - start_train\n",
    "        test_time = end_test - start_test\n",
    "        week_results[\"train_times\"].append(train_time)\n",
    "        week_results[\"test_times\"].append(test_time)\n",
    "\n",
    "        # Đánh giá mô hình trên tập kiểm thử của fold hiện tại\n",
    "        accuracy = accuracy_score(y_test, y_pred)\n",
    "        week_results[\"accuracy_per_fold\"].append(accuracy)\n",
    "        # Dự đoán\n",
    "\n",
    "        \n",
    "        # Tính các chỉ số cho mỗi fold\n",
    "        precision, recall, f1, _ = precision_recall_fscore_support(y_test, y_pred, average=None)\n",
    "        conf_matrix = confusion_matrix(y_test, y_pred)\n",
    "        \n",
    "        week_results[\"precision_per_label\"].append(precision)\n",
    "        week_results[\"recall_per_label\"].append(recall)\n",
    "        week_results[\"f1_score_per_label\"].append(f1)\n",
    "        week_results[\"confusion_matrices\"].append(conf_matrix)\n",
    "\n",
    "    # Tính trung bình cho từng nhãn\n",
    "    average_precision_per_label = np.mean(week_results[\"precision_per_label\"], axis=0)\n",
    "    average_recall_per_label = np.mean(week_results[\"recall_per_label\"], axis=0)\n",
    "    average_f1_per_label = np.mean(week_results[\"f1_score_per_label\"], axis=0)\n",
    "    average_confusion_matrix = np.mean(week_results[\"confusion_matrices\"], axis=0)\n",
    "    average_train_time = sum(week_results[\"train_times\"]) / len(week_results[\"train_times\"])\n",
    "    average_test_time = sum(week_results[\"test_times\"]) / len(week_results[\"test_times\"])\n",
    "    \n",
    "    # Tạo DataFrame cho precision, recall, f1-score\n",
    "    labels = np.unique(y_test)  # Lấy nhãn từ y_test_classes\n",
    "    metrics_df = pd.DataFrame({\n",
    "        \"Label\": labels,\n",
    "        \"Average Precision\": average_precision_per_label,\n",
    "        \"Average Recall\": average_recall_per_label,\n",
    "        \"Average F1-Score\": average_f1_per_label\n",
    "    })\n",
    "    \n",
    "    # Tạo DataFrame cho confusion matrix|\n",
    "    confusion_df = pd.DataFrame(average_confusion_matrix, index=labels, columns=labels)\n",
    "    \n",
    "    # In kết quả\n",
    "    print(\"\\n=== Average Precision, Recall, F1-Score per Label ===\")\n",
    "    print(metrics_df)\n",
    "    print(\"\\n=== Average Confusion Matrix ===\")\n",
    "    print(confusion_df)\n",
    "\n",
    "    # Lưu kết quả tuần vào kết quả tổng quát\n",
    "    week_results[\"average_train_times\"] = average_train_time\n",
    "    week_results[\"average_test_times\"] = average_test_time\n",
    "    week_results[\"average_metrics_df\"] = metrics_df\n",
    "    week_results[\"average_confusion_matrix\"] = confusion_df\n",
    "    overall_results_5folds.append(week_results)"
   ]
  },
  {
   "cell_type": "markdown",
   "id": "e66840d1",
   "metadata": {
    "papermill": {
     "duration": 0.005501,
     "end_time": "2024-12-21T14:48:37.414962",
     "exception": false,
     "start_time": "2024-12-21T14:48:37.409461",
     "status": "completed"
    },
    "tags": []
   },
   "source": [
    "## Kết quả 5-folds"
   ]
  },
  {
   "cell_type": "code",
   "execution_count": 8,
   "id": "78b4c0ae",
   "metadata": {
    "execution": {
     "iopub.execute_input": "2024-12-21T14:48:37.428232Z",
     "iopub.status.busy": "2024-12-21T14:48:37.427833Z",
     "iopub.status.idle": "2024-12-21T14:48:37.456406Z",
     "shell.execute_reply": "2024-12-21T14:48:37.455215Z"
    },
    "papermill": {
     "duration": 0.037448,
     "end_time": "2024-12-21T14:48:37.458355",
     "exception": false,
     "start_time": "2024-12-21T14:48:37.420907",
     "status": "completed"
    },
    "tags": []
   },
   "outputs": [
    {
     "name": "stdout",
     "output_type": "stream",
     "text": [
      "\n",
      "=== Results for week1 ===\n",
      "Average Train Time: 0.0153 seconds\n",
      "Average Test Time: 0.0454 seconds\n",
      "\n",
      "Average Precision, Recall, F1-Score per Label:\n",
      "   Label  Average Precision  Average Recall  Average F1-Score\n",
      "0      0           0.752412        0.826000          0.787394\n",
      "1      1           0.638690        0.538871          0.583361\n",
      "2      2           0.685275        0.563230          0.615914\n",
      "3      3           0.716783        0.655090          0.683605\n",
      "4      4           0.912435        0.910814          0.911600\n",
      "\n",
      "Average Confusion Matrix:\n",
      "       0     1     2      3       4\n",
      "0  495.6  12.6  15.8    5.4    70.6\n",
      "1   23.8  47.2   3.6    3.4     9.6\n",
      "2   38.8   4.8  92.6    6.4    21.8\n",
      "3   12.0   2.8   4.6  109.4    38.2\n",
      "4   88.6   7.0  19.2   28.2  1460.4\n",
      "\n",
      "=== Results for week2 ===\n",
      "Average Train Time: 0.0032 seconds\n",
      "Average Test Time: 0.3632 seconds\n",
      "\n",
      "Average Precision, Recall, F1-Score per Label:\n",
      "   Label  Average Precision  Average Recall  Average F1-Score\n",
      "0      0           0.765598        0.816000          0.789962\n",
      "1      1           0.579838        0.511442          0.541667\n",
      "2      2           0.634877        0.554656          0.591022\n",
      "3      3           0.677502        0.650299          0.662523\n",
      "4      4           0.915939        0.914431          0.915173\n",
      "\n",
      "Average Confusion Matrix:\n",
      "       0     1     2      3       4\n",
      "0  489.6  16.6  21.2    6.8    65.8\n",
      "1   25.0  44.8   4.6    4.0     9.2\n",
      "2   37.0   5.0  91.2    7.2    24.0\n",
      "3   11.8   4.2   6.8  108.6    35.6\n",
      "4   76.2   7.4  19.8   33.8  1466.2\n",
      "\n",
      "=== Results for week3 ===\n",
      "Average Train Time: 0.0037 seconds\n",
      "Average Test Time: 0.4704 seconds\n",
      "\n",
      "Average Precision, Recall, F1-Score per Label:\n",
      "   Label  Average Precision  Average Recall  Average F1-Score\n",
      "0      0           0.771803        0.808000          0.789422\n",
      "1      1           0.579687        0.536573          0.556747\n",
      "2      2           0.622611        0.543695          0.579499\n",
      "3      3           0.697787        0.634731          0.664047\n",
      "4      4           0.917558        0.925657          0.921572\n",
      "\n",
      "Average Confusion Matrix:\n",
      "       0     1     2      3       4\n",
      "0  484.8  17.2  23.0    8.4    66.6\n",
      "1   26.2  47.0   4.2    3.0     7.2\n",
      "2   36.0   6.8  89.4    8.6    23.6\n",
      "3   12.2   3.6   9.2  106.0    36.0\n",
      "4   69.0   6.6  17.8   25.8  1484.2\n",
      "\n",
      "=== Results for week4 ===\n",
      "Average Train Time: 0.0050 seconds\n",
      "Average Test Time: 0.5901 seconds\n",
      "\n",
      "Average Precision, Recall, F1-Score per Label:\n",
      "   Label  Average Precision  Average Recall  Average F1-Score\n",
      "0      0           0.786777        0.809333          0.797857\n",
      "1      1           0.573044        0.500052          0.533382\n",
      "2      2           0.598907        0.522971          0.557460\n",
      "3      3           0.712528        0.629940          0.667907\n",
      "4      4           0.915033        0.934389          0.924586\n",
      "\n",
      "Average Confusion Matrix:\n",
      "       0     1     2      3       4\n",
      "0  485.6  15.6  24.6    7.6    66.6\n",
      "1   26.0  43.8   5.0    3.2     9.6\n",
      "2   36.2   7.6  86.0    9.6    25.0\n",
      "3   12.0   3.4   8.4  105.2    38.0\n",
      "4   57.4   6.6  19.2   22.0  1498.2\n"
     ]
    }
   ],
   "source": [
    "# Duyệt qua các tuần trong overall_results\n",
    "for week_result in overall_results_5folds:\n",
    "    week = week_result[\"week\"]\n",
    "    average_train_time = np.mean(week_result[\"train_times\"])\n",
    "    average_test_time = np.mean(week_result[\"test_times\"])\n",
    "    average_metrics_df = week_result[\"average_metrics_df\"]\n",
    "    average_confusion_matrix = week_result[\"average_confusion_matrix\"]\n",
    "    \n",
    "    # In kết quả\n",
    "    print(f\"\\n=== Results for {week} ===\")\n",
    "    print(f\"Average Train Time: {average_train_time:.4f} seconds\")\n",
    "    print(f\"Average Test Time: {average_test_time:.4f} seconds\")\n",
    "    print(\"\\nAverage Precision, Recall, F1-Score per Label:\")\n",
    "    print(average_metrics_df)\n",
    "    print(\"\\nAverage Confusion Matrix:\")\n",
    "    print(average_confusion_matrix)\n"
   ]
  },
  {
   "cell_type": "markdown",
   "id": "6c594fd9",
   "metadata": {
    "papermill": {
     "duration": 0.005966,
     "end_time": "2024-12-21T14:48:37.470605",
     "exception": false,
     "start_time": "2024-12-21T14:48:37.464639",
     "status": "completed"
    },
    "tags": []
   },
   "source": [
    "## Test trên tập test"
   ]
  },
  {
   "cell_type": "code",
   "execution_count": 9,
   "id": "f47f9fc4",
   "metadata": {
    "execution": {
     "iopub.execute_input": "2024-12-21T14:48:37.484003Z",
     "iopub.status.busy": "2024-12-21T14:48:37.483666Z",
     "iopub.status.idle": "2024-12-21T14:48:37.492679Z",
     "shell.execute_reply": "2024-12-21T14:48:37.491716Z"
    },
    "papermill": {
     "duration": 0.017563,
     "end_time": "2024-12-21T14:48:37.494291",
     "exception": false,
     "start_time": "2024-12-21T14:48:37.476728",
     "status": "completed"
    },
    "tags": []
   },
   "outputs": [],
   "source": [
    "# Mảng lưu dữ liệu của các tuần\n",
    "results = []\n",
    "\n",
    "def process_week(week_num, best_params, results):\n",
    "    print(f\"\\n=== Processing Week {week_num} ===\")\n",
    "    params = best_params[week]\n",
    "    # Đường dẫn tới dữ liệu tuần tương ứng\n",
    "    train_path = f\"/kaggle/input/new-raw/clean_week{week_num}/train/clean_data_week{week_num}.csv\"\n",
    "    test_path = f\"/kaggle/input/new-raw/clean_week{week_num}/test/test_week{week_num}.csv\"\n",
    "    \n",
    "    # Load dữ liệu\n",
    "    train_data = pd.read_csv(train_path)\n",
    "    test_data = pd.read_csv(test_path)\n",
    "    \n",
    "    # Tách X và y\n",
    "    X_train = train_data.drop(columns=[\"classification_encoded\", \"user_id\",\n",
    "                                       \"course_id\", \"school\", \"enroll_time\", \"classification\"])\n",
    "    y_train = train_data['classification_encoded']\n",
    "    \n",
    "    X_test = test_data.drop(columns=[\"classification_encoded\", \"user_id\",\n",
    "                                     \"course_id\", \"school\", \"enroll_time\", \"classification\"])\n",
    "    y_test = test_data['classification_encoded']\n",
    "\n",
    "    # Áp dụng SMOTE cho tập huấn luyện\n",
    "    smote = SMOTE(random_state=42)\n",
    "    X_train_resampled, y_train_resampled = smote.fit_resample(X_train, y_train)\n",
    "\n",
    "    # Xây dựng mô hình với tham số tốt nhất\n",
    "    model = KNeighborsClassifier(**params)\n",
    "    \n",
    "    # Huấn luyện mô hình\n",
    "    start_train = time.time()\n",
    "    model.fit(X_train, y_train)\n",
    "    end_train = time.time()\n",
    "    \n",
    "    # Kiểm thử mô hình\n",
    "    start_test = time.time()\n",
    "    y_pred = model.predict(X_test)\n",
    "    end_test = time.time()\n",
    "    \n",
    "    # Tính thời gian huấn luyện và kiểm thử\n",
    "    train_time = end_train - start_train\n",
    "    test_time = end_test - start_test\n",
    "    \n",
    "    \n",
    "    precision, recall, f1, _ = precision_recall_fscore_support(y_test, y_pred, average=None)\n",
    "    conf_matrix = confusion_matrix(y_test, y_pred)\n",
    "    \n",
    "    # Lưu kết quả vào mảng\n",
    "    results.append({\n",
    "        \"week\": week_num,\n",
    "        \"train_time\": train_time,\n",
    "        \"test_time\": test_time,\n",
    "        \"precision\": precision,\n",
    "        \"recall\": recall,\n",
    "        \"f1_score\": f1,\n",
    "        \"confusion_matrix\": conf_matrix\n",
    "    })\n",
    "    \n",
    "    print(\"\\n=== Precision, Recall, F1-Score per Label ===\")\n",
    "    print(pd.DataFrame({\n",
    "        \"Label\": np.unique(y_test),\n",
    "        \"Precision\": precision,\n",
    "        \"Recall\": recall,\n",
    "        \"F1-Score\": f1\n",
    "    }))\n",
    "    print(\"\\n=== Confusion Matrix ===\")\n",
    "    print(pd.DataFrame(conf_matrix, index=np.unique(y_test), columns=np.unique(y_test)))\n",
    "    \n",
    "    print(f\"\\nTrain Time: {train_time:.2f} seconds\")\n",
    "    print(f\"Test Time: {test_time:.2f} seconds\")"
   ]
  },
  {
   "cell_type": "code",
   "execution_count": 10,
   "id": "bdd07aae",
   "metadata": {
    "execution": {
     "iopub.execute_input": "2024-12-21T14:48:37.507477Z",
     "iopub.status.busy": "2024-12-21T14:48:37.507114Z",
     "iopub.status.idle": "2024-12-21T14:48:37.704606Z",
     "shell.execute_reply": "2024-12-21T14:48:37.703292Z"
    },
    "papermill": {
     "duration": 0.205965,
     "end_time": "2024-12-21T14:48:37.706386",
     "exception": false,
     "start_time": "2024-12-21T14:48:37.500421",
     "status": "completed"
    },
    "tags": []
   },
   "outputs": [
    {
     "name": "stdout",
     "output_type": "stream",
     "text": [
      "\n",
      "=== Processing Week 1 ===\n",
      "\n",
      "=== Precision, Recall, F1-Score per Label ===\n",
      "   Label  Precision    Recall  F1-Score\n",
      "0      0   0.729730  0.792000  0.759591\n",
      "1      1   0.547170  0.537037  0.542056\n",
      "2      2   0.610526  0.563107  0.585859\n",
      "3      3   0.578947  0.628571  0.602740\n",
      "4      4   0.915551  0.886341  0.900709\n",
      "\n",
      "=== Confusion Matrix ===\n",
      "     0   1   2   3    4\n",
      "0  297   9  16  11   42\n",
      "1   17  29   3   1    4\n",
      "2   27   2  58   4   12\n",
      "3   11   2   2  66   24\n",
      "4   55  11  16  32  889\n",
      "\n",
      "Train Time: 0.02 seconds\n",
      "Test Time: 0.03 seconds\n"
     ]
    }
   ],
   "source": [
    "process_week(1, best_params, results)"
   ]
  },
  {
   "cell_type": "code",
   "execution_count": 11,
   "id": "ed25e8bf",
   "metadata": {
    "execution": {
     "iopub.execute_input": "2024-12-21T14:48:37.721479Z",
     "iopub.status.busy": "2024-12-21T14:48:37.721138Z",
     "iopub.status.idle": "2024-12-21T14:48:38.169906Z",
     "shell.execute_reply": "2024-12-21T14:48:38.169112Z"
    },
    "papermill": {
     "duration": 0.458407,
     "end_time": "2024-12-21T14:48:38.171743",
     "exception": false,
     "start_time": "2024-12-21T14:48:37.713336",
     "status": "completed"
    },
    "tags": []
   },
   "outputs": [
    {
     "name": "stdout",
     "output_type": "stream",
     "text": [
      "\n",
      "=== Processing Week 2 ===\n",
      "\n",
      "=== Precision, Recall, F1-Score per Label ===\n",
      "   Label  Precision    Recall  F1-Score\n",
      "0      0   0.748130  0.800000  0.773196\n",
      "1      1   0.563636  0.574074  0.568807\n",
      "2      2   0.614583  0.572816  0.592965\n",
      "3      3   0.580952  0.580952  0.580952\n",
      "4      4   0.918616  0.900299  0.909366\n",
      "\n",
      "=== Confusion Matrix ===\n",
      "     0   1   2   3    4\n",
      "0  300  11  14   9   41\n",
      "1   15  31   3   1    4\n",
      "2   24   4  59   5   11\n",
      "3    9   3   8  61   24\n",
      "4   53   6  12  29  903\n",
      "\n",
      "Train Time: 0.00 seconds\n",
      "Test Time: 0.28 seconds\n"
     ]
    }
   ],
   "source": [
    "process_week(2, best_params, results)"
   ]
  },
  {
   "cell_type": "code",
   "execution_count": 12,
   "id": "ab8bd656",
   "metadata": {
    "execution": {
     "iopub.execute_input": "2024-12-21T14:48:38.185952Z",
     "iopub.status.busy": "2024-12-21T14:48:38.185605Z",
     "iopub.status.idle": "2024-12-21T14:48:38.737912Z",
     "shell.execute_reply": "2024-12-21T14:48:38.736465Z"
    },
    "papermill": {
     "duration": 0.561353,
     "end_time": "2024-12-21T14:48:38.739690",
     "exception": false,
     "start_time": "2024-12-21T14:48:38.178337",
     "status": "completed"
    },
    "tags": []
   },
   "outputs": [
    {
     "name": "stdout",
     "output_type": "stream",
     "text": [
      "\n",
      "=== Processing Week 3 ===\n",
      "\n",
      "=== Precision, Recall, F1-Score per Label ===\n",
      "   Label  Precision    Recall  F1-Score\n",
      "0      0   0.748111  0.792000  0.769430\n",
      "1      1   0.517241  0.555556  0.535714\n",
      "2      2   0.552083  0.514563  0.532663\n",
      "3      3   0.627451  0.609524  0.618357\n",
      "4      4   0.927052  0.912263  0.919598\n",
      "\n",
      "=== Confusion Matrix ===\n",
      "     0   1   2   3    4\n",
      "0  297  14  18  10   36\n",
      "1   17  30   3   1    3\n",
      "2   26   5  53   7   12\n",
      "3   10   3   7  64   21\n",
      "4   47   6  15  20  915\n",
      "\n",
      "Train Time: 0.00 seconds\n",
      "Test Time: 0.36 seconds\n"
     ]
    }
   ],
   "source": [
    "process_week(3, best_params, results)"
   ]
  },
  {
   "cell_type": "code",
   "execution_count": 13,
   "id": "9ae3310b",
   "metadata": {
    "execution": {
     "iopub.execute_input": "2024-12-21T14:48:38.754123Z",
     "iopub.status.busy": "2024-12-21T14:48:38.753720Z",
     "iopub.status.idle": "2024-12-21T14:48:39.429241Z",
     "shell.execute_reply": "2024-12-21T14:48:39.427825Z"
    },
    "papermill": {
     "duration": 0.684784,
     "end_time": "2024-12-21T14:48:39.431116",
     "exception": false,
     "start_time": "2024-12-21T14:48:38.746332",
     "status": "completed"
    },
    "tags": []
   },
   "outputs": [
    {
     "name": "stdout",
     "output_type": "stream",
     "text": [
      "\n",
      "=== Processing Week 4 ===\n",
      "\n",
      "=== Precision, Recall, F1-Score per Label ===\n",
      "   Label  Precision    Recall  F1-Score\n",
      "0      0   0.751880  0.800000  0.775194\n",
      "1      1   0.509804  0.481481  0.495238\n",
      "2      2   0.585106  0.533981  0.558376\n",
      "3      3   0.659794  0.609524  0.633663\n",
      "4      4   0.926927  0.923230  0.925075\n",
      "\n",
      "=== Confusion Matrix ===\n",
      "     0   1   2   3    4\n",
      "0  300  12  18  12   33\n",
      "1   18  26   5   1    4\n",
      "2   25   5  55   5   13\n",
      "3    9   3   6  64   23\n",
      "4   47   5  10  15  926\n",
      "\n",
      "Train Time: 0.00 seconds\n",
      "Test Time: 0.45 seconds\n"
     ]
    }
   ],
   "source": [
    "process_week(4, best_params, results)"
   ]
  },
  {
   "cell_type": "code",
   "execution_count": 14,
   "id": "0e2de858",
   "metadata": {
    "execution": {
     "iopub.execute_input": "2024-12-21T14:48:39.445822Z",
     "iopub.status.busy": "2024-12-21T14:48:39.445502Z",
     "iopub.status.idle": "2024-12-21T14:48:39.460327Z",
     "shell.execute_reply": "2024-12-21T14:48:39.459453Z"
    },
    "papermill": {
     "duration": 0.023954,
     "end_time": "2024-12-21T14:48:39.461998",
     "exception": false,
     "start_time": "2024-12-21T14:48:39.438044",
     "status": "completed"
    },
    "tags": []
   },
   "outputs": [
    {
     "name": "stdout",
     "output_type": "stream",
     "text": [
      "\n",
      "=== Summary Results for All Weeks ===\n",
      "Week 1:\n",
      "  Train Time: 0.02 seconds\n",
      "  Test Time: 0.03 seconds\n",
      "  Precision: [0.72972973 0.54716981 0.61052632 0.57894737 0.91555098]\n",
      "  Recall: [0.792      0.53703704 0.5631068  0.62857143 0.88634098]\n",
      "  F1-Score: [0.75959079 0.54205607 0.58585859 0.60273973 0.90070922]\n",
      "  Confusion Matrix:\n",
      "[[297   9  16  11  42]\n",
      " [ 17  29   3   1   4]\n",
      " [ 27   2  58   4  12]\n",
      " [ 11   2   2  66  24]\n",
      " [ 55  11  16  32 889]]\n",
      "Week 2:\n",
      "  Train Time: 0.00 seconds\n",
      "  Test Time: 0.28 seconds\n",
      "  Precision: [0.74812968 0.56363636 0.61458333 0.58095238 0.91861648]\n",
      "  Recall: [0.8        0.57407407 0.57281553 0.58095238 0.9002991 ]\n",
      "  F1-Score: [0.77319588 0.56880734 0.59296482 0.58095238 0.90936556]\n",
      "  Confusion Matrix:\n",
      "[[300  11  14   9  41]\n",
      " [ 15  31   3   1   4]\n",
      " [ 24   4  59   5  11]\n",
      " [  9   3   8  61  24]\n",
      " [ 53   6  12  29 903]]\n",
      "Week 3:\n",
      "  Train Time: 0.00 seconds\n",
      "  Test Time: 0.36 seconds\n",
      "  Precision: [0.74811083 0.51724138 0.55208333 0.62745098 0.92705167]\n",
      "  Recall: [0.792      0.55555556 0.51456311 0.60952381 0.91226321]\n",
      "  F1-Score: [0.76943005 0.53571429 0.53266332 0.61835749 0.91959799]\n",
      "  Confusion Matrix:\n",
      "[[297  14  18  10  36]\n",
      " [ 17  30   3   1   3]\n",
      " [ 26   5  53   7  12]\n",
      " [ 10   3   7  64  21]\n",
      " [ 47   6  15  20 915]]\n",
      "Week 4:\n",
      "  Train Time: 0.00 seconds\n",
      "  Test Time: 0.45 seconds\n",
      "  Precision: [0.7518797  0.50980392 0.58510638 0.65979381 0.92692693]\n",
      "  Recall: [0.8        0.48148148 0.53398058 0.60952381 0.92323031]\n",
      "  F1-Score: [0.7751938  0.4952381  0.55837563 0.63366337 0.92507493]\n",
      "  Confusion Matrix:\n",
      "[[300  12  18  12  33]\n",
      " [ 18  26   5   1   4]\n",
      " [ 25   5  55   5  13]\n",
      " [  9   3   6  64  23]\n",
      " [ 47   5  10  15 926]]\n"
     ]
    }
   ],
   "source": [
    "# Hiển thị dữ liệu của các tuần\n",
    "print(\"\\n=== Summary Results for All Weeks ===\")\n",
    "for result in results:\n",
    "    print(f\"Week {result['week']}:\")\n",
    "    print(f\"  Train Time: {result['train_time']:.2f} seconds\")\n",
    "    print(f\"  Test Time: {result['test_time']:.2f} seconds\")\n",
    "    print(f\"  Precision: {result['precision']}\")\n",
    "    print(f\"  Recall: {result['recall']}\")\n",
    "    print(f\"  F1-Score: {result['f1_score']}\")\n",
    "    print(f\"  Confusion Matrix:\\n{result['confusion_matrix']}\")"
   ]
  },
  {
   "cell_type": "code",
   "execution_count": null,
   "id": "56b41c6d",
   "metadata": {
    "papermill": {
     "duration": 0.006358,
     "end_time": "2024-12-21T14:48:39.475190",
     "exception": false,
     "start_time": "2024-12-21T14:48:39.468832",
     "status": "completed"
    },
    "tags": []
   },
   "outputs": [],
   "source": []
  }
 ],
 "metadata": {
  "kaggle": {
   "accelerator": "none",
   "dataSources": [
    {
     "datasetId": 6347294,
     "sourceId": 10260742,
     "sourceType": "datasetVersion"
    }
   ],
   "isGpuEnabled": false,
   "isInternetEnabled": true,
   "language": "python",
   "sourceType": "notebook"
  },
  "kernelspec": {
   "display_name": "Python 3",
   "language": "python",
   "name": "python3"
  },
  "language_info": {
   "codemirror_mode": {
    "name": "ipython",
    "version": 3
   },
   "file_extension": ".py",
   "mimetype": "text/x-python",
   "name": "python",
   "nbconvert_exporter": "python",
   "pygments_lexer": "ipython3",
   "version": "3.10.12"
  },
  "papermill": {
   "default_parameters": {},
   "duration": 863.175376,
   "end_time": "2024-12-21T14:48:40.305699",
   "environment_variables": {},
   "exception": null,
   "input_path": "__notebook__.ipynb",
   "output_path": "__notebook__.ipynb",
   "parameters": {},
   "start_time": "2024-12-21T14:34:17.130323",
   "version": "2.6.0"
  }
 },
 "nbformat": 4,
 "nbformat_minor": 5
}
